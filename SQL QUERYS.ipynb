{
 "cells": [
  {
   "cell_type": "code",
   "execution_count": 1,
   "id": "8614e572-20a3-4aed-8443-1baaae7aa8e5",
   "metadata": {},
   "outputs": [
    {
     "name": "stdout",
     "output_type": "stream",
     "text": [
      "Defaulting to user installation because normal site-packages is not writeable\n",
      "Collecting jupysql\n",
      "  Downloading jupysql-0.11.1-py3-none-any.whl (95 kB)\n",
      "\u001b[2K     \u001b[38;2;114;156;31m━━━━━━━━━━━━━━━━━━━━━━━━━━━━━━━━━━━━━━━━\u001b[0m \u001b[32m95.1/95.1 KB\u001b[0m \u001b[31m4.6 MB/s\u001b[0m eta \u001b[36m0:00:00\u001b[0m\n",
      "\u001b[?25hCollecting duckdb-engine\n",
      "  Downloading duckdb_engine-0.17.0-py3-none-any.whl (49 kB)\n",
      "\u001b[2K     \u001b[38;2;114;156;31m━━━━━━━━━━━━━━━━━━━━━━━━━━━━━━━━━━━━━━━━\u001b[0m \u001b[32m49.7/49.7 KB\u001b[0m \u001b[31m13.8 MB/s\u001b[0m eta \u001b[36m0:00:00\u001b[0m\n",
      "\u001b[?25hCollecting sqlglot>=11.3.7\n",
      "  Downloading sqlglot-27.27.0-py3-none-any.whl (523 kB)\n",
      "\u001b[2K     \u001b[38;2;114;156;31m━━━━━━━━━━━━━━━━━━━━━━━━━━━━━━━━━━━━━━━\u001b[0m \u001b[32m523.4/523.4 KB\u001b[0m \u001b[31m9.8 MB/s\u001b[0m eta \u001b[36m0:00:00\u001b[0m MB/s\u001b[0m eta \u001b[36m0:00:01\u001b[0m\n",
      "\u001b[?25hRequirement already satisfied: ipython-genutils>=0.1.0 in /usr/lib/python3/dist-packages (from jupysql) (0.2.0)\n",
      "Requirement already satisfied: jinja2 in /home/wallingson12/.local/lib/python3.10/site-packages (from jupysql) (3.1.6)\n",
      "Collecting prettytable>=3.12.0\n",
      "  Using cached prettytable-3.16.0-py3-none-any.whl (33 kB)\n",
      "Requirement already satisfied: sqlparse in /home/wallingson12/.local/lib/python3.10/site-packages (from jupysql) (0.5.3)\n",
      "Collecting ploomber-core>=0.2.7\n",
      "  Downloading ploomber_core-0.2.27-py3-none-any.whl (22 kB)\n",
      "Collecting jupysql-plugin>=0.4.2\n",
      "  Downloading jupysql_plugin-0.4.5-py3-none-any.whl (192 kB)\n",
      "\u001b[2K     \u001b[38;2;114;156;31m━━━━━━━━━━━━━━━━━━━━━━━━━━━━━━━━━━━━━━\u001b[0m \u001b[32m192.8/192.8 KB\u001b[0m \u001b[31m21.4 MB/s\u001b[0m eta \u001b[36m0:00:00\u001b[0m\n",
      "\u001b[?25hRequirement already satisfied: sqlalchemy in /home/wallingson12/.local/lib/python3.10/site-packages (from jupysql) (2.0.44)\n",
      "Requirement already satisfied: packaging>=21 in /home/wallingson12/.local/lib/python3.10/site-packages (from duckdb-engine) (25.0)\n",
      "Collecting duckdb>=0.5.0\n",
      "  Downloading duckdb-1.4.1-cp310-cp310-manylinux_2_27_x86_64.manylinux_2_28_x86_64.whl (20.5 MB)\n",
      "\u001b[2K     \u001b[38;2;114;156;31m━━━━━━━━━━━━━━━━━━━━━━━━━━━━━━━━━━━━━━━━\u001b[0m \u001b[32m20.5/20.5 MB\u001b[0m \u001b[31m15.9 MB/s\u001b[0m eta \u001b[36m0:00:00\u001b[0mm eta \u001b[36m0:00:01\u001b[0m0:01\u001b[0m:01\u001b[0m\n",
      "\u001b[?25hRequirement already satisfied: pyyaml in /usr/lib/python3/dist-packages (from ploomber-core>=0.2.7->jupysql) (5.4.1)\n",
      "Collecting posthog>=3.0\n",
      "  Downloading posthog-6.7.6-py3-none-any.whl (137 kB)\n",
      "\u001b[2K     \u001b[38;2;114;156;31m━━━━━━━━━━━━━━━━━━━━━━━━━━━━━━━━━━━━━━━\u001b[0m \u001b[32m137.3/137.3 KB\u001b[0m \u001b[31m4.7 MB/s\u001b[0m eta \u001b[36m0:00:00\u001b[0m\n",
      "\u001b[?25hRequirement already satisfied: wcwidth in /home/wallingson12/.local/lib/python3.10/site-packages (from prettytable>=3.12.0->jupysql) (0.2.14)\n",
      "Requirement already satisfied: typing-extensions>=4.6.0 in /home/wallingson12/.local/lib/python3.10/site-packages (from sqlalchemy->jupysql) (4.15.0)\n",
      "Requirement already satisfied: greenlet>=1 in /home/wallingson12/.local/lib/python3.10/site-packages (from sqlalchemy->jupysql) (3.2.4)\n",
      "Requirement already satisfied: MarkupSafe>=2.0 in /home/wallingson12/.local/lib/python3.10/site-packages (from jinja2->jupysql) (3.0.3)\n",
      "Requirement already satisfied: python-dateutil>=2.2 in /home/wallingson12/.local/lib/python3.10/site-packages (from posthog>=3.0->ploomber-core>=0.2.7->jupysql) (2.9.0.post0)\n",
      "Requirement already satisfied: requests<3.0,>=2.7 in /home/wallingson12/.local/lib/python3.10/site-packages (from posthog>=3.0->ploomber-core>=0.2.7->jupysql) (2.32.5)\n",
      "Requirement already satisfied: six>=1.5 in /usr/lib/python3/dist-packages (from posthog>=3.0->ploomber-core>=0.2.7->jupysql) (1.16.0)\n",
      "Requirement already satisfied: distro>=1.5.0 in /usr/lib/python3/dist-packages (from posthog>=3.0->ploomber-core>=0.2.7->jupysql) (1.7.0)\n",
      "Collecting backoff>=1.10.0\n",
      "  Downloading backoff-2.2.1-py3-none-any.whl (15 kB)\n",
      "Requirement already satisfied: idna<4,>=2.5 in /usr/lib/python3/dist-packages (from requests<3.0,>=2.7->posthog>=3.0->ploomber-core>=0.2.7->jupysql) (3.3)\n",
      "Requirement already satisfied: urllib3<3,>=1.21.1 in /usr/lib/python3/dist-packages (from requests<3.0,>=2.7->posthog>=3.0->ploomber-core>=0.2.7->jupysql) (1.26.5)\n",
      "Requirement already satisfied: certifi>=2017.4.17 in /usr/lib/python3/dist-packages (from requests<3.0,>=2.7->posthog>=3.0->ploomber-core>=0.2.7->jupysql) (2020.6.20)\n",
      "Requirement already satisfied: charset_normalizer<4,>=2 in /home/wallingson12/.local/lib/python3.10/site-packages (from requests<3.0,>=2.7->posthog>=3.0->ploomber-core>=0.2.7->jupysql) (3.4.3)\n",
      "Installing collected packages: sqlglot, prettytable, duckdb, backoff, posthog, duckdb-engine, ploomber-core, jupysql-plugin, jupysql\n",
      "  Attempting uninstall: prettytable\n",
      "    Found existing installation: prettytable 2.2.1\n",
      "    Uninstalling prettytable-2.2.1:\n",
      "      Successfully uninstalled prettytable-2.2.1\n",
      "Successfully installed backoff-2.2.1 duckdb-1.4.1 duckdb-engine-0.17.0 jupysql-0.11.1 jupysql-plugin-0.4.5 ploomber-core-0.2.27 posthog-6.7.6 prettytable-3.16.0 sqlglot-27.27.0\n"
     ]
    },
    {
     "name": "stderr",
     "output_type": "stream",
     "text": [
      "/home/wallingson12/.local/lib/python3.10/site-packages/matplotlib/projections/__init__.py:63: UserWarning: Unable to import Axes3D. This may be due to multiple versions of Matplotlib being installed (e.g. as a system package and as a pip package). As a result, the 3D projection is not available.\n",
      "  warnings.warn(\"Unable to import Axes3D. This may be due to multiple versions of \"\n"
     ]
    },
    {
     "data": {
      "text/html": [
       "<span style=\"None\">Connecting to &#x27;duckdb://&#x27;</span>"
      ],
      "text/plain": [
       "Connecting to 'duckdb://'"
      ]
     },
     "metadata": {},
     "output_type": "display_data"
    }
   ],
   "source": [
    "!pip install jupysql duckdb-engine\n",
    "%load_ext sql\n",
    "\n",
    "%sql duckdb://"
   ]
  },
  {
   "cell_type": "code",
   "execution_count": 2,
   "id": "0c5608eb-ac2d-4eb5-862e-084e1869aa82",
   "metadata": {},
   "outputs": [
    {
     "data": {
      "text/html": [
       "<span style=\"None\">Running query in &#x27;duckdb://&#x27;</span>"
      ],
      "text/plain": [
       "Running query in 'duckdb://'"
      ]
     },
     "metadata": {},
     "output_type": "display_data"
    },
    {
     "data": {
      "text/html": [
       "<table>\n",
       "    <thead>\n",
       "        <tr>\n",
       "            <th>Count</th>\n",
       "        </tr>\n",
       "    </thead>\n",
       "    <tbody>\n",
       "    </tbody>\n",
       "</table>"
      ],
      "text/plain": [
       "+-------+\n",
       "| Count |\n",
       "+-------+\n",
       "+-------+"
      ]
     },
     "execution_count": 2,
     "metadata": {},
     "output_type": "execute_result"
    }
   ],
   "source": [
    "%%sql\n",
    "CREATE TABLE exemplo (\n",
    "    id INTEGER PRIMARY KEY,\n",
    "    nome VARCHAR,\n",
    "    idade INTEGER\n",
    ");\n"
   ]
  },
  {
   "cell_type": "code",
   "execution_count": 3,
   "id": "2ed3fff6-1272-402e-8959-01ecc7903e54",
   "metadata": {},
   "outputs": [
    {
     "data": {
      "text/html": [
       "<span style=\"None\">Running query in &#x27;duckdb://&#x27;</span>"
      ],
      "text/plain": [
       "Running query in 'duckdb://'"
      ]
     },
     "metadata": {},
     "output_type": "display_data"
    },
    {
     "data": {
      "text/html": [
       "<table>\n",
       "    <thead>\n",
       "        <tr>\n",
       "            <th>Count</th>\n",
       "        </tr>\n",
       "    </thead>\n",
       "    <tbody>\n",
       "    </tbody>\n",
       "</table>"
      ],
      "text/plain": [
       "+-------+\n",
       "| Count |\n",
       "+-------+\n",
       "+-------+"
      ]
     },
     "execution_count": 3,
     "metadata": {},
     "output_type": "execute_result"
    }
   ],
   "source": [
    "%%sql\n",
    "INSERT INTO exemplo (id, nome, idade)\n",
    "VALUES\n",
    "(1, 'Ana', 25),\n",
    "(2, 'Carlos', 30),\n",
    "(3, 'Maria', 22),\n",
    "(4, 'João', 28);\n"
   ]
  },
  {
   "cell_type": "code",
   "execution_count": 4,
   "id": "c2581493-ff2f-42cc-85f9-ee3fd7aa8f76",
   "metadata": {},
   "outputs": [
    {
     "data": {
      "text/html": [
       "<span style=\"None\">Running query in &#x27;duckdb://&#x27;</span>"
      ],
      "text/plain": [
       "Running query in 'duckdb://'"
      ]
     },
     "metadata": {},
     "output_type": "display_data"
    },
    {
     "data": {
      "text/html": [
       "<table>\n",
       "    <thead>\n",
       "        <tr>\n",
       "            <th>id</th>\n",
       "            <th>nome</th>\n",
       "            <th>idade</th>\n",
       "        </tr>\n",
       "    </thead>\n",
       "    <tbody>\n",
       "        <tr>\n",
       "            <td>1</td>\n",
       "            <td>Ana</td>\n",
       "            <td>25</td>\n",
       "        </tr>\n",
       "        <tr>\n",
       "            <td>2</td>\n",
       "            <td>Carlos</td>\n",
       "            <td>30</td>\n",
       "        </tr>\n",
       "        <tr>\n",
       "            <td>3</td>\n",
       "            <td>Maria</td>\n",
       "            <td>22</td>\n",
       "        </tr>\n",
       "        <tr>\n",
       "            <td>4</td>\n",
       "            <td>João</td>\n",
       "            <td>28</td>\n",
       "        </tr>\n",
       "    </tbody>\n",
       "</table>"
      ],
      "text/plain": [
       "+----+--------+-------+\n",
       "| id |  nome  | idade |\n",
       "+----+--------+-------+\n",
       "| 1  |  Ana   |   25  |\n",
       "| 2  | Carlos |   30  |\n",
       "| 3  | Maria  |   22  |\n",
       "| 4  |  João  |   28  |\n",
       "+----+--------+-------+"
      ]
     },
     "execution_count": 4,
     "metadata": {},
     "output_type": "execute_result"
    }
   ],
   "source": [
    "%%sql\n",
    "SELECT * FROM exemplo;\n"
   ]
  },
  {
   "cell_type": "code",
   "execution_count": null,
   "id": "ccf1b04a-6afb-4c04-be20-d6cba4f0f7d6",
   "metadata": {},
   "outputs": [],
   "source": []
  }
 ],
 "metadata": {
  "kernelspec": {
   "display_name": "Python 3 (ipykernel)",
   "language": "python",
   "name": "python3"
  },
  "language_info": {
   "codemirror_mode": {
    "name": "ipython",
    "version": 3
   },
   "file_extension": ".py",
   "mimetype": "text/x-python",
   "name": "python",
   "nbconvert_exporter": "python",
   "pygments_lexer": "ipython3",
   "version": "3.10.12"
  }
 },
 "nbformat": 4,
 "nbformat_minor": 5
}
