{
  "cells": [
    {
      "cell_type": "markdown",
      "source": [
        "# Projeto SQL Corporativo\n",
        "Este notebook demonstra o uso de SQL puro em um ambiente Python (DuckDB), com consultas analíticas e relacionamentos entre tabelas de uma empresa fictícia."
      ],
      "metadata": {
        "id": "RoqfKKnzoiuV"
      },
      "id": "RoqfKKnzoiuV"
    },
    {
      "cell_type": "markdown",
      "source": [
        "**Configuração**"
      ],
      "metadata": {
        "id": "a0bKaiFCotUt"
      },
      "id": "a0bKaiFCotUt"
    },
    {
      "cell_type": "code",
      "execution_count": 11,
      "id": "8614e572-20a3-4aed-8443-1baaae7aa8e5",
      "metadata": {
        "colab": {
          "base_uri": "https://localhost:8080/",
          "height": 69
        },
        "id": "8614e572-20a3-4aed-8443-1baaae7aa8e5",
        "outputId": "0a36a196-bebe-4d87-d6ca-eb8abc31466d"
      },
      "outputs": [
        {
          "output_type": "stream",
          "name": "stdout",
          "text": [
            "The sql extension is already loaded. To reload it, use:\n",
            "  %reload_ext sql\n"
          ]
        },
        {
          "output_type": "display_data",
          "data": {
            "text/plain": [
              "Connecting and switching to connection 'duckdb:///duckdb_database.duckdb'"
            ],
            "text/html": [
              "<span style=\"None\">Connecting and switching to connection &#x27;duckdb:///duckdb_database.duckdb&#x27;</span>"
            ]
          },
          "metadata": {}
        }
      ],
      "source": [
        "!pip install jupysql duckdb-engine\n",
        "%load_ext sql\n",
        "\n",
        "%sql duckdb://"
      ]
    },
    {
      "cell_type": "markdown",
      "source": [
        "**CRIAR TABELA**"
      ],
      "metadata": {
        "id": "WWWt-yu-yriP"
      },
      "id": "WWWt-yu-yriP"
    },
    {
      "cell_type": "markdown",
      "source": [
        "Cria uma tabela chamada funcionarios para armazenar informações sobre os colaboradores de uma empresa.\n",
        "Antes de criá-la, o comando DROP TABLE IF EXISTS remove a tabela caso ela já exista, evitando erros de duplicação.\n",
        "\n",
        "A estrutura da tabela define os seguintes campos:\n",
        "\n",
        "| Coluna          | Tipo de dado           | Descrição                                             |\n",
        "| --------------- | ---------------------- | ----------------------------------------------------- |\n",
        "| `id`            | `INT` (chave primária) | Identificador único de cada funcionário.              |\n",
        "| `nome`          | `VARCHAR(100)`         | Nome completo do funcionário.                         |\n",
        "| `cargo`         | `VARCHAR(50)`          | Função ou cargo ocupado na empresa.                   |\n",
        "| `departamento`  | `VARCHAR(50)`          | Setor ou departamento ao qual o funcionário pertence. |\n",
        "| `salario`       | `DECIMAL(10,2)`        | Salário do funcionário, com duas casas decimais.      |\n",
        "| `cidade`        | `VARCHAR(50)`          | Cidade onde o funcionário trabalha.                   |\n",
        "| `idade`         | `INT`                  | Idade atual do funcionário.                           |\n",
        "| `data_admissao` | `DATE`                 | Data em que o funcionário foi contratado.             |"
      ],
      "metadata": {
        "id": "LUPOHjO1bLAH"
      },
      "id": "LUPOHjO1bLAH"
    },
    {
      "cell_type": "code",
      "execution_count": 12,
      "id": "0c5608eb-ac2d-4eb5-862e-084e1869aa82",
      "metadata": {
        "colab": {
          "base_uri": "https://localhost:8080/",
          "height": 57
        },
        "id": "0c5608eb-ac2d-4eb5-862e-084e1869aa82",
        "outputId": "df735137-c857-463a-b23b-6ae2468e6046"
      },
      "outputs": [
        {
          "output_type": "display_data",
          "data": {
            "text/plain": [
              "Running query in 'duckdb:///duckdb_database.duckdb'"
            ],
            "text/html": [
              "<span style=\"None\">Running query in &#x27;duckdb:///duckdb_database.duckdb&#x27;</span>"
            ]
          },
          "metadata": {}
        },
        {
          "output_type": "execute_result",
          "data": {
            "text/plain": [
              "+-------+\n",
              "| Count |\n",
              "+-------+\n",
              "+-------+"
            ],
            "text/html": [
              "<table>\n",
              "    <thead>\n",
              "        <tr>\n",
              "            <th>Count</th>\n",
              "        </tr>\n",
              "    </thead>\n",
              "    <tbody>\n",
              "    </tbody>\n",
              "</table>"
            ]
          },
          "metadata": {},
          "execution_count": 12
        }
      ],
      "source": [
        "%%sql\n",
        "\n",
        "CREATE TABLE departamentos (\n",
        "    id INT PRIMARY KEY,\n",
        "    nome VARCHAR(50)\n",
        ");\n",
        "\n",
        "CREATE TABLE cidades (\n",
        "    id INT PRIMARY KEY,\n",
        "    nome VARCHAR(50)\n",
        ");\n",
        "\n",
        "CREATE TABLE cargos (\n",
        "    id INT PRIMARY KEY,\n",
        "    nome VARCHAR(50),\n",
        "    departamento_id INT,\n",
        "    FOREIGN KEY (departamento_id) REFERENCES departamentos(id)\n",
        ");\n",
        "\n",
        "-- Tabela principal\n",
        "CREATE TABLE funcionarios (\n",
        "    id INT PRIMARY KEY,\n",
        "    nome VARCHAR(100),\n",
        "    cargo_id INT,\n",
        "    cidade_id INT,\n",
        "    salario DECIMAL(10,2),\n",
        "    idade INT,\n",
        "    data_admissao DATE,\n",
        "    FOREIGN KEY (cargo_id) REFERENCES cargos(id),\n",
        "    FOREIGN KEY (cidade_id) REFERENCES cidades(id)\n",
        ");"
      ]
    },
    {
      "cell_type": "markdown",
      "source": [
        "**INSERIR DADOS**"
      ],
      "metadata": {
        "id": "qTIUcx8YyvjA"
      },
      "id": "qTIUcx8YyvjA"
    },
    {
      "cell_type": "markdown",
      "source": [
        "O comando INSERT INTO funcionarios VALUES (...) adiciona 10 registros à tabela funcionarios, preenchendo as colunas definidas anteriormente (id, nome, cargo, departamento, salário, cidade, idade e data de admissão).\n",
        "\n",
        "Cada linha representa um funcionário, com suas respectivas informações pessoais e profissionais.\n",
        "\n",
        "| id | nome           | cargo               | departamento | salário | cidade         | idade | data_admissao |\n",
        "| -- | -------------- | ------------------- | ------------ | ------- | -------------- | ----- | ------------- |\n",
        "| 1  | Ana Souza      | Analista de Dados   | TI           | 6500    | São Paulo      | 29    | 2020-05-10    |\n",
        "| 2  | João Lima      | Desenvolvedor       | TI           | 7200    | Rio de Janeiro | 33    | 2018-03-14    |\n",
        "| 3  | Maria Santos   | Designer            | Marketing    | 4800    | Curitiba       | 26    | 2021-09-01    |\n",
        "| 4  | Pedro Oliveira | Gerente de Projetos | TI           | 9500    | São Paulo      | 41    | 2015-01-22    |\n",
        "| 5  | Júlia Martins  | Analista Financeira | Financeiro   | 5800    | Belo Horizonte | 30    | 2019-06-18    |\n",
        "| 6  | Lucas Almeida  | Desenvolvedor       | TI           | 7100    | Porto Alegre   | 28    | 2020-11-05    |\n",
        "| 7  | Carla Dias     | Coordenadora MKT    | Marketing    | 8500    | São Paulo      | 35    | 2016-02-27    |\n",
        "| 8  | Rafael Gomes   | Analista de Dados   | TI           | 6700    | Curitiba       | 27    | 2022-01-15    |\n",
        "| 9  | Fernanda Costa | Estagiária          | Financeiro   | 2200    | Recife         | 22    | 2023-03-10    |\n",
        "| 10 | Bruno Ferreira | Desenvolvedor       | TI           | 7500    | Rio de Janeiro | 31    | 2017-04-30    |"
      ],
      "metadata": {
        "id": "fwe6k-2RbgHJ"
      },
      "id": "fwe6k-2RbgHJ"
    },
    {
      "cell_type": "code",
      "execution_count": 13,
      "id": "2ed3fff6-1272-402e-8959-01ecc7903e54",
      "metadata": {
        "colab": {
          "base_uri": "https://localhost:8080/",
          "height": 57
        },
        "id": "2ed3fff6-1272-402e-8959-01ecc7903e54",
        "outputId": "3ffc5c44-5f99-4a20-cdaa-0af52c2eb15f"
      },
      "outputs": [
        {
          "output_type": "display_data",
          "data": {
            "text/plain": [
              "Running query in 'duckdb:///duckdb_database.duckdb'"
            ],
            "text/html": [
              "<span style=\"None\">Running query in &#x27;duckdb:///duckdb_database.duckdb&#x27;</span>"
            ]
          },
          "metadata": {}
        },
        {
          "output_type": "execute_result",
          "data": {
            "text/plain": [
              "+-------+\n",
              "| Count |\n",
              "+-------+\n",
              "+-------+"
            ],
            "text/html": [
              "<table>\n",
              "    <thead>\n",
              "        <tr>\n",
              "            <th>Count</th>\n",
              "        </tr>\n",
              "    </thead>\n",
              "    <tbody>\n",
              "    </tbody>\n",
              "</table>"
            ]
          },
          "metadata": {},
          "execution_count": 13
        }
      ],
      "source": [
        "%%sql\n",
        "\n",
        "-- Departamentos\n",
        "INSERT INTO departamentos (id, nome) VALUES (1, 'TI');\n",
        "INSERT INTO departamentos (id, nome) VALUES (2, 'Marketing');\n",
        "INSERT INTO departamentos (id, nome) VALUES (3, 'Financeiro');\n",
        "\n",
        "-- Cidades\n",
        "INSERT INTO cidades (id, nome) VALUES (1, 'São Paulo');\n",
        "INSERT INTO cidades (id, nome) VALUES (2, 'Rio de Janeiro');\n",
        "INSERT INTO cidades (id, nome) VALUES (3, 'Curitiba');\n",
        "INSERT INTO cidades (id, nome) VALUES (4, 'Belo Horizonte');\n",
        "INSERT INTO cidades (id, nome) VALUES (5, 'Porto Alegre');\n",
        "INSERT INTO cidades (id, nome) VALUES (6, 'Recife');\n",
        "\n",
        "-- Cargos\n",
        "INSERT INTO cargos (id, nome, departamento_id) VALUES (1, 'Analista de Dados', 1);\n",
        "INSERT INTO cargos (id, nome, departamento_id) VALUES (2, 'Desenvolvedor', 1);\n",
        "INSERT INTO cargos (id, nome, departamento_id) VALUES (3, 'Gerente de Projetos', 1);\n",
        "INSERT INTO cargos (id, nome, departamento_id) VALUES (4, 'Designer', 2);\n",
        "INSERT INTO cargos (id, nome, departamento_id) VALUES (5, 'Coordenadora MKT', 2);\n",
        "INSERT INTO cargos (id, nome, departamento_id) VALUES (6, 'Analista Financeira', 3);\n",
        "INSERT INTO cargos (id, nome, departamento_id) VALUES (7, 'Estagiária', 3);\n",
        "\n",
        "-- Funcionários\n",
        "INSERT INTO funcionarios (id, nome, cargo_id, cidade_id, salario, idade, data_admissao) VALUES (1, 'Ana Souza', 1, 1, 6500, 29, '2020-05-10');\n",
        "INSERT INTO funcionarios (id, nome, cargo_id, cidade_id, salario, idade, data_admissao) VALUES (2, 'João Lima', 2, 2, 7200, 33, '2018-03-14');\n",
        "INSERT INTO funcionarios (id, nome, cargo_id, cidade_id, salario, idade, data_admissao) VALUES (3, 'Maria Santos', 4, 3, 4800, 26, '2021-09-01');\n",
        "INSERT INTO funcionarios (id, nome, cargo_id, cidade_id, salario, idade, data_admissao) VALUES (4, 'Pedro Oliveira', 3, 1, 9500, 41, '2015-01-22');\n",
        "INSERT INTO funcionarios (id, nome, cargo_id, cidade_id, salario, idade, data_admissao) VALUES (5, 'Júlia Martins', 6, 4, 5800, 30, '2019-06-18');\n",
        "INSERT INTO funcionarios (id, nome, cargo_id, cidade_id, salario, idade, data_admissao) VALUES (6, 'Lucas Almeida', 2, 5, 7100, 28, '2020-11-05');\n",
        "INSERT INTO funcionarios (id, nome, cargo_id, cidade_id, salario, idade, data_admissao) VALUES (7, 'Carla Dias', 5, 1, 8500, 35, '2016-02-27');\n",
        "INSERT INTO funcionarios (id, nome, cargo_id, cidade_id, salario, idade, data_admissao) VALUES (8, 'Rafael Gomes', 1, 3, 6700, 27, '2022-01-15');\n",
        "INSERT INTO funcionarios (id, nome, cargo_id, cidade_id, salario, idade, data_admissao) VALUES (9, 'Fernanda Costa', 7, 6, 2200, 22, '2023-03-10');\n",
        "INSERT INTO funcionarios (id, nome, cargo_id, cidade_id, salario, idade, data_admissao) VALUES (10, 'Bruno Ferreira', 2, 2, 7500, 31, '2017-04-30');"
      ]
    },
    {
      "cell_type": "markdown",
      "source": [
        "**Mostre todos os registros da tabela**"
      ],
      "metadata": {
        "id": "k9qKp28ny_Tt"
      },
      "id": "k9qKp28ny_Tt"
    },
    {
      "cell_type": "code",
      "execution_count": 17,
      "id": "c2581493-ff2f-42cc-85f9-ee3fd7aa8f76",
      "metadata": {
        "colab": {
          "base_uri": "https://localhost:8080/",
          "height": 284
        },
        "id": "c2581493-ff2f-42cc-85f9-ee3fd7aa8f76",
        "outputId": "4308d023-0ce0-4f47-8ced-e7b2b456d29a"
      },
      "outputs": [
        {
          "output_type": "display_data",
          "data": {
            "text/plain": [
              "Running query in 'duckdb:///duckdb_database.duckdb'"
            ],
            "text/html": [
              "<span style=\"None\">Running query in &#x27;duckdb:///duckdb_database.duckdb&#x27;</span>"
            ]
          },
          "metadata": {}
        },
        {
          "output_type": "execute_result",
          "data": {
            "text/plain": [
              "+----+----------------+----------+-----------+---------+-------+---------------+\n",
              "| id |      nome      | cargo_id | cidade_id | salario | idade | data_admissao |\n",
              "+----+----------------+----------+-----------+---------+-------+---------------+\n",
              "| 1  |   Ana Souza    |    1     |     1     | 6500.00 |   29  |   2020-05-10  |\n",
              "| 2  |   João Lima    |    2     |     2     | 7200.00 |   33  |   2018-03-14  |\n",
              "| 3  |  Maria Santos  |    4     |     3     | 4800.00 |   26  |   2021-09-01  |\n",
              "| 4  | Pedro Oliveira |    3     |     1     | 9500.00 |   41  |   2015-01-22  |\n",
              "| 5  | Júlia Martins  |    6     |     4     | 5800.00 |   30  |   2019-06-18  |\n",
              "| 6  | Lucas Almeida  |    2     |     5     | 7100.00 |   28  |   2020-11-05  |\n",
              "| 7  |   Carla Dias   |    5     |     1     | 8500.00 |   35  |   2016-02-27  |\n",
              "| 8  |  Rafael Gomes  |    1     |     3     | 6700.00 |   27  |   2022-01-15  |\n",
              "| 9  | Fernanda Costa |    7     |     6     | 2200.00 |   22  |   2023-03-10  |\n",
              "| 10 | Bruno Ferreira |    2     |     2     | 7500.00 |   31  |   2017-04-30  |\n",
              "+----+----------------+----------+-----------+---------+-------+---------------+\n",
              "Truncated to displaylimit of 10."
            ],
            "text/html": [
              "<table>\n",
              "    <thead>\n",
              "        <tr>\n",
              "            <th>id</th>\n",
              "            <th>nome</th>\n",
              "            <th>cargo_id</th>\n",
              "            <th>cidade_id</th>\n",
              "            <th>salario</th>\n",
              "            <th>idade</th>\n",
              "            <th>data_admissao</th>\n",
              "        </tr>\n",
              "    </thead>\n",
              "    <tbody>\n",
              "        <tr>\n",
              "            <td>1</td>\n",
              "            <td>Ana Souza</td>\n",
              "            <td>1</td>\n",
              "            <td>1</td>\n",
              "            <td>6500.00</td>\n",
              "            <td>29</td>\n",
              "            <td>2020-05-10</td>\n",
              "        </tr>\n",
              "        <tr>\n",
              "            <td>2</td>\n",
              "            <td>João Lima</td>\n",
              "            <td>2</td>\n",
              "            <td>2</td>\n",
              "            <td>7200.00</td>\n",
              "            <td>33</td>\n",
              "            <td>2018-03-14</td>\n",
              "        </tr>\n",
              "        <tr>\n",
              "            <td>3</td>\n",
              "            <td>Maria Santos</td>\n",
              "            <td>4</td>\n",
              "            <td>3</td>\n",
              "            <td>4800.00</td>\n",
              "            <td>26</td>\n",
              "            <td>2021-09-01</td>\n",
              "        </tr>\n",
              "        <tr>\n",
              "            <td>4</td>\n",
              "            <td>Pedro Oliveira</td>\n",
              "            <td>3</td>\n",
              "            <td>1</td>\n",
              "            <td>9500.00</td>\n",
              "            <td>41</td>\n",
              "            <td>2015-01-22</td>\n",
              "        </tr>\n",
              "        <tr>\n",
              "            <td>5</td>\n",
              "            <td>Júlia Martins</td>\n",
              "            <td>6</td>\n",
              "            <td>4</td>\n",
              "            <td>5800.00</td>\n",
              "            <td>30</td>\n",
              "            <td>2019-06-18</td>\n",
              "        </tr>\n",
              "        <tr>\n",
              "            <td>6</td>\n",
              "            <td>Lucas Almeida</td>\n",
              "            <td>2</td>\n",
              "            <td>5</td>\n",
              "            <td>7100.00</td>\n",
              "            <td>28</td>\n",
              "            <td>2020-11-05</td>\n",
              "        </tr>\n",
              "        <tr>\n",
              "            <td>7</td>\n",
              "            <td>Carla Dias</td>\n",
              "            <td>5</td>\n",
              "            <td>1</td>\n",
              "            <td>8500.00</td>\n",
              "            <td>35</td>\n",
              "            <td>2016-02-27</td>\n",
              "        </tr>\n",
              "        <tr>\n",
              "            <td>8</td>\n",
              "            <td>Rafael Gomes</td>\n",
              "            <td>1</td>\n",
              "            <td>3</td>\n",
              "            <td>6700.00</td>\n",
              "            <td>27</td>\n",
              "            <td>2022-01-15</td>\n",
              "        </tr>\n",
              "        <tr>\n",
              "            <td>9</td>\n",
              "            <td>Fernanda Costa</td>\n",
              "            <td>7</td>\n",
              "            <td>6</td>\n",
              "            <td>2200.00</td>\n",
              "            <td>22</td>\n",
              "            <td>2023-03-10</td>\n",
              "        </tr>\n",
              "        <tr>\n",
              "            <td>10</td>\n",
              "            <td>Bruno Ferreira</td>\n",
              "            <td>2</td>\n",
              "            <td>2</td>\n",
              "            <td>7500.00</td>\n",
              "            <td>31</td>\n",
              "            <td>2017-04-30</td>\n",
              "        </tr>\n",
              "    </tbody>\n",
              "</table>\n",
              "<span style=\"font-style:italic;text-align:center;\">Truncated to <a href=\"https://jupysql.ploomber.io/en/latest/api/configuration.html#displaylimit\">displaylimit</a> of 10.</span>"
            ]
          },
          "metadata": {},
          "execution_count": 17
        }
      ],
      "source": [
        "%%sql\n",
        "SELECT * FROM funcionarios;"
      ]
    },
    {
      "cell_type": "markdown",
      "source": [
        "Liste os nomes e cargos de quem trabalha no departamento TI."
      ],
      "metadata": {
        "id": "yiy3qluazbfF"
      },
      "id": "yiy3qluazbfF"
    },
    {
      "cell_type": "code",
      "source": [
        "%%sql\n",
        "SELECT\n",
        "    f.nome AS funcionario,\n",
        "    c.nome AS cargo,\n",
        "    d.nome AS departamento\n",
        "FROM funcionarios f\n",
        "JOIN cargos c ON f.cargo_id = c.id\n",
        "JOIN departamentos d ON c.departamento_id = d.id\n",
        "WHERE d.nome = 'TI';"
      ],
      "metadata": {
        "colab": {
          "base_uri": "https://localhost:8080/",
          "height": 183
        },
        "id": "amPZz-oczvZj",
        "outputId": "0bf43bbe-1845-43d5-eba6-b91eca40e32c"
      },
      "id": "amPZz-oczvZj",
      "execution_count": 19,
      "outputs": [
        {
          "output_type": "display_data",
          "data": {
            "text/plain": [
              "Running query in 'duckdb:///duckdb_database.duckdb'"
            ],
            "text/html": [
              "<span style=\"None\">Running query in &#x27;duckdb:///duckdb_database.duckdb&#x27;</span>"
            ]
          },
          "metadata": {}
        },
        {
          "output_type": "execute_result",
          "data": {
            "text/plain": [
              "+----------------+---------------------+--------------+\n",
              "|  funcionario   |        cargo        | departamento |\n",
              "+----------------+---------------------+--------------+\n",
              "|   Ana Souza    |  Analista de Dados  |      TI      |\n",
              "|   João Lima    |    Desenvolvedor    |      TI      |\n",
              "| Pedro Oliveira | Gerente de Projetos |      TI      |\n",
              "| Lucas Almeida  |    Desenvolvedor    |      TI      |\n",
              "|  Rafael Gomes  |  Analista de Dados  |      TI      |\n",
              "| Bruno Ferreira |    Desenvolvedor    |      TI      |\n",
              "+----------------+---------------------+--------------+"
            ],
            "text/html": [
              "<table>\n",
              "    <thead>\n",
              "        <tr>\n",
              "            <th>funcionario</th>\n",
              "            <th>cargo</th>\n",
              "            <th>departamento</th>\n",
              "        </tr>\n",
              "    </thead>\n",
              "    <tbody>\n",
              "        <tr>\n",
              "            <td>Ana Souza</td>\n",
              "            <td>Analista de Dados</td>\n",
              "            <td>TI</td>\n",
              "        </tr>\n",
              "        <tr>\n",
              "            <td>João Lima</td>\n",
              "            <td>Desenvolvedor</td>\n",
              "            <td>TI</td>\n",
              "        </tr>\n",
              "        <tr>\n",
              "            <td>Pedro Oliveira</td>\n",
              "            <td>Gerente de Projetos</td>\n",
              "            <td>TI</td>\n",
              "        </tr>\n",
              "        <tr>\n",
              "            <td>Lucas Almeida</td>\n",
              "            <td>Desenvolvedor</td>\n",
              "            <td>TI</td>\n",
              "        </tr>\n",
              "        <tr>\n",
              "            <td>Rafael Gomes</td>\n",
              "            <td>Analista de Dados</td>\n",
              "            <td>TI</td>\n",
              "        </tr>\n",
              "        <tr>\n",
              "            <td>Bruno Ferreira</td>\n",
              "            <td>Desenvolvedor</td>\n",
              "            <td>TI</td>\n",
              "        </tr>\n",
              "    </tbody>\n",
              "</table>"
            ]
          },
          "metadata": {},
          "execution_count": 19
        }
      ]
    },
    {
      "cell_type": "markdown",
      "source": [
        "Mostre apenas os nomes distintos das cidades cadastradas.\n"
      ],
      "metadata": {
        "id": "Js02yEMuzbiz"
      },
      "id": "Js02yEMuzbiz"
    },
    {
      "cell_type": "code",
      "source": [
        "%%sql\n",
        "SELECt DISTINCT nome\n",
        "FROM cidades;"
      ],
      "metadata": {
        "colab": {
          "base_uri": "https://localhost:8080/",
          "height": 183
        },
        "id": "JKkeMLlEzwAM",
        "outputId": "dbb29e34-f4e3-4f1e-8b44-2cb7666771cc"
      },
      "id": "JKkeMLlEzwAM",
      "execution_count": 21,
      "outputs": [
        {
          "output_type": "display_data",
          "data": {
            "text/plain": [
              "Running query in 'duckdb:///duckdb_database.duckdb'"
            ],
            "text/html": [
              "<span style=\"None\">Running query in &#x27;duckdb:///duckdb_database.duckdb&#x27;</span>"
            ]
          },
          "metadata": {}
        },
        {
          "output_type": "execute_result",
          "data": {
            "text/plain": [
              "+----------------+\n",
              "|      nome      |\n",
              "+----------------+\n",
              "|   São Paulo    |\n",
              "| Rio de Janeiro |\n",
              "|    Curitiba    |\n",
              "| Belo Horizonte |\n",
              "|     Recife     |\n",
              "|  Porto Alegre  |\n",
              "+----------------+"
            ],
            "text/html": [
              "<table>\n",
              "    <thead>\n",
              "        <tr>\n",
              "            <th>nome</th>\n",
              "        </tr>\n",
              "    </thead>\n",
              "    <tbody>\n",
              "        <tr>\n",
              "            <td>São Paulo</td>\n",
              "        </tr>\n",
              "        <tr>\n",
              "            <td>Rio de Janeiro</td>\n",
              "        </tr>\n",
              "        <tr>\n",
              "            <td>Curitiba</td>\n",
              "        </tr>\n",
              "        <tr>\n",
              "            <td>Belo Horizonte</td>\n",
              "        </tr>\n",
              "        <tr>\n",
              "            <td>Recife</td>\n",
              "        </tr>\n",
              "        <tr>\n",
              "            <td>Porto Alegre</td>\n",
              "        </tr>\n",
              "    </tbody>\n",
              "</table>"
            ]
          },
          "metadata": {},
          "execution_count": 21
        }
      ]
    },
    {
      "cell_type": "markdown",
      "source": [
        "Exiba os nomes e salários dos funcionários com salário acima de 7000.\n"
      ],
      "metadata": {
        "id": "Il94lkoazb7d"
      },
      "id": "Il94lkoazb7d"
    },
    {
      "cell_type": "code",
      "source": [
        "%%sql\n",
        "SELECT nome, salario\n",
        "FROM funcionarios\n",
        "WHERE salario > 7000;"
      ],
      "metadata": {
        "colab": {
          "base_uri": "https://localhost:8080/",
          "height": 162
        },
        "id": "-UEWPrdjzwjO",
        "outputId": "fdad2804-9e17-4334-da57-8e19bf4c6dc8"
      },
      "id": "-UEWPrdjzwjO",
      "execution_count": 22,
      "outputs": [
        {
          "output_type": "display_data",
          "data": {
            "text/plain": [
              "Running query in 'duckdb:///duckdb_database.duckdb'"
            ],
            "text/html": [
              "<span style=\"None\">Running query in &#x27;duckdb:///duckdb_database.duckdb&#x27;</span>"
            ]
          },
          "metadata": {}
        },
        {
          "output_type": "execute_result",
          "data": {
            "text/plain": [
              "+----------------+---------+\n",
              "|      nome      | salario |\n",
              "+----------------+---------+\n",
              "|   João Lima    | 7200.00 |\n",
              "| Pedro Oliveira | 9500.00 |\n",
              "| Lucas Almeida  | 7100.00 |\n",
              "|   Carla Dias   | 8500.00 |\n",
              "| Bruno Ferreira | 7500.00 |\n",
              "+----------------+---------+"
            ],
            "text/html": [
              "<table>\n",
              "    <thead>\n",
              "        <tr>\n",
              "            <th>nome</th>\n",
              "            <th>salario</th>\n",
              "        </tr>\n",
              "    </thead>\n",
              "    <tbody>\n",
              "        <tr>\n",
              "            <td>João Lima</td>\n",
              "            <td>7200.00</td>\n",
              "        </tr>\n",
              "        <tr>\n",
              "            <td>Pedro Oliveira</td>\n",
              "            <td>9500.00</td>\n",
              "        </tr>\n",
              "        <tr>\n",
              "            <td>Lucas Almeida</td>\n",
              "            <td>7100.00</td>\n",
              "        </tr>\n",
              "        <tr>\n",
              "            <td>Carla Dias</td>\n",
              "            <td>8500.00</td>\n",
              "        </tr>\n",
              "        <tr>\n",
              "            <td>Bruno Ferreira</td>\n",
              "            <td>7500.00</td>\n",
              "        </tr>\n",
              "    </tbody>\n",
              "</table>"
            ]
          },
          "metadata": {},
          "execution_count": 22
        }
      ]
    },
    {
      "cell_type": "markdown",
      "source": [
        "Mostre os funcionários com idade entre 25 e 35 anos.\n"
      ],
      "metadata": {
        "id": "ISOdIF4IzcMV"
      },
      "id": "ISOdIF4IzcMV"
    },
    {
      "cell_type": "code",
      "source": [
        "%%sql\n",
        "SELECT *\n",
        "FROM funcionarios\n",
        "WHERE idade BETWEEN 25 AND 35;"
      ],
      "metadata": {
        "colab": {
          "base_uri": "https://localhost:8080/",
          "height": 225
        },
        "id": "aFoT_KaUzxJr",
        "outputId": "50cd70b6-65e0-4ea5-a180-a3c4079732fe"
      },
      "id": "aFoT_KaUzxJr",
      "execution_count": 23,
      "outputs": [
        {
          "output_type": "display_data",
          "data": {
            "text/plain": [
              "Running query in 'duckdb:///duckdb_database.duckdb'"
            ],
            "text/html": [
              "<span style=\"None\">Running query in &#x27;duckdb:///duckdb_database.duckdb&#x27;</span>"
            ]
          },
          "metadata": {}
        },
        {
          "output_type": "execute_result",
          "data": {
            "text/plain": [
              "+----+----------------+----------+-----------+---------+-------+---------------+\n",
              "| id |      nome      | cargo_id | cidade_id | salario | idade | data_admissao |\n",
              "+----+----------------+----------+-----------+---------+-------+---------------+\n",
              "| 1  |   Ana Souza    |    1     |     1     | 6500.00 |   29  |   2020-05-10  |\n",
              "| 2  |   João Lima    |    2     |     2     | 7200.00 |   33  |   2018-03-14  |\n",
              "| 3  |  Maria Santos  |    4     |     3     | 4800.00 |   26  |   2021-09-01  |\n",
              "| 5  | Júlia Martins  |    6     |     4     | 5800.00 |   30  |   2019-06-18  |\n",
              "| 6  | Lucas Almeida  |    2     |     5     | 7100.00 |   28  |   2020-11-05  |\n",
              "| 7  |   Carla Dias   |    5     |     1     | 8500.00 |   35  |   2016-02-27  |\n",
              "| 8  |  Rafael Gomes  |    1     |     3     | 6700.00 |   27  |   2022-01-15  |\n",
              "| 10 | Bruno Ferreira |    2     |     2     | 7500.00 |   31  |   2017-04-30  |\n",
              "+----+----------------+----------+-----------+---------+-------+---------------+"
            ],
            "text/html": [
              "<table>\n",
              "    <thead>\n",
              "        <tr>\n",
              "            <th>id</th>\n",
              "            <th>nome</th>\n",
              "            <th>cargo_id</th>\n",
              "            <th>cidade_id</th>\n",
              "            <th>salario</th>\n",
              "            <th>idade</th>\n",
              "            <th>data_admissao</th>\n",
              "        </tr>\n",
              "    </thead>\n",
              "    <tbody>\n",
              "        <tr>\n",
              "            <td>1</td>\n",
              "            <td>Ana Souza</td>\n",
              "            <td>1</td>\n",
              "            <td>1</td>\n",
              "            <td>6500.00</td>\n",
              "            <td>29</td>\n",
              "            <td>2020-05-10</td>\n",
              "        </tr>\n",
              "        <tr>\n",
              "            <td>2</td>\n",
              "            <td>João Lima</td>\n",
              "            <td>2</td>\n",
              "            <td>2</td>\n",
              "            <td>7200.00</td>\n",
              "            <td>33</td>\n",
              "            <td>2018-03-14</td>\n",
              "        </tr>\n",
              "        <tr>\n",
              "            <td>3</td>\n",
              "            <td>Maria Santos</td>\n",
              "            <td>4</td>\n",
              "            <td>3</td>\n",
              "            <td>4800.00</td>\n",
              "            <td>26</td>\n",
              "            <td>2021-09-01</td>\n",
              "        </tr>\n",
              "        <tr>\n",
              "            <td>5</td>\n",
              "            <td>Júlia Martins</td>\n",
              "            <td>6</td>\n",
              "            <td>4</td>\n",
              "            <td>5800.00</td>\n",
              "            <td>30</td>\n",
              "            <td>2019-06-18</td>\n",
              "        </tr>\n",
              "        <tr>\n",
              "            <td>6</td>\n",
              "            <td>Lucas Almeida</td>\n",
              "            <td>2</td>\n",
              "            <td>5</td>\n",
              "            <td>7100.00</td>\n",
              "            <td>28</td>\n",
              "            <td>2020-11-05</td>\n",
              "        </tr>\n",
              "        <tr>\n",
              "            <td>7</td>\n",
              "            <td>Carla Dias</td>\n",
              "            <td>5</td>\n",
              "            <td>1</td>\n",
              "            <td>8500.00</td>\n",
              "            <td>35</td>\n",
              "            <td>2016-02-27</td>\n",
              "        </tr>\n",
              "        <tr>\n",
              "            <td>8</td>\n",
              "            <td>Rafael Gomes</td>\n",
              "            <td>1</td>\n",
              "            <td>3</td>\n",
              "            <td>6700.00</td>\n",
              "            <td>27</td>\n",
              "            <td>2022-01-15</td>\n",
              "        </tr>\n",
              "        <tr>\n",
              "            <td>10</td>\n",
              "            <td>Bruno Ferreira</td>\n",
              "            <td>2</td>\n",
              "            <td>2</td>\n",
              "            <td>7500.00</td>\n",
              "            <td>31</td>\n",
              "            <td>2017-04-30</td>\n",
              "        </tr>\n",
              "    </tbody>\n",
              "</table>"
            ]
          },
          "metadata": {},
          "execution_count": 23
        }
      ]
    },
    {
      "cell_type": "markdown",
      "source": [
        "Liste os funcionários que trabalham em “São Paulo” ou “Curitiba”.\n"
      ],
      "metadata": {
        "id": "x4oDO1qozmEF"
      },
      "id": "x4oDO1qozmEF"
    },
    {
      "cell_type": "code",
      "source": [
        "%%sql\n",
        "SELECT\n",
        "    f.id,\n",
        "    f.nome,\n",
        "    c.nome AS cidade,\n",
        "    f.salario,\n",
        "    f.idade,\n",
        "    f.data_admissao\n",
        "FROM funcionarios f\n",
        "JOIN cidades c ON f.cidade_id = c.id\n",
        "WHERE c.nome IN ('São Paulo', 'Curitiba');"
      ],
      "metadata": {
        "colab": {
          "base_uri": "https://localhost:8080/",
          "height": 162
        },
        "id": "X7ic9bW9zxr8",
        "outputId": "343fd977-1f34-452f-8e32-efd56f13a6de"
      },
      "id": "X7ic9bW9zxr8",
      "execution_count": 24,
      "outputs": [
        {
          "output_type": "display_data",
          "data": {
            "text/plain": [
              "Running query in 'duckdb:///duckdb_database.duckdb'"
            ],
            "text/html": [
              "<span style=\"None\">Running query in &#x27;duckdb:///duckdb_database.duckdb&#x27;</span>"
            ]
          },
          "metadata": {}
        },
        {
          "output_type": "execute_result",
          "data": {
            "text/plain": [
              "+----+----------------+-----------+---------+-------+---------------+\n",
              "| id |      nome      |   cidade  | salario | idade | data_admissao |\n",
              "+----+----------------+-----------+---------+-------+---------------+\n",
              "| 1  |   Ana Souza    | São Paulo | 6500.00 |   29  |   2020-05-10  |\n",
              "| 3  |  Maria Santos  |  Curitiba | 4800.00 |   26  |   2021-09-01  |\n",
              "| 4  | Pedro Oliveira | São Paulo | 9500.00 |   41  |   2015-01-22  |\n",
              "| 7  |   Carla Dias   | São Paulo | 8500.00 |   35  |   2016-02-27  |\n",
              "| 8  |  Rafael Gomes  |  Curitiba | 6700.00 |   27  |   2022-01-15  |\n",
              "+----+----------------+-----------+---------+-------+---------------+"
            ],
            "text/html": [
              "<table>\n",
              "    <thead>\n",
              "        <tr>\n",
              "            <th>id</th>\n",
              "            <th>nome</th>\n",
              "            <th>cidade</th>\n",
              "            <th>salario</th>\n",
              "            <th>idade</th>\n",
              "            <th>data_admissao</th>\n",
              "        </tr>\n",
              "    </thead>\n",
              "    <tbody>\n",
              "        <tr>\n",
              "            <td>1</td>\n",
              "            <td>Ana Souza</td>\n",
              "            <td>São Paulo</td>\n",
              "            <td>6500.00</td>\n",
              "            <td>29</td>\n",
              "            <td>2020-05-10</td>\n",
              "        </tr>\n",
              "        <tr>\n",
              "            <td>3</td>\n",
              "            <td>Maria Santos</td>\n",
              "            <td>Curitiba</td>\n",
              "            <td>4800.00</td>\n",
              "            <td>26</td>\n",
              "            <td>2021-09-01</td>\n",
              "        </tr>\n",
              "        <tr>\n",
              "            <td>4</td>\n",
              "            <td>Pedro Oliveira</td>\n",
              "            <td>São Paulo</td>\n",
              "            <td>9500.00</td>\n",
              "            <td>41</td>\n",
              "            <td>2015-01-22</td>\n",
              "        </tr>\n",
              "        <tr>\n",
              "            <td>7</td>\n",
              "            <td>Carla Dias</td>\n",
              "            <td>São Paulo</td>\n",
              "            <td>8500.00</td>\n",
              "            <td>35</td>\n",
              "            <td>2016-02-27</td>\n",
              "        </tr>\n",
              "        <tr>\n",
              "            <td>8</td>\n",
              "            <td>Rafael Gomes</td>\n",
              "            <td>Curitiba</td>\n",
              "            <td>6700.00</td>\n",
              "            <td>27</td>\n",
              "            <td>2022-01-15</td>\n",
              "        </tr>\n",
              "    </tbody>\n",
              "</table>"
            ]
          },
          "metadata": {},
          "execution_count": 24
        }
      ]
    },
    {
      "cell_type": "markdown",
      "source": [
        "Exiba os funcionários cujo nome começa com “A”.\n"
      ],
      "metadata": {
        "id": "EATQ_FvPzmHb"
      },
      "id": "EATQ_FvPzmHb"
    },
    {
      "cell_type": "code",
      "source": [
        "%%sql\n",
        "SELECT *\n",
        "FROM funcionarios\n",
        "WHERE nome LIKE 'A%';"
      ],
      "metadata": {
        "colab": {
          "base_uri": "https://localhost:8080/",
          "height": 78
        },
        "id": "f14Ze-gRzyN8",
        "outputId": "d5265829-396b-4125-a5ae-c151159fd6e2"
      },
      "id": "f14Ze-gRzyN8",
      "execution_count": 25,
      "outputs": [
        {
          "output_type": "display_data",
          "data": {
            "text/plain": [
              "Running query in 'duckdb:///duckdb_database.duckdb'"
            ],
            "text/html": [
              "<span style=\"None\">Running query in &#x27;duckdb:///duckdb_database.duckdb&#x27;</span>"
            ]
          },
          "metadata": {}
        },
        {
          "output_type": "execute_result",
          "data": {
            "text/plain": [
              "+----+-----------+----------+-----------+---------+-------+---------------+\n",
              "| id |    nome   | cargo_id | cidade_id | salario | idade | data_admissao |\n",
              "+----+-----------+----------+-----------+---------+-------+---------------+\n",
              "| 1  | Ana Souza |    1     |     1     | 6500.00 |   29  |   2020-05-10  |\n",
              "+----+-----------+----------+-----------+---------+-------+---------------+"
            ],
            "text/html": [
              "<table>\n",
              "    <thead>\n",
              "        <tr>\n",
              "            <th>id</th>\n",
              "            <th>nome</th>\n",
              "            <th>cargo_id</th>\n",
              "            <th>cidade_id</th>\n",
              "            <th>salario</th>\n",
              "            <th>idade</th>\n",
              "            <th>data_admissao</th>\n",
              "        </tr>\n",
              "    </thead>\n",
              "    <tbody>\n",
              "        <tr>\n",
              "            <td>1</td>\n",
              "            <td>Ana Souza</td>\n",
              "            <td>1</td>\n",
              "            <td>1</td>\n",
              "            <td>6500.00</td>\n",
              "            <td>29</td>\n",
              "            <td>2020-05-10</td>\n",
              "        </tr>\n",
              "    </tbody>\n",
              "</table>"
            ]
          },
          "metadata": {},
          "execution_count": 25
        }
      ]
    },
    {
      "cell_type": "markdown",
      "source": [
        "Liste os funcionários cujo cargo contém a palavra “Analista”.\n"
      ],
      "metadata": {
        "id": "kfCYdJgYzmWF"
      },
      "id": "kfCYdJgYzmWF"
    },
    {
      "cell_type": "code",
      "source": [
        "%%sql\n",
        "SELECT\n",
        "    f.id,\n",
        "    f.nome,\n",
        "    c.nome AS cargo,\n",
        "    f.salario,\n",
        "    f.idade,\n",
        "    f.data_admissao\n",
        "FROM funcionarios f\n",
        "JOIN cargos c ON f.cargo_id = c.id\n",
        "WHERE c.nome LIKE '%Analista%';"
      ],
      "metadata": {
        "colab": {
          "base_uri": "https://localhost:8080/",
          "height": 120
        },
        "id": "3Kf4r5nwzyvL",
        "outputId": "bbf37fd5-967d-4ff2-b589-2e3ee4893427"
      },
      "id": "3Kf4r5nwzyvL",
      "execution_count": 27,
      "outputs": [
        {
          "output_type": "display_data",
          "data": {
            "text/plain": [
              "Running query in 'duckdb:///duckdb_database.duckdb'"
            ],
            "text/html": [
              "<span style=\"None\">Running query in &#x27;duckdb:///duckdb_database.duckdb&#x27;</span>"
            ]
          },
          "metadata": {}
        },
        {
          "output_type": "execute_result",
          "data": {
            "text/plain": [
              "+----+---------------+---------------------+---------+-------+---------------+\n",
              "| id |      nome     |        cargo        | salario | idade | data_admissao |\n",
              "+----+---------------+---------------------+---------+-------+---------------+\n",
              "| 1  |   Ana Souza   |  Analista de Dados  | 6500.00 |   29  |   2020-05-10  |\n",
              "| 5  | Júlia Martins | Analista Financeira | 5800.00 |   30  |   2019-06-18  |\n",
              "| 8  |  Rafael Gomes |  Analista de Dados  | 6700.00 |   27  |   2022-01-15  |\n",
              "+----+---------------+---------------------+---------+-------+---------------+"
            ],
            "text/html": [
              "<table>\n",
              "    <thead>\n",
              "        <tr>\n",
              "            <th>id</th>\n",
              "            <th>nome</th>\n",
              "            <th>cargo</th>\n",
              "            <th>salario</th>\n",
              "            <th>idade</th>\n",
              "            <th>data_admissao</th>\n",
              "        </tr>\n",
              "    </thead>\n",
              "    <tbody>\n",
              "        <tr>\n",
              "            <td>1</td>\n",
              "            <td>Ana Souza</td>\n",
              "            <td>Analista de Dados</td>\n",
              "            <td>6500.00</td>\n",
              "            <td>29</td>\n",
              "            <td>2020-05-10</td>\n",
              "        </tr>\n",
              "        <tr>\n",
              "            <td>5</td>\n",
              "            <td>Júlia Martins</td>\n",
              "            <td>Analista Financeira</td>\n",
              "            <td>5800.00</td>\n",
              "            <td>30</td>\n",
              "            <td>2019-06-18</td>\n",
              "        </tr>\n",
              "        <tr>\n",
              "            <td>8</td>\n",
              "            <td>Rafael Gomes</td>\n",
              "            <td>Analista de Dados</td>\n",
              "            <td>6700.00</td>\n",
              "            <td>27</td>\n",
              "            <td>2022-01-15</td>\n",
              "        </tr>\n",
              "    </tbody>\n",
              "</table>"
            ]
          },
          "metadata": {},
          "execution_count": 27
        }
      ]
    },
    {
      "cell_type": "markdown",
      "source": [
        "\n",
        "\n",
        "\n",
        "\n",
        "\n",
        "\n",
        "\n",
        "\n",
        "Mostre os funcionários admitidos depois de 2020."
      ],
      "metadata": {
        "id": "k0W1wm8zzP2m"
      },
      "id": "k0W1wm8zzP2m"
    },
    {
      "cell_type": "code",
      "execution_count": 28,
      "id": "ccf1b04a-6afb-4c04-be20-d6cba4f0f7d6",
      "metadata": {
        "colab": {
          "base_uri": "https://localhost:8080/",
          "height": 120
        },
        "id": "ccf1b04a-6afb-4c04-be20-d6cba4f0f7d6",
        "outputId": "0208b3c2-b002-4457-8834-ed3d498a4a8b"
      },
      "outputs": [
        {
          "output_type": "display_data",
          "data": {
            "text/plain": [
              "Running query in 'duckdb:///duckdb_database.duckdb'"
            ],
            "text/html": [
              "<span style=\"None\">Running query in &#x27;duckdb:///duckdb_database.duckdb&#x27;</span>"
            ]
          },
          "metadata": {}
        },
        {
          "output_type": "execute_result",
          "data": {
            "text/plain": [
              "+----+----------------+----------+-----------+---------+-------+---------------+\n",
              "| id |      nome      | cargo_id | cidade_id | salario | idade | data_admissao |\n",
              "+----+----------------+----------+-----------+---------+-------+---------------+\n",
              "| 3  |  Maria Santos  |    4     |     3     | 4800.00 |   26  |   2021-09-01  |\n",
              "| 8  |  Rafael Gomes  |    1     |     3     | 6700.00 |   27  |   2022-01-15  |\n",
              "| 9  | Fernanda Costa |    7     |     6     | 2200.00 |   22  |   2023-03-10  |\n",
              "+----+----------------+----------+-----------+---------+-------+---------------+"
            ],
            "text/html": [
              "<table>\n",
              "    <thead>\n",
              "        <tr>\n",
              "            <th>id</th>\n",
              "            <th>nome</th>\n",
              "            <th>cargo_id</th>\n",
              "            <th>cidade_id</th>\n",
              "            <th>salario</th>\n",
              "            <th>idade</th>\n",
              "            <th>data_admissao</th>\n",
              "        </tr>\n",
              "    </thead>\n",
              "    <tbody>\n",
              "        <tr>\n",
              "            <td>3</td>\n",
              "            <td>Maria Santos</td>\n",
              "            <td>4</td>\n",
              "            <td>3</td>\n",
              "            <td>4800.00</td>\n",
              "            <td>26</td>\n",
              "            <td>2021-09-01</td>\n",
              "        </tr>\n",
              "        <tr>\n",
              "            <td>8</td>\n",
              "            <td>Rafael Gomes</td>\n",
              "            <td>1</td>\n",
              "            <td>3</td>\n",
              "            <td>6700.00</td>\n",
              "            <td>27</td>\n",
              "            <td>2022-01-15</td>\n",
              "        </tr>\n",
              "        <tr>\n",
              "            <td>9</td>\n",
              "            <td>Fernanda Costa</td>\n",
              "            <td>7</td>\n",
              "            <td>6</td>\n",
              "            <td>2200.00</td>\n",
              "            <td>22</td>\n",
              "            <td>2023-03-10</td>\n",
              "        </tr>\n",
              "    </tbody>\n",
              "</table>"
            ]
          },
          "metadata": {},
          "execution_count": 28
        }
      ],
      "source": [
        "%%sql\n",
        "SELECT *\n",
        "FROM funcionarios\n",
        "WHERE data_admissao > '2020-12-31';"
      ]
    },
    {
      "cell_type": "markdown",
      "source": [
        "Atualizando o valor registrado"
      ],
      "metadata": {
        "id": "3eTMhsXcJBs_"
      },
      "id": "3eTMhsXcJBs_"
    },
    {
      "cell_type": "code",
      "source": [
        "%%sql\n",
        "\n",
        "UPDATE funcionarios\n",
        "SET salario = 7000.00\n",
        "WHERE cargo_id IN (\n",
        "    SELECT id\n",
        "    FROM cargos\n",
        "    WHERE departamento_id = (\n",
        "        SELECT id FROM departamentos WHERE nome = 'TI'\n",
        "    )\n",
        ");\n",
        "\n",
        "-- Conferir os resultados\n",
        "SELECT\n",
        "    f.nome,\n",
        "    c.nome AS cargo,\n",
        "    d.nome AS departamento,\n",
        "    f.salario\n",
        "FROM funcionarios f\n",
        "JOIN cargos c ON f.cargo_id = c.id\n",
        "JOIN departamentos d ON c.departamento_id = d.id;"
      ],
      "metadata": {
        "colab": {
          "base_uri": "https://localhost:8080/",
          "height": 284
        },
        "id": "_SkvgWhtJCWf",
        "outputId": "4f8b8cb8-3cf4-4cb1-e48a-bf8b4d383345"
      },
      "id": "_SkvgWhtJCWf",
      "execution_count": 30,
      "outputs": [
        {
          "output_type": "display_data",
          "data": {
            "text/plain": [
              "Running query in 'duckdb:///duckdb_database.duckdb'"
            ],
            "text/html": [
              "<span style=\"None\">Running query in &#x27;duckdb:///duckdb_database.duckdb&#x27;</span>"
            ]
          },
          "metadata": {}
        },
        {
          "output_type": "execute_result",
          "data": {
            "text/plain": [
              "+----------------+---------------------+--------------+---------+\n",
              "|      nome      |        cargo        | departamento | salario |\n",
              "+----------------+---------------------+--------------+---------+\n",
              "|   Ana Souza    |  Analista de Dados  |      TI      | 7000.00 |\n",
              "|   João Lima    |    Desenvolvedor    |      TI      | 7000.00 |\n",
              "|  Maria Santos  |       Designer      |  Marketing   | 4800.00 |\n",
              "| Pedro Oliveira | Gerente de Projetos |      TI      | 7000.00 |\n",
              "| Júlia Martins  | Analista Financeira |  Financeiro  | 5800.00 |\n",
              "| Lucas Almeida  |    Desenvolvedor    |      TI      | 7000.00 |\n",
              "|   Carla Dias   |   Coordenadora MKT  |  Marketing   | 8500.00 |\n",
              "|  Rafael Gomes  |  Analista de Dados  |      TI      | 7000.00 |\n",
              "| Fernanda Costa |      Estagiária     |  Financeiro  | 2200.00 |\n",
              "| Bruno Ferreira |    Desenvolvedor    |      TI      | 7000.00 |\n",
              "+----------------+---------------------+--------------+---------+\n",
              "Truncated to displaylimit of 10."
            ],
            "text/html": [
              "<table>\n",
              "    <thead>\n",
              "        <tr>\n",
              "            <th>nome</th>\n",
              "            <th>cargo</th>\n",
              "            <th>departamento</th>\n",
              "            <th>salario</th>\n",
              "        </tr>\n",
              "    </thead>\n",
              "    <tbody>\n",
              "        <tr>\n",
              "            <td>Ana Souza</td>\n",
              "            <td>Analista de Dados</td>\n",
              "            <td>TI</td>\n",
              "            <td>7000.00</td>\n",
              "        </tr>\n",
              "        <tr>\n",
              "            <td>João Lima</td>\n",
              "            <td>Desenvolvedor</td>\n",
              "            <td>TI</td>\n",
              "            <td>7000.00</td>\n",
              "        </tr>\n",
              "        <tr>\n",
              "            <td>Maria Santos</td>\n",
              "            <td>Designer</td>\n",
              "            <td>Marketing</td>\n",
              "            <td>4800.00</td>\n",
              "        </tr>\n",
              "        <tr>\n",
              "            <td>Pedro Oliveira</td>\n",
              "            <td>Gerente de Projetos</td>\n",
              "            <td>TI</td>\n",
              "            <td>7000.00</td>\n",
              "        </tr>\n",
              "        <tr>\n",
              "            <td>Júlia Martins</td>\n",
              "            <td>Analista Financeira</td>\n",
              "            <td>Financeiro</td>\n",
              "            <td>5800.00</td>\n",
              "        </tr>\n",
              "        <tr>\n",
              "            <td>Lucas Almeida</td>\n",
              "            <td>Desenvolvedor</td>\n",
              "            <td>TI</td>\n",
              "            <td>7000.00</td>\n",
              "        </tr>\n",
              "        <tr>\n",
              "            <td>Carla Dias</td>\n",
              "            <td>Coordenadora MKT</td>\n",
              "            <td>Marketing</td>\n",
              "            <td>8500.00</td>\n",
              "        </tr>\n",
              "        <tr>\n",
              "            <td>Rafael Gomes</td>\n",
              "            <td>Analista de Dados</td>\n",
              "            <td>TI</td>\n",
              "            <td>7000.00</td>\n",
              "        </tr>\n",
              "        <tr>\n",
              "            <td>Fernanda Costa</td>\n",
              "            <td>Estagiária</td>\n",
              "            <td>Financeiro</td>\n",
              "            <td>2200.00</td>\n",
              "        </tr>\n",
              "        <tr>\n",
              "            <td>Bruno Ferreira</td>\n",
              "            <td>Desenvolvedor</td>\n",
              "            <td>TI</td>\n",
              "            <td>7000.00</td>\n",
              "        </tr>\n",
              "    </tbody>\n",
              "</table>\n",
              "<span style=\"font-style:italic;text-align:center;\">Truncated to <a href=\"https://jupysql.ploomber.io/en/latest/api/configuration.html#displaylimit\">displaylimit</a> of 10.</span>"
            ]
          },
          "metadata": {},
          "execution_count": 30
        }
      ]
    },
    {
      "cell_type": "markdown",
      "source": [
        "Conte quantos funcionários existem na tabela."
      ],
      "metadata": {
        "id": "aeyHy-H245Qj"
      },
      "id": "aeyHy-H245Qj"
    },
    {
      "cell_type": "code",
      "source": [
        "%%sql\n",
        "SELECT COUNT(*) AS total_funcionarios\n",
        "FROM funcionarios;"
      ],
      "metadata": {
        "colab": {
          "base_uri": "https://localhost:8080/",
          "height": 78
        },
        "id": "_iOpUNO05ZQp",
        "outputId": "53cb2aed-d27f-4feb-cc34-cb42a17485ab"
      },
      "id": "_iOpUNO05ZQp",
      "execution_count": 31,
      "outputs": [
        {
          "output_type": "display_data",
          "data": {
            "text/plain": [
              "Running query in 'duckdb:///duckdb_database.duckdb'"
            ],
            "text/html": [
              "<span style=\"None\">Running query in &#x27;duckdb:///duckdb_database.duckdb&#x27;</span>"
            ]
          },
          "metadata": {}
        },
        {
          "output_type": "execute_result",
          "data": {
            "text/plain": [
              "+--------------------+\n",
              "| total_funcionarios |\n",
              "+--------------------+\n",
              "|         10         |\n",
              "+--------------------+"
            ],
            "text/html": [
              "<table>\n",
              "    <thead>\n",
              "        <tr>\n",
              "            <th>total_funcionarios</th>\n",
              "        </tr>\n",
              "    </thead>\n",
              "    <tbody>\n",
              "        <tr>\n",
              "            <td>10</td>\n",
              "        </tr>\n",
              "    </tbody>\n",
              "</table>"
            ]
          },
          "metadata": {},
          "execution_count": 31
        }
      ]
    },
    {
      "cell_type": "markdown",
      "source": [
        "Calcule o salário médio de todos os funcionários."
      ],
      "metadata": {
        "id": "gQxdHkkS45e0"
      },
      "id": "gQxdHkkS45e0"
    },
    {
      "cell_type": "code",
      "source": [
        "%%sql\n",
        "SELECT AVG(salario) AS salario_medio\n",
        "FROM funcionarios;"
      ],
      "metadata": {
        "colab": {
          "base_uri": "https://localhost:8080/",
          "height": 78
        },
        "id": "6XNGM9bZ5aA1",
        "outputId": "bc1660bd-1f5f-4e3c-abd2-c9597de4f753"
      },
      "id": "6XNGM9bZ5aA1",
      "execution_count": 32,
      "outputs": [
        {
          "output_type": "display_data",
          "data": {
            "text/plain": [
              "Running query in 'duckdb:///duckdb_database.duckdb'"
            ],
            "text/html": [
              "<span style=\"None\">Running query in &#x27;duckdb:///duckdb_database.duckdb&#x27;</span>"
            ]
          },
          "metadata": {}
        },
        {
          "output_type": "execute_result",
          "data": {
            "text/plain": [
              "+---------------+\n",
              "| salario_medio |\n",
              "+---------------+\n",
              "|     6330.0    |\n",
              "+---------------+"
            ],
            "text/html": [
              "<table>\n",
              "    <thead>\n",
              "        <tr>\n",
              "            <th>salario_medio</th>\n",
              "        </tr>\n",
              "    </thead>\n",
              "    <tbody>\n",
              "        <tr>\n",
              "            <td>6330.0</td>\n",
              "        </tr>\n",
              "    </tbody>\n",
              "</table>"
            ]
          },
          "metadata": {},
          "execution_count": 32
        }
      ]
    },
    {
      "cell_type": "markdown",
      "source": [
        "Mostre o maior e o menor salário registrados."
      ],
      "metadata": {
        "id": "6PjqCA7845u8"
      },
      "id": "6PjqCA7845u8"
    },
    {
      "cell_type": "code",
      "source": [
        "%%sql\n",
        "SELECT MIN(salario) AS salario_minimo, MAX(salario) AS salario_maximo\n",
        "FROM funcionarios;"
      ],
      "metadata": {
        "colab": {
          "base_uri": "https://localhost:8080/",
          "height": 78
        },
        "id": "pEyyYLgD5aov",
        "outputId": "4da87d78-7bcd-41e7-a055-19ff3a98e1c3"
      },
      "id": "pEyyYLgD5aov",
      "execution_count": 33,
      "outputs": [
        {
          "output_type": "display_data",
          "data": {
            "text/plain": [
              "Running query in 'duckdb:///duckdb_database.duckdb'"
            ],
            "text/html": [
              "<span style=\"None\">Running query in &#x27;duckdb:///duckdb_database.duckdb&#x27;</span>"
            ]
          },
          "metadata": {}
        },
        {
          "output_type": "execute_result",
          "data": {
            "text/plain": [
              "+----------------+----------------+\n",
              "| salario_minimo | salario_maximo |\n",
              "+----------------+----------------+\n",
              "|    2200.00     |    8500.00     |\n",
              "+----------------+----------------+"
            ],
            "text/html": [
              "<table>\n",
              "    <thead>\n",
              "        <tr>\n",
              "            <th>salario_minimo</th>\n",
              "            <th>salario_maximo</th>\n",
              "        </tr>\n",
              "    </thead>\n",
              "    <tbody>\n",
              "        <tr>\n",
              "            <td>2200.00</td>\n",
              "            <td>8500.00</td>\n",
              "        </tr>\n",
              "    </tbody>\n",
              "</table>"
            ]
          },
          "metadata": {},
          "execution_count": 33
        }
      ]
    },
    {
      "cell_type": "markdown",
      "source": [
        "Exiba a soma total dos salários do departamento de TI."
      ],
      "metadata": {
        "id": "gQGmK9Tt458i"
      },
      "id": "gQGmK9Tt458i"
    },
    {
      "cell_type": "code",
      "source": [
        "%%sql\n",
        "SELECT SUM(f.salario) AS soma_salarios_ti\n",
        "FROM funcionarios f\n",
        "JOIN cargos c ON f.cargo_id = c.id\n",
        "JOIN departamentos d ON c.departamento_id = d.id\n",
        "WHERE d.nome = 'TI';"
      ],
      "metadata": {
        "colab": {
          "base_uri": "https://localhost:8080/",
          "height": 78
        },
        "id": "GhYKf9wW5bUu",
        "outputId": "81a8efef-077a-4cf6-c0db-32439836ad30"
      },
      "id": "GhYKf9wW5bUu",
      "execution_count": 35,
      "outputs": [
        {
          "output_type": "display_data",
          "data": {
            "text/plain": [
              "Running query in 'duckdb:///duckdb_database.duckdb'"
            ],
            "text/html": [
              "<span style=\"None\">Running query in &#x27;duckdb:///duckdb_database.duckdb&#x27;</span>"
            ]
          },
          "metadata": {}
        },
        {
          "output_type": "execute_result",
          "data": {
            "text/plain": [
              "+------------------+\n",
              "| soma_salarios_ti |\n",
              "+------------------+\n",
              "|     42000.00     |\n",
              "+------------------+"
            ],
            "text/html": [
              "<table>\n",
              "    <thead>\n",
              "        <tr>\n",
              "            <th>soma_salarios_ti</th>\n",
              "        </tr>\n",
              "    </thead>\n",
              "    <tbody>\n",
              "        <tr>\n",
              "            <td>42000.00</td>\n",
              "        </tr>\n",
              "    </tbody>\n",
              "</table>"
            ]
          },
          "metadata": {},
          "execution_count": 35
        }
      ]
    },
    {
      "cell_type": "markdown",
      "source": [
        "Mostre quantos funcionários há em cada departamento."
      ],
      "metadata": {
        "id": "nTNbLURt46JQ"
      },
      "id": "nTNbLURt46JQ"
    },
    {
      "cell_type": "code",
      "source": [
        "%%sql\n",
        "SELECT d.nome AS departamento, COUNT(*) AS total_funcionarios\n",
        "FROM funcionarios f\n",
        "JOIN cargos c ON f.cargo_id = c.id\n",
        "JOIN departamentos d ON c.departamento_id = d.id\n",
        "GROUP BY d.nome;"
      ],
      "metadata": {
        "colab": {
          "base_uri": "https://localhost:8080/",
          "height": 120
        },
        "id": "JbhwfwJx5cJC",
        "outputId": "fbe9e127-5a47-47aa-d6b8-9fd6f9837f17"
      },
      "id": "JbhwfwJx5cJC",
      "execution_count": 37,
      "outputs": [
        {
          "output_type": "display_data",
          "data": {
            "text/plain": [
              "Running query in 'duckdb:///duckdb_database.duckdb'"
            ],
            "text/html": [
              "<span style=\"None\">Running query in &#x27;duckdb:///duckdb_database.duckdb&#x27;</span>"
            ]
          },
          "metadata": {}
        },
        {
          "output_type": "execute_result",
          "data": {
            "text/plain": [
              "+--------------+--------------------+\n",
              "| departamento | total_funcionarios |\n",
              "+--------------+--------------------+\n",
              "|      TI      |         6          |\n",
              "|  Marketing   |         2          |\n",
              "|  Financeiro  |         2          |\n",
              "+--------------+--------------------+"
            ],
            "text/html": [
              "<table>\n",
              "    <thead>\n",
              "        <tr>\n",
              "            <th>departamento</th>\n",
              "            <th>total_funcionarios</th>\n",
              "        </tr>\n",
              "    </thead>\n",
              "    <tbody>\n",
              "        <tr>\n",
              "            <td>TI</td>\n",
              "            <td>6</td>\n",
              "        </tr>\n",
              "        <tr>\n",
              "            <td>Marketing</td>\n",
              "            <td>2</td>\n",
              "        </tr>\n",
              "        <tr>\n",
              "            <td>Financeiro</td>\n",
              "            <td>2</td>\n",
              "        </tr>\n",
              "    </tbody>\n",
              "</table>"
            ]
          },
          "metadata": {},
          "execution_count": 37
        }
      ]
    },
    {
      "cell_type": "markdown",
      "source": [
        "Calcule a média salarial por cidade."
      ],
      "metadata": {
        "id": "EwEt3g4k46VR"
      },
      "id": "EwEt3g4k46VR"
    },
    {
      "cell_type": "code",
      "source": [
        "%%sql\n",
        "SELECT ci.nome AS cidade,\n",
        "       ROUND(AVG(f.salario), 2) AS media_salarial\n",
        "FROM funcionarios f\n",
        "JOIN cidades ci ON f.cidade_id = ci.id\n",
        "GROUP BY ci.nome\n",
        "ORDER BY ci.nome;"
      ],
      "metadata": {
        "colab": {
          "base_uri": "https://localhost:8080/",
          "height": 183
        },
        "id": "MUuGQZ_T5csn",
        "outputId": "3f0b46c7-f88e-44ea-bb23-c148cfdb5465"
      },
      "id": "MUuGQZ_T5csn",
      "execution_count": 38,
      "outputs": [
        {
          "output_type": "display_data",
          "data": {
            "text/plain": [
              "Running query in 'duckdb:///duckdb_database.duckdb'"
            ],
            "text/html": [
              "<span style=\"None\">Running query in &#x27;duckdb:///duckdb_database.duckdb&#x27;</span>"
            ]
          },
          "metadata": {}
        },
        {
          "output_type": "execute_result",
          "data": {
            "text/plain": [
              "+----------------+----------------+\n",
              "|     cidade     | media_salarial |\n",
              "+----------------+----------------+\n",
              "| Belo Horizonte |     5800.0     |\n",
              "|    Curitiba    |     5900.0     |\n",
              "|  Porto Alegre  |     7000.0     |\n",
              "|     Recife     |     2200.0     |\n",
              "| Rio de Janeiro |     7000.0     |\n",
              "|   São Paulo    |     7500.0     |\n",
              "+----------------+----------------+"
            ],
            "text/html": [
              "<table>\n",
              "    <thead>\n",
              "        <tr>\n",
              "            <th>cidade</th>\n",
              "            <th>media_salarial</th>\n",
              "        </tr>\n",
              "    </thead>\n",
              "    <tbody>\n",
              "        <tr>\n",
              "            <td>Belo Horizonte</td>\n",
              "            <td>5800.0</td>\n",
              "        </tr>\n",
              "        <tr>\n",
              "            <td>Curitiba</td>\n",
              "            <td>5900.0</td>\n",
              "        </tr>\n",
              "        <tr>\n",
              "            <td>Porto Alegre</td>\n",
              "            <td>7000.0</td>\n",
              "        </tr>\n",
              "        <tr>\n",
              "            <td>Recife</td>\n",
              "            <td>2200.0</td>\n",
              "        </tr>\n",
              "        <tr>\n",
              "            <td>Rio de Janeiro</td>\n",
              "            <td>7000.0</td>\n",
              "        </tr>\n",
              "        <tr>\n",
              "            <td>São Paulo</td>\n",
              "            <td>7500.0</td>\n",
              "        </tr>\n",
              "    </tbody>\n",
              "</table>"
            ]
          },
          "metadata": {},
          "execution_count": 38
        }
      ]
    },
    {
      "cell_type": "markdown",
      "source": [
        "Exiba apenas os departamentos cuja média salarial é maior que 7000."
      ],
      "metadata": {
        "id": "TMl24WQS46j7"
      },
      "id": "TMl24WQS46j7"
    },
    {
      "cell_type": "code",
      "source": [
        "%%sql\n",
        "-- Média salarial por departamento, filtrando médias > 7000 e ordenando\n",
        "SELECT d.nome AS departamento,\n",
        "       ROUND(AVG(f.salario), 2) AS media_salarial\n",
        "FROM funcionarios f\n",
        "JOIN cargos c ON f.cargo_id = c.id\n",
        "JOIN departamentos d ON c.departamento_id = d.id\n",
        "GROUP BY d.nome\n",
        "HAVING AVG(f.salario) > 7000\n",
        "ORDER BY media_salarial DESC;"
      ],
      "metadata": {
        "colab": {
          "base_uri": "https://localhost:8080/",
          "height": 57
        },
        "id": "DBFlKjDU5dRf",
        "outputId": "1fc581c1-ddef-4b2f-e476-e5ffab1388ec"
      },
      "id": "DBFlKjDU5dRf",
      "execution_count": 39,
      "outputs": [
        {
          "output_type": "display_data",
          "data": {
            "text/plain": [
              "Running query in 'duckdb:///duckdb_database.duckdb'"
            ],
            "text/html": [
              "<span style=\"None\">Running query in &#x27;duckdb:///duckdb_database.duckdb&#x27;</span>"
            ]
          },
          "metadata": {}
        },
        {
          "output_type": "execute_result",
          "data": {
            "text/plain": [
              "+--------------+----------------+\n",
              "| departamento | media_salarial |\n",
              "+--------------+----------------+\n",
              "+--------------+----------------+"
            ],
            "text/html": [
              "<table>\n",
              "    <thead>\n",
              "        <tr>\n",
              "            <th>departamento</th>\n",
              "            <th>media_salarial</th>\n",
              "        </tr>\n",
              "    </thead>\n",
              "    <tbody>\n",
              "    </tbody>\n",
              "</table>"
            ]
          },
          "metadata": {},
          "execution_count": 39
        }
      ]
    },
    {
      "cell_type": "markdown",
      "source": [
        "Mostre o número de funcionários por cargo, ordenando do maior para o menor."
      ],
      "metadata": {
        "id": "OvG3x0cw5RPx"
      },
      "id": "OvG3x0cw5RPx"
    },
    {
      "cell_type": "code",
      "source": [
        "%%sql\n",
        "SELECT c.nome AS cargo,\n",
        "       COUNT(*) AS total_funcionarios\n",
        "FROM funcionarios f\n",
        "JOIN cargos c ON f.cargo_id = c.id\n",
        "GROUP BY c.nome\n",
        "ORDER BY total_funcionarios DESC;"
      ],
      "metadata": {
        "colab": {
          "base_uri": "https://localhost:8080/",
          "height": 204
        },
        "id": "mPvlqCEh5d-A",
        "outputId": "2dc04aad-f8f6-4410-daaf-b1d0f3880778"
      },
      "id": "mPvlqCEh5d-A",
      "execution_count": 40,
      "outputs": [
        {
          "output_type": "display_data",
          "data": {
            "text/plain": [
              "Running query in 'duckdb:///duckdb_database.duckdb'"
            ],
            "text/html": [
              "<span style=\"None\">Running query in &#x27;duckdb:///duckdb_database.duckdb&#x27;</span>"
            ]
          },
          "metadata": {}
        },
        {
          "output_type": "execute_result",
          "data": {
            "text/plain": [
              "+---------------------+--------------------+\n",
              "|        cargo        | total_funcionarios |\n",
              "+---------------------+--------------------+\n",
              "|    Desenvolvedor    |         3          |\n",
              "|  Analista de Dados  |         2          |\n",
              "|       Designer      |         1          |\n",
              "| Gerente de Projetos |         1          |\n",
              "|   Coordenadora MKT  |         1          |\n",
              "| Analista Financeira |         1          |\n",
              "|      Estagiária     |         1          |\n",
              "+---------------------+--------------------+"
            ],
            "text/html": [
              "<table>\n",
              "    <thead>\n",
              "        <tr>\n",
              "            <th>cargo</th>\n",
              "            <th>total_funcionarios</th>\n",
              "        </tr>\n",
              "    </thead>\n",
              "    <tbody>\n",
              "        <tr>\n",
              "            <td>Desenvolvedor</td>\n",
              "            <td>3</td>\n",
              "        </tr>\n",
              "        <tr>\n",
              "            <td>Analista de Dados</td>\n",
              "            <td>2</td>\n",
              "        </tr>\n",
              "        <tr>\n",
              "            <td>Designer</td>\n",
              "            <td>1</td>\n",
              "        </tr>\n",
              "        <tr>\n",
              "            <td>Gerente de Projetos</td>\n",
              "            <td>1</td>\n",
              "        </tr>\n",
              "        <tr>\n",
              "            <td>Coordenadora MKT</td>\n",
              "            <td>1</td>\n",
              "        </tr>\n",
              "        <tr>\n",
              "            <td>Analista Financeira</td>\n",
              "            <td>1</td>\n",
              "        </tr>\n",
              "        <tr>\n",
              "            <td>Estagiária</td>\n",
              "            <td>1</td>\n",
              "        </tr>\n",
              "    </tbody>\n",
              "</table>"
            ]
          },
          "metadata": {},
          "execution_count": 40
        }
      ]
    },
    {
      "cell_type": "markdown",
      "source": [
        "Liste os 5 funcionários com os maiores salários."
      ],
      "metadata": {
        "id": "lNeQ9Da16phu"
      },
      "id": "lNeQ9Da16phu"
    },
    {
      "cell_type": "code",
      "source": [
        "%%sql\n",
        "SELECT\n",
        "    f.nome AS funcionario,\n",
        "    c.nome AS cargo,\n",
        "    d.nome AS departamento,\n",
        "    ci.nome AS cidade,\n",
        "    f.salario,\n",
        "    f.idade,\n",
        "    f.data_admissao\n",
        "FROM funcionarios f\n",
        "JOIN cargos c ON f.cargo_id = c.id\n",
        "JOIN departamentos d ON c.departamento_id = d.id\n",
        "JOIN cidades ci ON f.cidade_id = ci.id\n",
        "ORDER BY f.salario DESC\n",
        "LIMIT 5;"
      ],
      "metadata": {
        "colab": {
          "base_uri": "https://localhost:8080/",
          "height": 162
        },
        "id": "6QF5xhaq7DiM",
        "outputId": "188deb29-36d4-4738-d043-8ea5871a1616"
      },
      "id": "6QF5xhaq7DiM",
      "execution_count": 41,
      "outputs": [
        {
          "output_type": "display_data",
          "data": {
            "text/plain": [
              "Running query in 'duckdb:///duckdb_database.duckdb'"
            ],
            "text/html": [
              "<span style=\"None\">Running query in &#x27;duckdb:///duckdb_database.duckdb&#x27;</span>"
            ]
          },
          "metadata": {}
        },
        {
          "output_type": "execute_result",
          "data": {
            "text/plain": [
              "+----------------+---------------------+--------------+----------------+---------+-------+---------------+\n",
              "|  funcionario   |        cargo        | departamento |     cidade     | salario | idade | data_admissao |\n",
              "+----------------+---------------------+--------------+----------------+---------+-------+---------------+\n",
              "|   Carla Dias   |   Coordenadora MKT  |  Marketing   |   São Paulo    | 8500.00 |   35  |   2016-02-27  |\n",
              "|   Ana Souza    |  Analista de Dados  |      TI      |   São Paulo    | 7000.00 |   29  |   2020-05-10  |\n",
              "| Lucas Almeida  |    Desenvolvedor    |      TI      |  Porto Alegre  | 7000.00 |   28  |   2020-11-05  |\n",
              "| Pedro Oliveira | Gerente de Projetos |      TI      |   São Paulo    | 7000.00 |   41  |   2015-01-22  |\n",
              "|   João Lima    |    Desenvolvedor    |      TI      | Rio de Janeiro | 7000.00 |   33  |   2018-03-14  |\n",
              "+----------------+---------------------+--------------+----------------+---------+-------+---------------+"
            ],
            "text/html": [
              "<table>\n",
              "    <thead>\n",
              "        <tr>\n",
              "            <th>funcionario</th>\n",
              "            <th>cargo</th>\n",
              "            <th>departamento</th>\n",
              "            <th>cidade</th>\n",
              "            <th>salario</th>\n",
              "            <th>idade</th>\n",
              "            <th>data_admissao</th>\n",
              "        </tr>\n",
              "    </thead>\n",
              "    <tbody>\n",
              "        <tr>\n",
              "            <td>Carla Dias</td>\n",
              "            <td>Coordenadora MKT</td>\n",
              "            <td>Marketing</td>\n",
              "            <td>São Paulo</td>\n",
              "            <td>8500.00</td>\n",
              "            <td>35</td>\n",
              "            <td>2016-02-27</td>\n",
              "        </tr>\n",
              "        <tr>\n",
              "            <td>Ana Souza</td>\n",
              "            <td>Analista de Dados</td>\n",
              "            <td>TI</td>\n",
              "            <td>São Paulo</td>\n",
              "            <td>7000.00</td>\n",
              "            <td>29</td>\n",
              "            <td>2020-05-10</td>\n",
              "        </tr>\n",
              "        <tr>\n",
              "            <td>Lucas Almeida</td>\n",
              "            <td>Desenvolvedor</td>\n",
              "            <td>TI</td>\n",
              "            <td>Porto Alegre</td>\n",
              "            <td>7000.00</td>\n",
              "            <td>28</td>\n",
              "            <td>2020-11-05</td>\n",
              "        </tr>\n",
              "        <tr>\n",
              "            <td>Pedro Oliveira</td>\n",
              "            <td>Gerente de Projetos</td>\n",
              "            <td>TI</td>\n",
              "            <td>São Paulo</td>\n",
              "            <td>7000.00</td>\n",
              "            <td>41</td>\n",
              "            <td>2015-01-22</td>\n",
              "        </tr>\n",
              "        <tr>\n",
              "            <td>João Lima</td>\n",
              "            <td>Desenvolvedor</td>\n",
              "            <td>TI</td>\n",
              "            <td>Rio de Janeiro</td>\n",
              "            <td>7000.00</td>\n",
              "            <td>33</td>\n",
              "            <td>2018-03-14</td>\n",
              "        </tr>\n",
              "    </tbody>\n",
              "</table>"
            ]
          },
          "metadata": {},
          "execution_count": 41
        }
      ]
    },
    {
      "cell_type": "markdown",
      "source": [
        "Mostre os 3 funcionários mais antigos (menor data de admissão)."
      ],
      "metadata": {
        "id": "LhIiQ9EI6px_"
      },
      "id": "LhIiQ9EI6px_"
    },
    {
      "cell_type": "code",
      "source": [
        "%%sql\n",
        "SELECT *\n",
        "FROM funcionarios\n",
        "ORDER BY data_admissao ASC\n",
        "LIMIT 3;"
      ],
      "metadata": {
        "colab": {
          "base_uri": "https://localhost:8080/",
          "height": 120
        },
        "id": "Mo-LMHgk7ELA",
        "outputId": "4c89319a-c3f1-42f6-d555-116f666916bc"
      },
      "id": "Mo-LMHgk7ELA",
      "execution_count": 42,
      "outputs": [
        {
          "output_type": "display_data",
          "data": {
            "text/plain": [
              "Running query in 'duckdb:///duckdb_database.duckdb'"
            ],
            "text/html": [
              "<span style=\"None\">Running query in &#x27;duckdb:///duckdb_database.duckdb&#x27;</span>"
            ]
          },
          "metadata": {}
        },
        {
          "output_type": "execute_result",
          "data": {
            "text/plain": [
              "+----+----------------+----------+-----------+---------+-------+---------------+\n",
              "| id |      nome      | cargo_id | cidade_id | salario | idade | data_admissao |\n",
              "+----+----------------+----------+-----------+---------+-------+---------------+\n",
              "| 4  | Pedro Oliveira |    3     |     1     | 7000.00 |   41  |   2015-01-22  |\n",
              "| 7  |   Carla Dias   |    5     |     1     | 8500.00 |   35  |   2016-02-27  |\n",
              "| 10 | Bruno Ferreira |    2     |     2     | 7000.00 |   31  |   2017-04-30  |\n",
              "+----+----------------+----------+-----------+---------+-------+---------------+"
            ],
            "text/html": [
              "<table>\n",
              "    <thead>\n",
              "        <tr>\n",
              "            <th>id</th>\n",
              "            <th>nome</th>\n",
              "            <th>cargo_id</th>\n",
              "            <th>cidade_id</th>\n",
              "            <th>salario</th>\n",
              "            <th>idade</th>\n",
              "            <th>data_admissao</th>\n",
              "        </tr>\n",
              "    </thead>\n",
              "    <tbody>\n",
              "        <tr>\n",
              "            <td>4</td>\n",
              "            <td>Pedro Oliveira</td>\n",
              "            <td>3</td>\n",
              "            <td>1</td>\n",
              "            <td>7000.00</td>\n",
              "            <td>41</td>\n",
              "            <td>2015-01-22</td>\n",
              "        </tr>\n",
              "        <tr>\n",
              "            <td>7</td>\n",
              "            <td>Carla Dias</td>\n",
              "            <td>5</td>\n",
              "            <td>1</td>\n",
              "            <td>8500.00</td>\n",
              "            <td>35</td>\n",
              "            <td>2016-02-27</td>\n",
              "        </tr>\n",
              "        <tr>\n",
              "            <td>10</td>\n",
              "            <td>Bruno Ferreira</td>\n",
              "            <td>2</td>\n",
              "            <td>2</td>\n",
              "            <td>7000.00</td>\n",
              "            <td>31</td>\n",
              "            <td>2017-04-30</td>\n",
              "        </tr>\n",
              "    </tbody>\n",
              "</table>"
            ]
          },
          "metadata": {},
          "execution_count": 42
        }
      ]
    },
    {
      "cell_type": "markdown",
      "source": [
        "Exiba os funcionários ordenados por cidade (ascendente) e salário (descendente)."
      ],
      "metadata": {
        "id": "llAV147I6p70"
      },
      "id": "llAV147I6p70"
    },
    {
      "cell_type": "code",
      "source": [
        "%%sql\n",
        "SELECT\n",
        "    f.nome AS funcionario,\n",
        "    c.nome AS cargo,\n",
        "    d.nome AS departamento,\n",
        "    ci.nome AS cidade,\n",
        "    f.salario,\n",
        "    f.idade,\n",
        "    f.data_admissao\n",
        "FROM funcionarios f\n",
        "JOIN cargos c ON f.cargo_id = c.id\n",
        "JOIN departamentos d ON c.departamento_id = d.id\n",
        "JOIN cidades ci ON f.cidade_id = ci.id\n",
        "ORDER BY ci.nome ASC, f.salario DESC;"
      ],
      "metadata": {
        "colab": {
          "base_uri": "https://localhost:8080/",
          "height": 284
        },
        "id": "B3aQWi1w7E0x",
        "outputId": "332a0a2b-414a-486a-ab00-3337c5c03080"
      },
      "id": "B3aQWi1w7E0x",
      "execution_count": 44,
      "outputs": [
        {
          "output_type": "display_data",
          "data": {
            "text/plain": [
              "Running query in 'duckdb:///duckdb_database.duckdb'"
            ],
            "text/html": [
              "<span style=\"None\">Running query in &#x27;duckdb:///duckdb_database.duckdb&#x27;</span>"
            ]
          },
          "metadata": {}
        },
        {
          "output_type": "execute_result",
          "data": {
            "text/plain": [
              "+----------------+---------------------+--------------+----------------+---------+-------+---------------+\n",
              "|  funcionario   |        cargo        | departamento |     cidade     | salario | idade | data_admissao |\n",
              "+----------------+---------------------+--------------+----------------+---------+-------+---------------+\n",
              "| Júlia Martins  | Analista Financeira |  Financeiro  | Belo Horizonte | 5800.00 |   30  |   2019-06-18  |\n",
              "|  Rafael Gomes  |  Analista de Dados  |      TI      |    Curitiba    | 7000.00 |   27  |   2022-01-15  |\n",
              "|  Maria Santos  |       Designer      |  Marketing   |    Curitiba    | 4800.00 |   26  |   2021-09-01  |\n",
              "| Lucas Almeida  |    Desenvolvedor    |      TI      |  Porto Alegre  | 7000.00 |   28  |   2020-11-05  |\n",
              "| Fernanda Costa |      Estagiária     |  Financeiro  |     Recife     | 2200.00 |   22  |   2023-03-10  |\n",
              "|   João Lima    |    Desenvolvedor    |      TI      | Rio de Janeiro | 7000.00 |   33  |   2018-03-14  |\n",
              "| Bruno Ferreira |    Desenvolvedor    |      TI      | Rio de Janeiro | 7000.00 |   31  |   2017-04-30  |\n",
              "|   Carla Dias   |   Coordenadora MKT  |  Marketing   |   São Paulo    | 8500.00 |   35  |   2016-02-27  |\n",
              "|   Ana Souza    |  Analista de Dados  |      TI      |   São Paulo    | 7000.00 |   29  |   2020-05-10  |\n",
              "| Pedro Oliveira | Gerente de Projetos |      TI      |   São Paulo    | 7000.00 |   41  |   2015-01-22  |\n",
              "+----------------+---------------------+--------------+----------------+---------+-------+---------------+\n",
              "Truncated to displaylimit of 10."
            ],
            "text/html": [
              "<table>\n",
              "    <thead>\n",
              "        <tr>\n",
              "            <th>funcionario</th>\n",
              "            <th>cargo</th>\n",
              "            <th>departamento</th>\n",
              "            <th>cidade</th>\n",
              "            <th>salario</th>\n",
              "            <th>idade</th>\n",
              "            <th>data_admissao</th>\n",
              "        </tr>\n",
              "    </thead>\n",
              "    <tbody>\n",
              "        <tr>\n",
              "            <td>Júlia Martins</td>\n",
              "            <td>Analista Financeira</td>\n",
              "            <td>Financeiro</td>\n",
              "            <td>Belo Horizonte</td>\n",
              "            <td>5800.00</td>\n",
              "            <td>30</td>\n",
              "            <td>2019-06-18</td>\n",
              "        </tr>\n",
              "        <tr>\n",
              "            <td>Rafael Gomes</td>\n",
              "            <td>Analista de Dados</td>\n",
              "            <td>TI</td>\n",
              "            <td>Curitiba</td>\n",
              "            <td>7000.00</td>\n",
              "            <td>27</td>\n",
              "            <td>2022-01-15</td>\n",
              "        </tr>\n",
              "        <tr>\n",
              "            <td>Maria Santos</td>\n",
              "            <td>Designer</td>\n",
              "            <td>Marketing</td>\n",
              "            <td>Curitiba</td>\n",
              "            <td>4800.00</td>\n",
              "            <td>26</td>\n",
              "            <td>2021-09-01</td>\n",
              "        </tr>\n",
              "        <tr>\n",
              "            <td>Lucas Almeida</td>\n",
              "            <td>Desenvolvedor</td>\n",
              "            <td>TI</td>\n",
              "            <td>Porto Alegre</td>\n",
              "            <td>7000.00</td>\n",
              "            <td>28</td>\n",
              "            <td>2020-11-05</td>\n",
              "        </tr>\n",
              "        <tr>\n",
              "            <td>Fernanda Costa</td>\n",
              "            <td>Estagiária</td>\n",
              "            <td>Financeiro</td>\n",
              "            <td>Recife</td>\n",
              "            <td>2200.00</td>\n",
              "            <td>22</td>\n",
              "            <td>2023-03-10</td>\n",
              "        </tr>\n",
              "        <tr>\n",
              "            <td>João Lima</td>\n",
              "            <td>Desenvolvedor</td>\n",
              "            <td>TI</td>\n",
              "            <td>Rio de Janeiro</td>\n",
              "            <td>7000.00</td>\n",
              "            <td>33</td>\n",
              "            <td>2018-03-14</td>\n",
              "        </tr>\n",
              "        <tr>\n",
              "            <td>Bruno Ferreira</td>\n",
              "            <td>Desenvolvedor</td>\n",
              "            <td>TI</td>\n",
              "            <td>Rio de Janeiro</td>\n",
              "            <td>7000.00</td>\n",
              "            <td>31</td>\n",
              "            <td>2017-04-30</td>\n",
              "        </tr>\n",
              "        <tr>\n",
              "            <td>Carla Dias</td>\n",
              "            <td>Coordenadora MKT</td>\n",
              "            <td>Marketing</td>\n",
              "            <td>São Paulo</td>\n",
              "            <td>8500.00</td>\n",
              "            <td>35</td>\n",
              "            <td>2016-02-27</td>\n",
              "        </tr>\n",
              "        <tr>\n",
              "            <td>Ana Souza</td>\n",
              "            <td>Analista de Dados</td>\n",
              "            <td>TI</td>\n",
              "            <td>São Paulo</td>\n",
              "            <td>7000.00</td>\n",
              "            <td>29</td>\n",
              "            <td>2020-05-10</td>\n",
              "        </tr>\n",
              "        <tr>\n",
              "            <td>Pedro Oliveira</td>\n",
              "            <td>Gerente de Projetos</td>\n",
              "            <td>TI</td>\n",
              "            <td>São Paulo</td>\n",
              "            <td>7000.00</td>\n",
              "            <td>41</td>\n",
              "            <td>2015-01-22</td>\n",
              "        </tr>\n",
              "    </tbody>\n",
              "</table>\n",
              "<span style=\"font-style:italic;text-align:center;\">Truncated to <a href=\"https://jupysql.ploomber.io/en/latest/api/configuration.html#displaylimit\">displaylimit</a> of 10.</span>"
            ]
          },
          "metadata": {},
          "execution_count": 44
        }
      ]
    },
    {
      "cell_type": "markdown",
      "source": [
        "Mostre os funcionários do departamento de TI com salário acima da média do departamento."
      ],
      "metadata": {
        "id": "z2vOrCtn6qHj"
      },
      "id": "z2vOrCtn6qHj"
    },
    {
      "cell_type": "code",
      "source": [
        "%%sql\n",
        "WITH media_departamento AS (\n",
        "    SELECT c.departamento_id,\n",
        "           AVG(f.salario) AS media_salarial\n",
        "    FROM funcionarios f\n",
        "    JOIN cargos c ON f.cargo_id = c.id\n",
        "    GROUP BY c.departamento_id\n",
        ")\n",
        "SELECT\n",
        "    f.nome AS funcionario,\n",
        "    c.nome AS cargo,\n",
        "    d.nome AS departamento,\n",
        "    f.salario\n",
        "FROM funcionarios f\n",
        "JOIN cargos c ON f.cargo_id = c.id\n",
        "JOIN departamentos d ON c.departamento_id = d.id\n",
        "JOIN media_departamento md ON d.id = md.departamento_id\n",
        "WHERE f.salario > md.media_salarial\n",
        "ORDER BY d.nome, f.salario DESC;"
      ],
      "metadata": {
        "colab": {
          "base_uri": "https://localhost:8080/",
          "height": 99
        },
        "id": "s7Ee35pZ7Fku",
        "outputId": "b1cfff34-e4f8-44d7-9ccc-50a979d09170"
      },
      "id": "s7Ee35pZ7Fku",
      "execution_count": 50,
      "outputs": [
        {
          "output_type": "display_data",
          "data": {
            "text/plain": [
              "Running query in 'duckdb:///duckdb_database.duckdb'"
            ],
            "text/html": [
              "<span style=\"None\">Running query in &#x27;duckdb:///duckdb_database.duckdb&#x27;</span>"
            ]
          },
          "metadata": {}
        },
        {
          "output_type": "execute_result",
          "data": {
            "text/plain": [
              "+---------------+---------------------+--------------+---------+\n",
              "|  funcionario  |        cargo        | departamento | salario |\n",
              "+---------------+---------------------+--------------+---------+\n",
              "| Júlia Martins | Analista Financeira |  Financeiro  | 5800.00 |\n",
              "|   Carla Dias  |   Coordenadora MKT  |  Marketing   | 8500.00 |\n",
              "+---------------+---------------------+--------------+---------+"
            ],
            "text/html": [
              "<table>\n",
              "    <thead>\n",
              "        <tr>\n",
              "            <th>funcionario</th>\n",
              "            <th>cargo</th>\n",
              "            <th>departamento</th>\n",
              "            <th>salario</th>\n",
              "        </tr>\n",
              "    </thead>\n",
              "    <tbody>\n",
              "        <tr>\n",
              "            <td>Júlia Martins</td>\n",
              "            <td>Analista Financeira</td>\n",
              "            <td>Financeiro</td>\n",
              "            <td>5800.00</td>\n",
              "        </tr>\n",
              "        <tr>\n",
              "            <td>Carla Dias</td>\n",
              "            <td>Coordenadora MKT</td>\n",
              "            <td>Marketing</td>\n",
              "            <td>8500.00</td>\n",
              "        </tr>\n",
              "    </tbody>\n",
              "</table>"
            ]
          },
          "metadata": {},
          "execution_count": 50
        }
      ]
    },
    {
      "cell_type": "markdown",
      "source": [
        "Calcule a diferença de salário entre o maior e o menor valor da tabela."
      ],
      "metadata": {
        "id": "GGn7OXyW8TFU"
      },
      "id": "GGn7OXyW8TFU"
    },
    {
      "cell_type": "code",
      "source": [
        "%%sql\n",
        "SELECT MAX(salario) - MIN(salario) AS diferenca_salarial\n",
        "FROM funcionarios;"
      ],
      "metadata": {
        "colab": {
          "base_uri": "https://localhost:8080/",
          "height": 78
        },
        "id": "VEreD0Fn8tM1",
        "outputId": "167a7a82-185f-4918-9276-6e41e6a099df"
      },
      "id": "VEreD0Fn8tM1",
      "execution_count": 54,
      "outputs": [
        {
          "output_type": "display_data",
          "data": {
            "text/plain": [
              "Running query in 'duckdb:///duckdb_database.duckdb'"
            ],
            "text/html": [
              "<span style=\"None\">Running query in &#x27;duckdb:///duckdb_database.duckdb&#x27;</span>"
            ]
          },
          "metadata": {}
        },
        {
          "output_type": "execute_result",
          "data": {
            "text/plain": [
              "+--------------------+\n",
              "| diferenca_salarial |\n",
              "+--------------------+\n",
              "|      6300.00       |\n",
              "+--------------------+"
            ],
            "text/html": [
              "<table>\n",
              "    <thead>\n",
              "        <tr>\n",
              "            <th>diferenca_salarial</th>\n",
              "        </tr>\n",
              "    </thead>\n",
              "    <tbody>\n",
              "        <tr>\n",
              "            <td>6300.00</td>\n",
              "        </tr>\n",
              "    </tbody>\n",
              "</table>"
            ]
          },
          "metadata": {},
          "execution_count": 54
        }
      ]
    },
    {
      "cell_type": "markdown",
      "source": [
        "Mostre os funcionários que ganham acima da média geral."
      ],
      "metadata": {
        "id": "kR58v5GY8TQj"
      },
      "id": "kR58v5GY8TQj"
    },
    {
      "cell_type": "code",
      "source": [
        "%%sql\n",
        "SELECT funcionarios.*\n",
        "FROM funcionarios\n",
        "WHERE salario > (SELECT AVG(salario) FROM funcionarios);"
      ],
      "metadata": {
        "colab": {
          "base_uri": "https://localhost:8080/",
          "height": 204
        },
        "id": "og48s1sy8t1x",
        "outputId": "09d5a793-74d0-44c7-cc6d-ecf26db2643d"
      },
      "id": "og48s1sy8t1x",
      "execution_count": 55,
      "outputs": [
        {
          "output_type": "display_data",
          "data": {
            "text/plain": [
              "Running query in 'duckdb:///duckdb_database.duckdb'"
            ],
            "text/html": [
              "<span style=\"None\">Running query in &#x27;duckdb:///duckdb_database.duckdb&#x27;</span>"
            ]
          },
          "metadata": {}
        },
        {
          "output_type": "execute_result",
          "data": {
            "text/plain": [
              "+----+----------------+----------+-----------+---------+-------+---------------+\n",
              "| id |      nome      | cargo_id | cidade_id | salario | idade | data_admissao |\n",
              "+----+----------------+----------+-----------+---------+-------+---------------+\n",
              "| 1  |   Ana Souza    |    1     |     1     | 7000.00 |   29  |   2020-05-10  |\n",
              "| 2  |   João Lima    |    2     |     2     | 7000.00 |   33  |   2018-03-14  |\n",
              "| 4  | Pedro Oliveira |    3     |     1     | 7000.00 |   41  |   2015-01-22  |\n",
              "| 6  | Lucas Almeida  |    2     |     5     | 7000.00 |   28  |   2020-11-05  |\n",
              "| 7  |   Carla Dias   |    5     |     1     | 8500.00 |   35  |   2016-02-27  |\n",
              "| 8  |  Rafael Gomes  |    1     |     3     | 7000.00 |   27  |   2022-01-15  |\n",
              "| 10 | Bruno Ferreira |    2     |     2     | 7000.00 |   31  |   2017-04-30  |\n",
              "+----+----------------+----------+-----------+---------+-------+---------------+"
            ],
            "text/html": [
              "<table>\n",
              "    <thead>\n",
              "        <tr>\n",
              "            <th>id</th>\n",
              "            <th>nome</th>\n",
              "            <th>cargo_id</th>\n",
              "            <th>cidade_id</th>\n",
              "            <th>salario</th>\n",
              "            <th>idade</th>\n",
              "            <th>data_admissao</th>\n",
              "        </tr>\n",
              "    </thead>\n",
              "    <tbody>\n",
              "        <tr>\n",
              "            <td>1</td>\n",
              "            <td>Ana Souza</td>\n",
              "            <td>1</td>\n",
              "            <td>1</td>\n",
              "            <td>7000.00</td>\n",
              "            <td>29</td>\n",
              "            <td>2020-05-10</td>\n",
              "        </tr>\n",
              "        <tr>\n",
              "            <td>2</td>\n",
              "            <td>João Lima</td>\n",
              "            <td>2</td>\n",
              "            <td>2</td>\n",
              "            <td>7000.00</td>\n",
              "            <td>33</td>\n",
              "            <td>2018-03-14</td>\n",
              "        </tr>\n",
              "        <tr>\n",
              "            <td>4</td>\n",
              "            <td>Pedro Oliveira</td>\n",
              "            <td>3</td>\n",
              "            <td>1</td>\n",
              "            <td>7000.00</td>\n",
              "            <td>41</td>\n",
              "            <td>2015-01-22</td>\n",
              "        </tr>\n",
              "        <tr>\n",
              "            <td>6</td>\n",
              "            <td>Lucas Almeida</td>\n",
              "            <td>2</td>\n",
              "            <td>5</td>\n",
              "            <td>7000.00</td>\n",
              "            <td>28</td>\n",
              "            <td>2020-11-05</td>\n",
              "        </tr>\n",
              "        <tr>\n",
              "            <td>7</td>\n",
              "            <td>Carla Dias</td>\n",
              "            <td>5</td>\n",
              "            <td>1</td>\n",
              "            <td>8500.00</td>\n",
              "            <td>35</td>\n",
              "            <td>2016-02-27</td>\n",
              "        </tr>\n",
              "        <tr>\n",
              "            <td>8</td>\n",
              "            <td>Rafael Gomes</td>\n",
              "            <td>1</td>\n",
              "            <td>3</td>\n",
              "            <td>7000.00</td>\n",
              "            <td>27</td>\n",
              "            <td>2022-01-15</td>\n",
              "        </tr>\n",
              "        <tr>\n",
              "            <td>10</td>\n",
              "            <td>Bruno Ferreira</td>\n",
              "            <td>2</td>\n",
              "            <td>2</td>\n",
              "            <td>7000.00</td>\n",
              "            <td>31</td>\n",
              "            <td>2017-04-30</td>\n",
              "        </tr>\n",
              "    </tbody>\n",
              "</table>"
            ]
          },
          "metadata": {},
          "execution_count": 55
        }
      ]
    }
  ],
  "metadata": {
    "kernelspec": {
      "display_name": "Python 3 (ipykernel)",
      "language": "python",
      "name": "python3"
    },
    "language_info": {
      "codemirror_mode": {
        "name": "ipython",
        "version": 3
      },
      "file_extension": ".py",
      "mimetype": "text/x-python",
      "name": "python",
      "nbconvert_exporter": "python",
      "pygments_lexer": "ipython3",
      "version": "3.10.12"
    },
    "colab": {
      "provenance": []
    }
  },
  "nbformat": 4,
  "nbformat_minor": 5
}