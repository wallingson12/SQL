{
  "cells": [
    {
      "cell_type": "markdown",
      "source": [
        "# Projeto SQL Corporativo\n",
        "Este notebook demonstra o uso de SQL puro em um ambiente Python (DuckDB), com consultas analíticas e relacionamentos entre tabelas de uma empresa fictícia."
      ],
      "metadata": {
        "id": "RoqfKKnzoiuV"
      },
      "id": "RoqfKKnzoiuV"
    },
    {
      "cell_type": "markdown",
      "source": [
        "**Configuração**"
      ],
      "metadata": {
        "id": "a0bKaiFCotUt"
      },
      "id": "a0bKaiFCotUt"
    },
    {
      "cell_type": "code",
      "execution_count": 1,
      "id": "8614e572-20a3-4aed-8443-1baaae7aa8e5",
      "metadata": {
        "colab": {
          "base_uri": "https://localhost:8080/",
          "height": 835
        },
        "id": "8614e572-20a3-4aed-8443-1baaae7aa8e5",
        "outputId": "33a5b778-4e3b-45c7-a52b-8e50ab6020d1"
      },
      "outputs": [
        {
          "output_type": "stream",
          "name": "stdout",
          "text": [
            "Collecting jupysql\n",
            "  Downloading jupysql-0.11.1-py3-none-any.whl.metadata (5.9 kB)\n",
            "Collecting duckdb-engine\n",
            "  Downloading duckdb_engine-0.17.0-py3-none-any.whl.metadata (8.4 kB)\n",
            "Requirement already satisfied: prettytable>=3.12.0 in /usr/local/lib/python3.12/dist-packages (from jupysql) (3.16.0)\n",
            "Requirement already satisfied: sqlalchemy in /usr/local/lib/python3.12/dist-packages (from jupysql) (2.0.44)\n",
            "Requirement already satisfied: sqlparse in /usr/local/lib/python3.12/dist-packages (from jupysql) (0.5.3)\n",
            "Requirement already satisfied: ipython-genutils>=0.1.0 in /usr/local/lib/python3.12/dist-packages (from jupysql) (0.2.0)\n",
            "Requirement already satisfied: jinja2 in /usr/local/lib/python3.12/dist-packages (from jupysql) (3.1.6)\n",
            "Requirement already satisfied: sqlglot>=11.3.7 in /usr/local/lib/python3.12/dist-packages (from jupysql) (25.20.2)\n",
            "Collecting jupysql-plugin>=0.4.2 (from jupysql)\n",
            "  Downloading jupysql_plugin-0.4.5-py3-none-any.whl.metadata (7.8 kB)\n",
            "Collecting ploomber-core>=0.2.7 (from jupysql)\n",
            "  Downloading ploomber_core-0.2.27-py3-none-any.whl.metadata (532 bytes)\n",
            "Requirement already satisfied: duckdb>=0.5.0 in /usr/local/lib/python3.12/dist-packages (from duckdb-engine) (1.3.2)\n",
            "Requirement already satisfied: packaging>=21 in /usr/local/lib/python3.12/dist-packages (from duckdb-engine) (25.0)\n",
            "Requirement already satisfied: pyyaml in /usr/local/lib/python3.12/dist-packages (from ploomber-core>=0.2.7->jupysql) (6.0.3)\n",
            "Collecting posthog>=3.0 (from ploomber-core>=0.2.7->jupysql)\n",
            "  Downloading posthog-6.7.8-py3-none-any.whl.metadata (6.0 kB)\n",
            "Requirement already satisfied: wcwidth in /usr/local/lib/python3.12/dist-packages (from prettytable>=3.12.0->jupysql) (0.2.14)\n",
            "Requirement already satisfied: greenlet>=1 in /usr/local/lib/python3.12/dist-packages (from sqlalchemy->jupysql) (3.2.4)\n",
            "Requirement already satisfied: typing-extensions>=4.6.0 in /usr/local/lib/python3.12/dist-packages (from sqlalchemy->jupysql) (4.15.0)\n",
            "Requirement already satisfied: MarkupSafe>=2.0 in /usr/local/lib/python3.12/dist-packages (from jinja2->jupysql) (3.0.3)\n",
            "Requirement already satisfied: requests<3.0,>=2.7 in /usr/local/lib/python3.12/dist-packages (from posthog>=3.0->ploomber-core>=0.2.7->jupysql) (2.32.4)\n",
            "Requirement already satisfied: six>=1.5 in /usr/local/lib/python3.12/dist-packages (from posthog>=3.0->ploomber-core>=0.2.7->jupysql) (1.17.0)\n",
            "Requirement already satisfied: python-dateutil>=2.2 in /usr/local/lib/python3.12/dist-packages (from posthog>=3.0->ploomber-core>=0.2.7->jupysql) (2.9.0.post0)\n",
            "Collecting backoff>=1.10.0 (from posthog>=3.0->ploomber-core>=0.2.7->jupysql)\n",
            "  Downloading backoff-2.2.1-py3-none-any.whl.metadata (14 kB)\n",
            "Requirement already satisfied: distro>=1.5.0 in /usr/local/lib/python3.12/dist-packages (from posthog>=3.0->ploomber-core>=0.2.7->jupysql) (1.9.0)\n",
            "Requirement already satisfied: charset_normalizer<4,>=2 in /usr/local/lib/python3.12/dist-packages (from requests<3.0,>=2.7->posthog>=3.0->ploomber-core>=0.2.7->jupysql) (3.4.4)\n",
            "Requirement already satisfied: idna<4,>=2.5 in /usr/local/lib/python3.12/dist-packages (from requests<3.0,>=2.7->posthog>=3.0->ploomber-core>=0.2.7->jupysql) (3.11)\n",
            "Requirement already satisfied: urllib3<3,>=1.21.1 in /usr/local/lib/python3.12/dist-packages (from requests<3.0,>=2.7->posthog>=3.0->ploomber-core>=0.2.7->jupysql) (2.5.0)\n",
            "Requirement already satisfied: certifi>=2017.4.17 in /usr/local/lib/python3.12/dist-packages (from requests<3.0,>=2.7->posthog>=3.0->ploomber-core>=0.2.7->jupysql) (2025.10.5)\n",
            "Downloading jupysql-0.11.1-py3-none-any.whl (95 kB)\n",
            "\u001b[2K   \u001b[90m━━━━━━━━━━━━━━━━━━━━━━━━━━━━━━━━━━━━━━━━\u001b[0m \u001b[32m95.1/95.1 kB\u001b[0m \u001b[31m2.9 MB/s\u001b[0m eta \u001b[36m0:00:00\u001b[0m\n",
            "\u001b[?25hDownloading duckdb_engine-0.17.0-py3-none-any.whl (49 kB)\n",
            "\u001b[2K   \u001b[90m━━━━━━━━━━━━━━━━━━━━━━━━━━━━━━━━━━━━━━━━\u001b[0m \u001b[32m49.7/49.7 kB\u001b[0m \u001b[31m4.9 MB/s\u001b[0m eta \u001b[36m0:00:00\u001b[0m\n",
            "\u001b[?25hDownloading jupysql_plugin-0.4.5-py3-none-any.whl (192 kB)\n",
            "\u001b[2K   \u001b[90m━━━━━━━━━━━━━━━━━━━━━━━━━━━━━━━━━━━━━━━━\u001b[0m \u001b[32m192.8/192.8 kB\u001b[0m \u001b[31m7.8 MB/s\u001b[0m eta \u001b[36m0:00:00\u001b[0m\n",
            "\u001b[?25hDownloading ploomber_core-0.2.27-py3-none-any.whl (22 kB)\n",
            "Downloading posthog-6.7.8-py3-none-any.whl (137 kB)\n",
            "\u001b[2K   \u001b[90m━━━━━━━━━━━━━━━━━━━━━━━━━━━━━━━━━━━━━━━━\u001b[0m \u001b[32m137.3/137.3 kB\u001b[0m \u001b[31m12.9 MB/s\u001b[0m eta \u001b[36m0:00:00\u001b[0m\n",
            "\u001b[?25hDownloading backoff-2.2.1-py3-none-any.whl (15 kB)\n",
            "Installing collected packages: backoff, posthog, duckdb-engine, ploomber-core, jupysql-plugin, jupysql\n",
            "Successfully installed backoff-2.2.1 duckdb-engine-0.17.0 jupysql-0.11.1 jupysql-plugin-0.4.5 ploomber-core-0.2.27 posthog-6.7.8\n"
          ]
        },
        {
          "output_type": "display_data",
          "data": {
            "text/plain": [
              "Connecting to 'duckdb://'"
            ],
            "text/html": [
              "<span style=\"None\">Connecting to &#x27;duckdb://&#x27;</span>"
            ]
          },
          "metadata": {}
        }
      ],
      "source": [
        "!pip install jupysql duckdb-engine\n",
        "%load_ext sql\n",
        "\n",
        "%sql duckdb://"
      ]
    },
    {
      "cell_type": "markdown",
      "source": [
        "**CRIAR TABELA**"
      ],
      "metadata": {
        "id": "WWWt-yu-yriP"
      },
      "id": "WWWt-yu-yriP"
    },
    {
      "cell_type": "markdown",
      "source": [
        "Cria uma tabela chamada funcionarios para armazenar informações sobre os colaboradores de uma empresa.\n",
        "Antes de criá-la, o comando DROP TABLE IF EXISTS remove a tabela caso ela já exista, evitando erros de duplicação.\n",
        "\n",
        "A estrutura da tabela define os seguintes campos:\n",
        "\n",
        "| Coluna          | Tipo de dado           | Descrição                                             |\n",
        "| --------------- | ---------------------- | ----------------------------------------------------- |\n",
        "| `id`            | `INT` (chave primária) | Identificador único de cada funcionário.              |\n",
        "| `nome`          | `VARCHAR(100)`         | Nome completo do funcionário.                         |\n",
        "| `cargo`         | `VARCHAR(50)`          | Função ou cargo ocupado na empresa.                   |\n",
        "| `departamento`  | `VARCHAR(50)`          | Setor ou departamento ao qual o funcionário pertence. |\n",
        "| `salario`       | `DECIMAL(10,2)`        | Salário do funcionário, com duas casas decimais.      |\n",
        "| `cidade`        | `VARCHAR(50)`          | Cidade onde o funcionário trabalha.                   |\n",
        "| `idade`         | `INT`                  | Idade atual do funcionário.                           |\n",
        "| `data_admissao` | `DATE`                 | Data em que o funcionário foi contratado.             |"
      ],
      "metadata": {
        "id": "LUPOHjO1bLAH"
      },
      "id": "LUPOHjO1bLAH"
    },
    {
      "cell_type": "code",
      "execution_count": 2,
      "id": "0c5608eb-ac2d-4eb5-862e-084e1869aa82",
      "metadata": {
        "colab": {
          "base_uri": "https://localhost:8080/",
          "height": 57
        },
        "id": "0c5608eb-ac2d-4eb5-862e-084e1869aa82",
        "outputId": "8989df5b-7527-4caf-d539-78ef0da18d11"
      },
      "outputs": [
        {
          "output_type": "display_data",
          "data": {
            "text/plain": [
              "Running query in 'duckdb://'"
            ],
            "text/html": [
              "<span style=\"None\">Running query in &#x27;duckdb://&#x27;</span>"
            ]
          },
          "metadata": {}
        },
        {
          "output_type": "execute_result",
          "data": {
            "text/plain": [
              "+-------+\n",
              "| Count |\n",
              "+-------+\n",
              "+-------+"
            ],
            "text/html": [
              "<table>\n",
              "    <thead>\n",
              "        <tr>\n",
              "            <th>Count</th>\n",
              "        </tr>\n",
              "    </thead>\n",
              "    <tbody>\n",
              "    </tbody>\n",
              "</table>"
            ]
          },
          "metadata": {},
          "execution_count": 2
        }
      ],
      "source": [
        "%%sql\n",
        "\n",
        "CREATE TABLE departamentos (\n",
        "    id INT PRIMARY KEY,\n",
        "    nome VARCHAR(50)\n",
        ");\n",
        "\n",
        "CREATE TABLE cidades (\n",
        "    id INT PRIMARY KEY,\n",
        "    nome VARCHAR(50)\n",
        ");\n",
        "\n",
        "CREATE TABLE cargos (\n",
        "    id INT PRIMARY KEY,\n",
        "    nome VARCHAR(50),\n",
        "    departamento_id INT,\n",
        "    FOREIGN KEY (departamento_id) REFERENCES departamentos(id)\n",
        ");\n",
        "\n",
        "-- Tabela principal\n",
        "CREATE TABLE funcionarios (\n",
        "    id INT PRIMARY KEY,\n",
        "    nome VARCHAR(100),\n",
        "    cargo_id INT,\n",
        "    cidade_id INT,\n",
        "    salario DECIMAL(10,2),\n",
        "    idade INT,\n",
        "    data_admissao DATE,\n",
        "    FOREIGN KEY (cargo_id) REFERENCES cargos(id),\n",
        "    FOREIGN KEY (cidade_id) REFERENCES cidades(id)\n",
        ");"
      ]
    },
    {
      "cell_type": "markdown",
      "source": [
        "**INSERIR DADOS**"
      ],
      "metadata": {
        "id": "qTIUcx8YyvjA"
      },
      "id": "qTIUcx8YyvjA"
    },
    {
      "cell_type": "code",
      "execution_count": 3,
      "id": "2ed3fff6-1272-402e-8959-01ecc7903e54",
      "metadata": {
        "colab": {
          "base_uri": "https://localhost:8080/",
          "height": 57
        },
        "id": "2ed3fff6-1272-402e-8959-01ecc7903e54",
        "outputId": "dbe9776b-fcb3-4d70-a0c4-15db6d3df9ba"
      },
      "outputs": [
        {
          "output_type": "display_data",
          "data": {
            "text/plain": [
              "Running query in 'duckdb://'"
            ],
            "text/html": [
              "<span style=\"None\">Running query in &#x27;duckdb://&#x27;</span>"
            ]
          },
          "metadata": {}
        },
        {
          "output_type": "execute_result",
          "data": {
            "text/plain": [
              "+-------+\n",
              "| Count |\n",
              "+-------+\n",
              "+-------+"
            ],
            "text/html": [
              "<table>\n",
              "    <thead>\n",
              "        <tr>\n",
              "            <th>Count</th>\n",
              "        </tr>\n",
              "    </thead>\n",
              "    <tbody>\n",
              "    </tbody>\n",
              "</table>"
            ]
          },
          "metadata": {},
          "execution_count": 3
        }
      ],
      "source": [
        "%%sql\n",
        "\n",
        "-- Departamentos\n",
        "INSERT INTO departamentos (id, nome) VALUES (1, 'TI');\n",
        "INSERT INTO departamentos (id, nome) VALUES (2, 'Marketing');\n",
        "INSERT INTO departamentos (id, nome) VALUES (3, 'Financeiro');\n",
        "\n",
        "-- Cidades\n",
        "INSERT INTO cidades (id, nome) VALUES (1, 'São Paulo');\n",
        "INSERT INTO cidades (id, nome) VALUES (2, 'Rio de Janeiro');\n",
        "INSERT INTO cidades (id, nome) VALUES (3, 'Curitiba');\n",
        "INSERT INTO cidades (id, nome) VALUES (4, 'Belo Horizonte');\n",
        "INSERT INTO cidades (id, nome) VALUES (5, 'Porto Alegre');\n",
        "INSERT INTO cidades (id, nome) VALUES (6, 'Recife');\n",
        "\n",
        "-- Cargos\n",
        "INSERT INTO cargos (id, nome, departamento_id) VALUES (1, 'Analista de Dados', 1);\n",
        "INSERT INTO cargos (id, nome, departamento_id) VALUES (2, 'Desenvolvedor', 1);\n",
        "INSERT INTO cargos (id, nome, departamento_id) VALUES (3, 'Gerente de Projetos', 1);\n",
        "INSERT INTO cargos (id, nome, departamento_id) VALUES (4, 'Designer', 2);\n",
        "INSERT INTO cargos (id, nome, departamento_id) VALUES (5, 'Coordenadora MKT', 2);\n",
        "INSERT INTO cargos (id, nome, departamento_id) VALUES (6, 'Analista Financeira', 3);\n",
        "INSERT INTO cargos (id, nome, departamento_id) VALUES (7, 'Estagiária', 3);\n",
        "\n",
        "-- Funcionários\n",
        "INSERT INTO funcionarios (id, nome, cargo_id, cidade_id, salario, idade, data_admissao) VALUES (1, 'Ana Souza', 1, 1, 6500, 29, '2020-05-10');\n",
        "INSERT INTO funcionarios (id, nome, cargo_id, cidade_id, salario, idade, data_admissao) VALUES (2, 'João Lima', 2, 2, 7200, 33, '2018-03-14');\n",
        "INSERT INTO funcionarios (id, nome, cargo_id, cidade_id, salario, idade, data_admissao) VALUES (3, 'Maria Santos', 4, 3, 4800, 26, '2021-09-01');\n",
        "INSERT INTO funcionarios (id, nome, cargo_id, cidade_id, salario, idade, data_admissao) VALUES (4, 'Pedro Oliveira', 3, 1, 9500, 41, '2015-01-22');\n",
        "INSERT INTO funcionarios (id, nome, cargo_id, cidade_id, salario, idade, data_admissao) VALUES (5, 'Júlia Martins', 6, 4, 5800, 30, '2019-06-18');\n",
        "INSERT INTO funcionarios (id, nome, cargo_id, cidade_id, salario, idade, data_admissao) VALUES (6, 'Lucas Almeida', 2, 5, 7100, 28, '2020-11-05');\n",
        "INSERT INTO funcionarios (id, nome, cargo_id, cidade_id, salario, idade, data_admissao) VALUES (7, 'Carla Dias', 5, 1, 8500, 35, '2016-02-27');\n",
        "INSERT INTO funcionarios (id, nome, cargo_id, cidade_id, salario, idade, data_admissao) VALUES (8, 'Rafael Gomes', 1, 3, 6700, 27, '2022-01-15');\n",
        "INSERT INTO funcionarios (id, nome, cargo_id, cidade_id, salario, idade, data_admissao) VALUES (9, 'Fernanda Costa', 7, 6, 2200, 22, '2023-03-10');\n",
        "INSERT INTO funcionarios (id, nome, cargo_id, cidade_id, salario, idade, data_admissao) VALUES (10, 'Bruno Ferreira', 2, 2, 7500, 31, '2017-04-30');"
      ]
    },
    {
      "cell_type": "markdown",
      "source": [
        "# Consultas sobre funcionários"
      ],
      "metadata": {
        "id": "X4Gs6HcDlsA_"
      },
      "id": "X4Gs6HcDlsA_"
    },
    {
      "cell_type": "markdown",
      "source": [
        "**Listar todos os funcionários**"
      ],
      "metadata": {
        "id": "xIbKCvfknyap"
      },
      "id": "xIbKCvfknyap"
    },
    {
      "cell_type": "code",
      "source": [
        "%%sql\n",
        "SELECT * FROM funcionarios;"
      ],
      "metadata": {
        "id": "hpi3YZTen0Kg"
      },
      "id": "hpi3YZTen0Kg",
      "execution_count": null,
      "outputs": []
    },
    {
      "cell_type": "markdown",
      "source": [
        "**uncionários com idade entre 25 e 35**"
      ],
      "metadata": {
        "id": "8euir7nooC7h"
      },
      "id": "8euir7nooC7h"
    },
    {
      "cell_type": "code",
      "source": [
        "%%sql\n",
        "SELECT * FROM funcionarios WHERE idade BETWEEN 25 AND 35;"
      ],
      "metadata": {
        "id": "trwpYFhpoEeB"
      },
      "id": "trwpYFhpoEeB",
      "execution_count": null,
      "outputs": []
    },
    {
      "cell_type": "markdown",
      "source": [
        "**Funcionários admitidos após 2020**"
      ],
      "metadata": {
        "id": "MFM5iRmMoJ7I"
      },
      "id": "MFM5iRmMoJ7I"
    },
    {
      "cell_type": "code",
      "source": [
        "%%sql\n",
        "SELECT * FROM funcionarios WHERE data_admissao > '2020-12-31';"
      ],
      "metadata": {
        "id": "QGcEu1AdoKJr"
      },
      "id": "QGcEu1AdoKJr",
      "execution_count": null,
      "outputs": []
    },
    {
      "cell_type": "markdown",
      "source": [
        "**Top 3 maiores salários**"
      ],
      "metadata": {
        "id": "xw5Cw9tKoWlM"
      },
      "id": "xw5Cw9tKoWlM"
    },
    {
      "cell_type": "code",
      "source": [
        "%%sql\n",
        "SELECT * FROM funcionarios ORDER BY salario DESC LIMIT 3;"
      ],
      "metadata": {
        "id": "xxZTNya0oXBD"
      },
      "id": "xxZTNya0oXBD",
      "execution_count": null,
      "outputs": []
    },
    {
      "cell_type": "markdown",
      "source": [
        "# Consultas sobre Departamentos"
      ],
      "metadata": {
        "id": "qjXC4LVzmFbi"
      },
      "id": "qjXC4LVzmFbi"
    },
    {
      "cell_type": "markdown",
      "source": [
        "**Listar todos os departamentos**"
      ],
      "metadata": {
        "id": "FzT6aqito4_V"
      },
      "id": "FzT6aqito4_V"
    },
    {
      "cell_type": "code",
      "source": [
        "%%sql\n",
        "SELECT * FROM departamentos;"
      ],
      "metadata": {
        "id": "FSDchKeBo5M_"
      },
      "id": "FSDchKeBo5M_",
      "execution_count": null,
      "outputs": []
    },
    {
      "cell_type": "markdown",
      "source": [
        "**Média salarial por departamento**"
      ],
      "metadata": {
        "id": "ABTlip4co_s_"
      },
      "id": "ABTlip4co_s_"
    },
    {
      "cell_type": "code",
      "source": [
        "%%sql\n",
        "SELECT d.nome AS departamento, AVG(f.salario) AS media_salarial\n",
        "FROM funcionarios f\n",
        "JOIN cargos c ON f.id_cargo = c.id_cargo\n",
        "JOIN departamentos d ON c.id_departamento = d.id_departamento\n",
        "GROUP BY d.nome;"
      ],
      "metadata": {
        "id": "XEnU6yQfpAE3"
      },
      "id": "XEnU6yQfpAE3",
      "execution_count": null,
      "outputs": []
    },
    {
      "cell_type": "markdown",
      "source": [
        "**Funcionários do departamento de TI**"
      ],
      "metadata": {
        "id": "l3hku89CpIWZ"
      },
      "id": "l3hku89CpIWZ"
    },
    {
      "cell_type": "code",
      "source": [
        "%%sql\n",
        "SELECT f.nome, c.nome AS cargo\n",
        "FROM funcionarios f\n",
        "JOIN cargos c ON f.id_cargo = c.id_cargo\n",
        "JOIN departamentos d ON c.id_departamento = d.id_departamento\n",
        "WHERE d.nome = 'TI';"
      ],
      "metadata": {
        "id": "jQuSC0FppIog"
      },
      "id": "jQuSC0FppIog",
      "execution_count": null,
      "outputs": []
    },
    {
      "cell_type": "markdown",
      "source": [
        "**Funcionários cujo cargo contém \"Analista\"**"
      ],
      "metadata": {
        "id": "FMjXlEccpTPP"
      },
      "id": "FMjXlEccpTPP"
    },
    {
      "cell_type": "code",
      "source": [
        "%%sql\n",
        "SELECT f.*\n",
        "FROM funcionarios f\n",
        "JOIN cargos c ON f.id_cargo = c.id_cargo\n",
        "WHERE c.nome LIKE '%Analista%';"
      ],
      "metadata": {
        "id": "sMRcEIKtpTZx"
      },
      "id": "sMRcEIKtpTZx",
      "execution_count": null,
      "outputs": []
    },
    {
      "cell_type": "markdown",
      "source": [
        "**Atualizar salários do departamento de TI para 7000**"
      ],
      "metadata": {
        "id": "JNJDcGxnpbyZ"
      },
      "id": "JNJDcGxnpbyZ"
    },
    {
      "cell_type": "code",
      "source": [
        "%%sql\n",
        "UPDATE funcionarios f\n",
        "SET salario = 7000\n",
        "FROM cargos c\n",
        "WHERE f.id_cargo = c.id_cargo\n",
        "  AND c.id_departamento = 1;"
      ],
      "metadata": {
        "id": "QuNtArb0pb8i"
      },
      "id": "QuNtArb0pb8i",
      "execution_count": null,
      "outputs": []
    },
    {
      "cell_type": "markdown",
      "source": [
        "# Consulta sobre localidades"
      ],
      "metadata": {
        "id": "JRgq3gN5nj4n"
      },
      "id": "JRgq3gN5nj4n"
    },
    {
      "cell_type": "markdown",
      "source": [
        "**Listar todas as cidades**"
      ],
      "metadata": {
        "id": "C6B419lQpkyy"
      },
      "id": "C6B419lQpkyy"
    },
    {
      "cell_type": "code",
      "source": [
        "%%sql\n",
        "SELECT * FROM cidades;"
      ],
      "metadata": {
        "id": "EAB2xfrOplBE"
      },
      "id": "EAB2xfrOplBE",
      "execution_count": null,
      "outputs": []
    },
    {
      "cell_type": "markdown",
      "source": [
        "**Nomes distintos das cidades**"
      ],
      "metadata": {
        "id": "2NCwit3Ipp1i"
      },
      "id": "2NCwit3Ipp1i"
    },
    {
      "cell_type": "code",
      "source": [
        "%%sql\n",
        "SELECT DISTINCT nome FROM cidades;"
      ],
      "metadata": {
        "id": "-ToI-cOgpqBj"
      },
      "id": "-ToI-cOgpqBj",
      "execution_count": null,
      "outputs": []
    },
    {
      "cell_type": "markdown",
      "source": [
        "**Funcionários que trabalham em São Paulo ou Curitiba**"
      ],
      "metadata": {
        "id": "YX_cZMRYpwVd"
      },
      "id": "YX_cZMRYpwVd"
    },
    {
      "cell_type": "code",
      "source": [
        "%%sql\n",
        "SELECT f.nome, ci.nome AS cidade\n",
        "FROM funcionarios f\n",
        "JOIN cidades ci ON f.id_cidade = ci.id_cidade\n",
        "WHERE ci.nome IN ('São Paulo', 'Curitiba');"
      ],
      "metadata": {
        "id": "1jgbR6F3pwgc"
      },
      "id": "1jgbR6F3pwgc",
      "execution_count": null,
      "outputs": []
    },
    {
      "cell_type": "markdown",
      "source": [
        "**Média salarial por cidade**"
      ],
      "metadata": {
        "id": "L4_vlQWZp3c0"
      },
      "id": "L4_vlQWZp3c0"
    },
    {
      "cell_type": "code",
      "source": [
        "%%sql\n",
        "SELECT ci.nome AS cidade, AVG(f.salario) AS media_salarial\n",
        "FROM funcionarios f\n",
        "JOIN cidades ci ON f.id_cidade = ci.id_cidade\n",
        "GROUP BY ci.nome;"
      ],
      "metadata": {
        "id": "GN94Wtqjp3nh"
      },
      "id": "GN94Wtqjp3nh",
      "execution_count": null,
      "outputs": []
    },
    {
      "cell_type": "markdown",
      "source": [
        "**Contagem de funcionários por cidade**"
      ],
      "metadata": {
        "id": "JAvq04iup9GP"
      },
      "id": "JAvq04iup9GP"
    },
    {
      "cell_type": "code",
      "source": [
        "%%sql\n",
        "SELECT ci.nome AS cidade, COUNT(*) AS total_funcionarios\n",
        "FROM funcionarios f\n",
        "JOIN cidades ci ON f.id_cidade = ci.id_cidade\n",
        "GROUP BY ci.nome;"
      ],
      "metadata": {
        "id": "o1wVcotEp9Od"
      },
      "id": "o1wVcotEp9Od",
      "execution_count": null,
      "outputs": []
    }
  ],
  "metadata": {
    "kernelspec": {
      "display_name": "Python 3 (ipykernel)",
      "language": "python",
      "name": "python3"
    },
    "language_info": {
      "codemirror_mode": {
        "name": "ipython",
        "version": 3
      },
      "file_extension": ".py",
      "mimetype": "text/x-python",
      "name": "python",
      "nbconvert_exporter": "python",
      "pygments_lexer": "ipython3",
      "version": "3.10.12"
    },
    "colab": {
      "provenance": []
    }
  },
  "nbformat": 4,
  "nbformat_minor": 5
}