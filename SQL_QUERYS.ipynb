{
  "cells": [
    {
      "cell_type": "markdown",
      "source": [
        "# Projeto SQL Corporativo\n",
        "Este notebook demonstra o uso de SQL puro em um ambiente Python (DuckDB), com consultas analíticas e relacionamentos entre tabelas de uma empresa fictícia."
      ],
      "metadata": {
        "id": "RoqfKKnzoiuV"
      },
      "id": "RoqfKKnzoiuV"
    },
    {
      "cell_type": "markdown",
      "source": [
        "**Configuração**"
      ],
      "metadata": {
        "id": "a0bKaiFCotUt"
      },
      "id": "a0bKaiFCotUt"
    },
    {
      "cell_type": "code",
      "execution_count": 13,
      "id": "8614e572-20a3-4aed-8443-1baaae7aa8e5",
      "metadata": {
        "colab": {
          "base_uri": "https://localhost:8080/"
        },
        "id": "8614e572-20a3-4aed-8443-1baaae7aa8e5",
        "outputId": "73336513-bf00-4e82-f10a-fcb71d83473f"
      },
      "outputs": [
        {
          "output_type": "stream",
          "name": "stdout",
          "text": [
            "Requirement already satisfied: jupysql in /usr/local/lib/python3.12/dist-packages (0.11.1)\n",
            "Requirement already satisfied: duckdb-engine in /usr/local/lib/python3.12/dist-packages (0.17.0)\n",
            "Requirement already satisfied: prettytable>=3.12.0 in /usr/local/lib/python3.12/dist-packages (from jupysql) (3.16.0)\n",
            "Requirement already satisfied: sqlalchemy in /usr/local/lib/python3.12/dist-packages (from jupysql) (2.0.44)\n",
            "Requirement already satisfied: sqlparse in /usr/local/lib/python3.12/dist-packages (from jupysql) (0.5.3)\n",
            "Requirement already satisfied: ipython-genutils>=0.1.0 in /usr/local/lib/python3.12/dist-packages (from jupysql) (0.2.0)\n",
            "Requirement already satisfied: jinja2 in /usr/local/lib/python3.12/dist-packages (from jupysql) (3.1.6)\n",
            "Requirement already satisfied: sqlglot>=11.3.7 in /usr/local/lib/python3.12/dist-packages (from jupysql) (25.20.2)\n",
            "Requirement already satisfied: jupysql-plugin>=0.4.2 in /usr/local/lib/python3.12/dist-packages (from jupysql) (0.4.5)\n",
            "Requirement already satisfied: ploomber-core>=0.2.7 in /usr/local/lib/python3.12/dist-packages (from jupysql) (0.2.27)\n",
            "Requirement already satisfied: duckdb>=0.5.0 in /usr/local/lib/python3.12/dist-packages (from duckdb-engine) (1.3.2)\n",
            "Requirement already satisfied: packaging>=21 in /usr/local/lib/python3.12/dist-packages (from duckdb-engine) (25.0)\n",
            "Requirement already satisfied: pyyaml in /usr/local/lib/python3.12/dist-packages (from ploomber-core>=0.2.7->jupysql) (6.0.3)\n",
            "Requirement already satisfied: posthog>=3.0 in /usr/local/lib/python3.12/dist-packages (from ploomber-core>=0.2.7->jupysql) (6.7.8)\n",
            "Requirement already satisfied: wcwidth in /usr/local/lib/python3.12/dist-packages (from prettytable>=3.12.0->jupysql) (0.2.14)\n",
            "Requirement already satisfied: greenlet>=1 in /usr/local/lib/python3.12/dist-packages (from sqlalchemy->jupysql) (3.2.4)\n",
            "Requirement already satisfied: typing-extensions>=4.6.0 in /usr/local/lib/python3.12/dist-packages (from sqlalchemy->jupysql) (4.15.0)\n",
            "Requirement already satisfied: MarkupSafe>=2.0 in /usr/local/lib/python3.12/dist-packages (from jinja2->jupysql) (3.0.3)\n",
            "Requirement already satisfied: requests<3.0,>=2.7 in /usr/local/lib/python3.12/dist-packages (from posthog>=3.0->ploomber-core>=0.2.7->jupysql) (2.32.4)\n",
            "Requirement already satisfied: six>=1.5 in /usr/local/lib/python3.12/dist-packages (from posthog>=3.0->ploomber-core>=0.2.7->jupysql) (1.17.0)\n",
            "Requirement already satisfied: python-dateutil>=2.2 in /usr/local/lib/python3.12/dist-packages (from posthog>=3.0->ploomber-core>=0.2.7->jupysql) (2.9.0.post0)\n",
            "Requirement already satisfied: backoff>=1.10.0 in /usr/local/lib/python3.12/dist-packages (from posthog>=3.0->ploomber-core>=0.2.7->jupysql) (2.2.1)\n",
            "Requirement already satisfied: distro>=1.5.0 in /usr/local/lib/python3.12/dist-packages (from posthog>=3.0->ploomber-core>=0.2.7->jupysql) (1.9.0)\n",
            "Requirement already satisfied: charset_normalizer<4,>=2 in /usr/local/lib/python3.12/dist-packages (from requests<3.0,>=2.7->posthog>=3.0->ploomber-core>=0.2.7->jupysql) (3.4.4)\n",
            "Requirement already satisfied: idna<4,>=2.5 in /usr/local/lib/python3.12/dist-packages (from requests<3.0,>=2.7->posthog>=3.0->ploomber-core>=0.2.7->jupysql) (3.11)\n",
            "Requirement already satisfied: urllib3<3,>=1.21.1 in /usr/local/lib/python3.12/dist-packages (from requests<3.0,>=2.7->posthog>=3.0->ploomber-core>=0.2.7->jupysql) (2.5.0)\n",
            "Requirement already satisfied: certifi>=2017.4.17 in /usr/local/lib/python3.12/dist-packages (from requests<3.0,>=2.7->posthog>=3.0->ploomber-core>=0.2.7->jupysql) (2025.10.5)\n",
            "The sql extension is already loaded. To reload it, use:\n",
            "  %reload_ext sql\n"
          ]
        }
      ],
      "source": [
        "!pip install jupysql duckdb-engine\n",
        "%load_ext sql\n",
        "\n",
        "%sql duckdb://"
      ]
    },
    {
      "cell_type": "markdown",
      "source": [
        "**CRIAR TABELA**"
      ],
      "metadata": {
        "id": "WWWt-yu-yriP"
      },
      "id": "WWWt-yu-yriP"
    },
    {
      "cell_type": "markdown",
      "source": [
        "Cria uma tabela chamada funcionarios para armazenar informações sobre os colaboradores de uma empresa.\n",
        "Antes de criá-la, o comando DROP TABLE IF EXISTS remove a tabela caso ela já exista, evitando erros de duplicação.\n",
        "\n",
        "A estrutura da tabela define os seguintes campos:\n",
        "\n",
        "| Coluna          | Tipo de dado           | Descrição                                             |\n",
        "| --------------- | ---------------------- | ----------------------------------------------------- |\n",
        "| `id`            | `INT` (chave primária) | Identificador único de cada funcionário.              |\n",
        "| `nome`          | `VARCHAR(100)`         | Nome completo do funcionário.                         |\n",
        "| `cargo`         | `VARCHAR(50)`          | Função ou cargo ocupado na empresa.                   |\n",
        "| `departamento`  | `VARCHAR(50)`          | Setor ou departamento ao qual o funcionário pertence. |\n",
        "| `salario`       | `DECIMAL(10,2)`        | Salário do funcionário, com duas casas decimais.      |\n",
        "| `cidade`        | `VARCHAR(50)`          | Cidade onde o funcionário trabalha.                   |\n",
        "| `idade`         | `INT`                  | Idade atual do funcionário.                           |\n",
        "| `data_admissao` | `DATE`                 | Data em que o funcionário foi contratado.             |"
      ],
      "metadata": {
        "id": "LUPOHjO1bLAH"
      },
      "id": "LUPOHjO1bLAH"
    },
    {
      "cell_type": "code",
      "execution_count": 14,
      "id": "0c5608eb-ac2d-4eb5-862e-084e1869aa82",
      "metadata": {
        "colab": {
          "base_uri": "https://localhost:8080/",
          "height": 57
        },
        "id": "0c5608eb-ac2d-4eb5-862e-084e1869aa82",
        "outputId": "2e39b21b-2826-4475-c238-25f6c65abdcd"
      },
      "outputs": [
        {
          "output_type": "display_data",
          "data": {
            "text/plain": [
              "Running query in 'duckdb://'"
            ],
            "text/html": [
              "<span style=\"None\">Running query in &#x27;duckdb://&#x27;</span>"
            ]
          },
          "metadata": {}
        },
        {
          "output_type": "execute_result",
          "data": {
            "text/plain": [
              "+-------+\n",
              "| Count |\n",
              "+-------+\n",
              "+-------+"
            ],
            "text/html": [
              "<table>\n",
              "    <thead>\n",
              "        <tr>\n",
              "            <th>Count</th>\n",
              "        </tr>\n",
              "    </thead>\n",
              "    <tbody>\n",
              "    </tbody>\n",
              "</table>"
            ]
          },
          "metadata": {},
          "execution_count": 14
        }
      ],
      "source": [
        "%%sql\n",
        "\n",
        "CREATE TABLE IF NOT EXISTS departamentos (\n",
        "    id INT PRIMARY KEY,\n",
        "    nome VARCHAR(50)\n",
        ");\n",
        "\n",
        "CREATE TABLE IF NOT EXISTS cidades (\n",
        "    id INT PRIMARY KEY,\n",
        "    nome VARCHAR(50)\n",
        ");\n",
        "\n",
        "CREATE TABLE IF NOT EXISTS cargos (\n",
        "    id INT PRIMARY KEY,\n",
        "    nome VARCHAR(50),\n",
        "    departamento_id INT,\n",
        "    FOREIGN KEY (departamento_id) REFERENCES departamentos(id)\n",
        ");\n",
        "\n",
        "-- Tabela principal\n",
        "CREATE TABLE IF NOT EXISTS funcionarios (\n",
        "    id INT PRIMARY KEY,\n",
        "    nome VARCHAR(100),\n",
        "    cargo_id INT,\n",
        "    cidade_id INT,\n",
        "    salario DECIMAL(10,2),\n",
        "    idade INT,\n",
        "    data_admissao DATE,\n",
        "    FOREIGN KEY (cargo_id) REFERENCES cargos(id),\n",
        "    FOREIGN KEY (cidade_id) REFERENCES cidades(id)\n",
        ");"
      ]
    },
    {
      "cell_type": "markdown",
      "source": [
        "**INSERIR DADOS**"
      ],
      "metadata": {
        "id": "qTIUcx8YyvjA"
      },
      "id": "qTIUcx8YyvjA"
    },
    {
      "cell_type": "code",
      "execution_count": 15,
      "id": "2ed3fff6-1272-402e-8959-01ecc7903e54",
      "metadata": {
        "colab": {
          "base_uri": "https://localhost:8080/",
          "height": 57
        },
        "id": "2ed3fff6-1272-402e-8959-01ecc7903e54",
        "outputId": "50e03566-df8b-4bb5-de83-4c7d62d5f783"
      },
      "outputs": [
        {
          "output_type": "display_data",
          "data": {
            "text/plain": [
              "Running query in 'duckdb://'"
            ],
            "text/html": [
              "<span style=\"None\">Running query in &#x27;duckdb://&#x27;</span>"
            ]
          },
          "metadata": {}
        },
        {
          "output_type": "execute_result",
          "data": {
            "text/plain": [
              "+-------+\n",
              "| Count |\n",
              "+-------+\n",
              "+-------+"
            ],
            "text/html": [
              "<table>\n",
              "    <thead>\n",
              "        <tr>\n",
              "            <th>Count</th>\n",
              "        </tr>\n",
              "    </thead>\n",
              "    <tbody>\n",
              "    </tbody>\n",
              "</table>"
            ]
          },
          "metadata": {},
          "execution_count": 15
        }
      ],
      "source": [
        "%%sql\n",
        "\n",
        "-- ================================\n",
        "-- Limpar tabelas antigas (opcional)\n",
        "-- ================================\n",
        "DROP TABLE IF EXISTS funcionarios;\n",
        "DROP TABLE IF EXISTS cargos;\n",
        "DROP TABLE IF EXISTS cidades;\n",
        "DROP TABLE IF EXISTS departamentos;\n",
        "\n",
        "-- ================================\n",
        "-- 1️⃣ Departamentos\n",
        "-- ================================\n",
        "CREATE TABLE IF NOT EXISTS departamentos (\n",
        "    id INT PRIMARY KEY,\n",
        "    nome VARCHAR(50)\n",
        ");\n",
        "\n",
        "INSERT INTO departamentos (id, nome) VALUES\n",
        "(1, 'TI'),\n",
        "(2, 'Marketing'),\n",
        "(3, 'Financeiro');\n",
        "\n",
        "-- ================================\n",
        "-- 2️⃣ Cidades\n",
        "-- ================================\n",
        "CREATE TABLE IF NOT EXISTS cidades (\n",
        "    id INT PRIMARY KEY,\n",
        "    nome VARCHAR(50)\n",
        ");\n",
        "\n",
        "INSERT INTO cidades (id, nome) VALUES\n",
        "(1, 'São Paulo'),\n",
        "(2, 'Rio de Janeiro'),\n",
        "(3, 'Curitiba'),\n",
        "(4, 'Belo Horizonte'),\n",
        "(5, 'Porto Alegre'),\n",
        "(6, 'Recife');\n",
        "\n",
        "-- ================================\n",
        "-- 3️⃣ Cargos\n",
        "-- ================================\n",
        "CREATE TABLE IF NOT EXISTS cargos (\n",
        "    id INT PRIMARY KEY,\n",
        "    nome VARCHAR(50),\n",
        "    departamento_id INT,\n",
        "    FOREIGN KEY (departamento_id) REFERENCES departamentos(id)\n",
        ");\n",
        "\n",
        "INSERT INTO cargos (id, nome, departamento_id) VALUES\n",
        "(1, 'Analista de Dados', 1),\n",
        "(2, 'Desenvolvedor', 1),\n",
        "(3, 'Gerente de Projetos', 1),\n",
        "(4, 'Designer', 2),\n",
        "(5, 'Coordenadora MKT', 2),\n",
        "(6, 'Analista Financeira', 3),\n",
        "(7, 'Estagiária', 3);\n",
        "\n",
        "-- ================================\n",
        "-- 4️⃣ Funcionários\n",
        "-- ================================\n",
        "CREATE TABLE IF NOT EXISTS funcionarios (\n",
        "    id INT PRIMARY KEY,\n",
        "    nome VARCHAR(100),\n",
        "    cargo_id INT,\n",
        "    cidade_id INT,\n",
        "    salario DECIMAL(10,2),\n",
        "    idade INT,\n",
        "    data_admissao DATE,\n",
        "    FOREIGN KEY (cargo_id) REFERENCES cargos(id),\n",
        "    FOREIGN KEY (cidade_id) REFERENCES cidades(id)\n",
        ");\n",
        "\n",
        "INSERT INTO funcionarios (id, nome, cargo_id, cidade_id, salario, idade, data_admissao) VALUES\n",
        "(1, 'Ana Souza', 1, 1, 6500, 29, '2020-05-10'),\n",
        "(2, 'João Lima', 2, 2, 7200, 33, '2018-03-14'),\n",
        "(3, 'Maria Santos', 4, 3, 4800, 26, '2021-09-01'),\n",
        "(4, 'Pedro Oliveira', 3, 1, 9500, 41, '2015-01-22'),\n",
        "(5, 'Júlia Martins', 6, 4, 5800, 30, '2019-06-18'),\n",
        "(6, 'Lucas Almeida', 2, 5, 7100, 28, '2020-11-05'),\n",
        "(7, 'Carla Dias', 5, 1, 8500, 35, '2016-02-27'),\n",
        "(8, 'Rafael Gomes', 1, 3, 6700, 27, '2022-01-15'),\n",
        "(9, 'Fernanda Costa', 7, 6, 2200, 22, '2023-03-10'),\n",
        "(10, 'Bruno Ferreira', 2, 2, 7500, 31, '2017-04-30');"
      ]
    },
    {
      "cell_type": "markdown",
      "source": [
        "# Consultas sobre funcionários"
      ],
      "metadata": {
        "id": "X4Gs6HcDlsA_"
      },
      "id": "X4Gs6HcDlsA_"
    },
    {
      "cell_type": "markdown",
      "source": [
        "**Listar todos os funcionários**"
      ],
      "metadata": {
        "id": "xIbKCvfknyap"
      },
      "id": "xIbKCvfknyap"
    },
    {
      "cell_type": "code",
      "source": [
        "%%sql\n",
        "SELECT * FROM funcionarios;"
      ],
      "metadata": {
        "colab": {
          "base_uri": "https://localhost:8080/",
          "height": 284
        },
        "id": "hpi3YZTen0Kg",
        "outputId": "82dc344b-5e18-426b-b938-14eb6d99abcd"
      },
      "id": "hpi3YZTen0Kg",
      "execution_count": 16,
      "outputs": [
        {
          "output_type": "display_data",
          "data": {
            "text/plain": [
              "Running query in 'duckdb://'"
            ],
            "text/html": [
              "<span style=\"None\">Running query in &#x27;duckdb://&#x27;</span>"
            ]
          },
          "metadata": {}
        },
        {
          "output_type": "execute_result",
          "data": {
            "text/plain": [
              "+----+----------------+----------+-----------+---------+-------+---------------+\n",
              "| id |      nome      | cargo_id | cidade_id | salario | idade | data_admissao |\n",
              "+----+----------------+----------+-----------+---------+-------+---------------+\n",
              "| 1  |   Ana Souza    |    1     |     1     | 6500.00 |   29  |   2020-05-10  |\n",
              "| 2  |   João Lima    |    2     |     2     | 7200.00 |   33  |   2018-03-14  |\n",
              "| 3  |  Maria Santos  |    4     |     3     | 4800.00 |   26  |   2021-09-01  |\n",
              "| 4  | Pedro Oliveira |    3     |     1     | 9500.00 |   41  |   2015-01-22  |\n",
              "| 5  | Júlia Martins  |    6     |     4     | 5800.00 |   30  |   2019-06-18  |\n",
              "| 6  | Lucas Almeida  |    2     |     5     | 7100.00 |   28  |   2020-11-05  |\n",
              "| 7  |   Carla Dias   |    5     |     1     | 8500.00 |   35  |   2016-02-27  |\n",
              "| 8  |  Rafael Gomes  |    1     |     3     | 6700.00 |   27  |   2022-01-15  |\n",
              "| 9  | Fernanda Costa |    7     |     6     | 2200.00 |   22  |   2023-03-10  |\n",
              "| 10 | Bruno Ferreira |    2     |     2     | 7500.00 |   31  |   2017-04-30  |\n",
              "+----+----------------+----------+-----------+---------+-------+---------------+\n",
              "Truncated to displaylimit of 10."
            ],
            "text/html": [
              "<table>\n",
              "    <thead>\n",
              "        <tr>\n",
              "            <th>id</th>\n",
              "            <th>nome</th>\n",
              "            <th>cargo_id</th>\n",
              "            <th>cidade_id</th>\n",
              "            <th>salario</th>\n",
              "            <th>idade</th>\n",
              "            <th>data_admissao</th>\n",
              "        </tr>\n",
              "    </thead>\n",
              "    <tbody>\n",
              "        <tr>\n",
              "            <td>1</td>\n",
              "            <td>Ana Souza</td>\n",
              "            <td>1</td>\n",
              "            <td>1</td>\n",
              "            <td>6500.00</td>\n",
              "            <td>29</td>\n",
              "            <td>2020-05-10</td>\n",
              "        </tr>\n",
              "        <tr>\n",
              "            <td>2</td>\n",
              "            <td>João Lima</td>\n",
              "            <td>2</td>\n",
              "            <td>2</td>\n",
              "            <td>7200.00</td>\n",
              "            <td>33</td>\n",
              "            <td>2018-03-14</td>\n",
              "        </tr>\n",
              "        <tr>\n",
              "            <td>3</td>\n",
              "            <td>Maria Santos</td>\n",
              "            <td>4</td>\n",
              "            <td>3</td>\n",
              "            <td>4800.00</td>\n",
              "            <td>26</td>\n",
              "            <td>2021-09-01</td>\n",
              "        </tr>\n",
              "        <tr>\n",
              "            <td>4</td>\n",
              "            <td>Pedro Oliveira</td>\n",
              "            <td>3</td>\n",
              "            <td>1</td>\n",
              "            <td>9500.00</td>\n",
              "            <td>41</td>\n",
              "            <td>2015-01-22</td>\n",
              "        </tr>\n",
              "        <tr>\n",
              "            <td>5</td>\n",
              "            <td>Júlia Martins</td>\n",
              "            <td>6</td>\n",
              "            <td>4</td>\n",
              "            <td>5800.00</td>\n",
              "            <td>30</td>\n",
              "            <td>2019-06-18</td>\n",
              "        </tr>\n",
              "        <tr>\n",
              "            <td>6</td>\n",
              "            <td>Lucas Almeida</td>\n",
              "            <td>2</td>\n",
              "            <td>5</td>\n",
              "            <td>7100.00</td>\n",
              "            <td>28</td>\n",
              "            <td>2020-11-05</td>\n",
              "        </tr>\n",
              "        <tr>\n",
              "            <td>7</td>\n",
              "            <td>Carla Dias</td>\n",
              "            <td>5</td>\n",
              "            <td>1</td>\n",
              "            <td>8500.00</td>\n",
              "            <td>35</td>\n",
              "            <td>2016-02-27</td>\n",
              "        </tr>\n",
              "        <tr>\n",
              "            <td>8</td>\n",
              "            <td>Rafael Gomes</td>\n",
              "            <td>1</td>\n",
              "            <td>3</td>\n",
              "            <td>6700.00</td>\n",
              "            <td>27</td>\n",
              "            <td>2022-01-15</td>\n",
              "        </tr>\n",
              "        <tr>\n",
              "            <td>9</td>\n",
              "            <td>Fernanda Costa</td>\n",
              "            <td>7</td>\n",
              "            <td>6</td>\n",
              "            <td>2200.00</td>\n",
              "            <td>22</td>\n",
              "            <td>2023-03-10</td>\n",
              "        </tr>\n",
              "        <tr>\n",
              "            <td>10</td>\n",
              "            <td>Bruno Ferreira</td>\n",
              "            <td>2</td>\n",
              "            <td>2</td>\n",
              "            <td>7500.00</td>\n",
              "            <td>31</td>\n",
              "            <td>2017-04-30</td>\n",
              "        </tr>\n",
              "    </tbody>\n",
              "</table>\n",
              "<span style=\"font-style:italic;text-align:center;\">Truncated to <a href=\"https://jupysql.ploomber.io/en/latest/api/configuration.html#displaylimit\">displaylimit</a> of 10.</span>"
            ]
          },
          "metadata": {},
          "execution_count": 16
        }
      ]
    },
    {
      "cell_type": "markdown",
      "source": [
        "**uncionários com idade entre 25 e 35**"
      ],
      "metadata": {
        "id": "8euir7nooC7h"
      },
      "id": "8euir7nooC7h"
    },
    {
      "cell_type": "code",
      "source": [
        "%%sql\n",
        "SELECT * FROM funcionarios WHERE idade BETWEEN 25 AND 35;"
      ],
      "metadata": {
        "colab": {
          "base_uri": "https://localhost:8080/",
          "height": 225
        },
        "id": "trwpYFhpoEeB",
        "outputId": "ea27171c-0efe-4282-ac17-3b19f8c0800c"
      },
      "id": "trwpYFhpoEeB",
      "execution_count": 17,
      "outputs": [
        {
          "output_type": "display_data",
          "data": {
            "text/plain": [
              "Running query in 'duckdb://'"
            ],
            "text/html": [
              "<span style=\"None\">Running query in &#x27;duckdb://&#x27;</span>"
            ]
          },
          "metadata": {}
        },
        {
          "output_type": "execute_result",
          "data": {
            "text/plain": [
              "+----+----------------+----------+-----------+---------+-------+---------------+\n",
              "| id |      nome      | cargo_id | cidade_id | salario | idade | data_admissao |\n",
              "+----+----------------+----------+-----------+---------+-------+---------------+\n",
              "| 1  |   Ana Souza    |    1     |     1     | 6500.00 |   29  |   2020-05-10  |\n",
              "| 2  |   João Lima    |    2     |     2     | 7200.00 |   33  |   2018-03-14  |\n",
              "| 3  |  Maria Santos  |    4     |     3     | 4800.00 |   26  |   2021-09-01  |\n",
              "| 5  | Júlia Martins  |    6     |     4     | 5800.00 |   30  |   2019-06-18  |\n",
              "| 6  | Lucas Almeida  |    2     |     5     | 7100.00 |   28  |   2020-11-05  |\n",
              "| 7  |   Carla Dias   |    5     |     1     | 8500.00 |   35  |   2016-02-27  |\n",
              "| 8  |  Rafael Gomes  |    1     |     3     | 6700.00 |   27  |   2022-01-15  |\n",
              "| 10 | Bruno Ferreira |    2     |     2     | 7500.00 |   31  |   2017-04-30  |\n",
              "+----+----------------+----------+-----------+---------+-------+---------------+"
            ],
            "text/html": [
              "<table>\n",
              "    <thead>\n",
              "        <tr>\n",
              "            <th>id</th>\n",
              "            <th>nome</th>\n",
              "            <th>cargo_id</th>\n",
              "            <th>cidade_id</th>\n",
              "            <th>salario</th>\n",
              "            <th>idade</th>\n",
              "            <th>data_admissao</th>\n",
              "        </tr>\n",
              "    </thead>\n",
              "    <tbody>\n",
              "        <tr>\n",
              "            <td>1</td>\n",
              "            <td>Ana Souza</td>\n",
              "            <td>1</td>\n",
              "            <td>1</td>\n",
              "            <td>6500.00</td>\n",
              "            <td>29</td>\n",
              "            <td>2020-05-10</td>\n",
              "        </tr>\n",
              "        <tr>\n",
              "            <td>2</td>\n",
              "            <td>João Lima</td>\n",
              "            <td>2</td>\n",
              "            <td>2</td>\n",
              "            <td>7200.00</td>\n",
              "            <td>33</td>\n",
              "            <td>2018-03-14</td>\n",
              "        </tr>\n",
              "        <tr>\n",
              "            <td>3</td>\n",
              "            <td>Maria Santos</td>\n",
              "            <td>4</td>\n",
              "            <td>3</td>\n",
              "            <td>4800.00</td>\n",
              "            <td>26</td>\n",
              "            <td>2021-09-01</td>\n",
              "        </tr>\n",
              "        <tr>\n",
              "            <td>5</td>\n",
              "            <td>Júlia Martins</td>\n",
              "            <td>6</td>\n",
              "            <td>4</td>\n",
              "            <td>5800.00</td>\n",
              "            <td>30</td>\n",
              "            <td>2019-06-18</td>\n",
              "        </tr>\n",
              "        <tr>\n",
              "            <td>6</td>\n",
              "            <td>Lucas Almeida</td>\n",
              "            <td>2</td>\n",
              "            <td>5</td>\n",
              "            <td>7100.00</td>\n",
              "            <td>28</td>\n",
              "            <td>2020-11-05</td>\n",
              "        </tr>\n",
              "        <tr>\n",
              "            <td>7</td>\n",
              "            <td>Carla Dias</td>\n",
              "            <td>5</td>\n",
              "            <td>1</td>\n",
              "            <td>8500.00</td>\n",
              "            <td>35</td>\n",
              "            <td>2016-02-27</td>\n",
              "        </tr>\n",
              "        <tr>\n",
              "            <td>8</td>\n",
              "            <td>Rafael Gomes</td>\n",
              "            <td>1</td>\n",
              "            <td>3</td>\n",
              "            <td>6700.00</td>\n",
              "            <td>27</td>\n",
              "            <td>2022-01-15</td>\n",
              "        </tr>\n",
              "        <tr>\n",
              "            <td>10</td>\n",
              "            <td>Bruno Ferreira</td>\n",
              "            <td>2</td>\n",
              "            <td>2</td>\n",
              "            <td>7500.00</td>\n",
              "            <td>31</td>\n",
              "            <td>2017-04-30</td>\n",
              "        </tr>\n",
              "    </tbody>\n",
              "</table>"
            ]
          },
          "metadata": {},
          "execution_count": 17
        }
      ]
    },
    {
      "cell_type": "markdown",
      "source": [
        "**Funcionários admitidos após 2020**"
      ],
      "metadata": {
        "id": "MFM5iRmMoJ7I"
      },
      "id": "MFM5iRmMoJ7I"
    },
    {
      "cell_type": "code",
      "source": [
        "%%sql\n",
        "SELECT * FROM funcionarios WHERE data_admissao > '2020-12-31';"
      ],
      "metadata": {
        "colab": {
          "base_uri": "https://localhost:8080/",
          "height": 120
        },
        "id": "QGcEu1AdoKJr",
        "outputId": "44d5a492-bb40-4a2c-a9de-6035f400f8ae"
      },
      "id": "QGcEu1AdoKJr",
      "execution_count": 18,
      "outputs": [
        {
          "output_type": "display_data",
          "data": {
            "text/plain": [
              "Running query in 'duckdb://'"
            ],
            "text/html": [
              "<span style=\"None\">Running query in &#x27;duckdb://&#x27;</span>"
            ]
          },
          "metadata": {}
        },
        {
          "output_type": "execute_result",
          "data": {
            "text/plain": [
              "+----+----------------+----------+-----------+---------+-------+---------------+\n",
              "| id |      nome      | cargo_id | cidade_id | salario | idade | data_admissao |\n",
              "+----+----------------+----------+-----------+---------+-------+---------------+\n",
              "| 3  |  Maria Santos  |    4     |     3     | 4800.00 |   26  |   2021-09-01  |\n",
              "| 8  |  Rafael Gomes  |    1     |     3     | 6700.00 |   27  |   2022-01-15  |\n",
              "| 9  | Fernanda Costa |    7     |     6     | 2200.00 |   22  |   2023-03-10  |\n",
              "+----+----------------+----------+-----------+---------+-------+---------------+"
            ],
            "text/html": [
              "<table>\n",
              "    <thead>\n",
              "        <tr>\n",
              "            <th>id</th>\n",
              "            <th>nome</th>\n",
              "            <th>cargo_id</th>\n",
              "            <th>cidade_id</th>\n",
              "            <th>salario</th>\n",
              "            <th>idade</th>\n",
              "            <th>data_admissao</th>\n",
              "        </tr>\n",
              "    </thead>\n",
              "    <tbody>\n",
              "        <tr>\n",
              "            <td>3</td>\n",
              "            <td>Maria Santos</td>\n",
              "            <td>4</td>\n",
              "            <td>3</td>\n",
              "            <td>4800.00</td>\n",
              "            <td>26</td>\n",
              "            <td>2021-09-01</td>\n",
              "        </tr>\n",
              "        <tr>\n",
              "            <td>8</td>\n",
              "            <td>Rafael Gomes</td>\n",
              "            <td>1</td>\n",
              "            <td>3</td>\n",
              "            <td>6700.00</td>\n",
              "            <td>27</td>\n",
              "            <td>2022-01-15</td>\n",
              "        </tr>\n",
              "        <tr>\n",
              "            <td>9</td>\n",
              "            <td>Fernanda Costa</td>\n",
              "            <td>7</td>\n",
              "            <td>6</td>\n",
              "            <td>2200.00</td>\n",
              "            <td>22</td>\n",
              "            <td>2023-03-10</td>\n",
              "        </tr>\n",
              "    </tbody>\n",
              "</table>"
            ]
          },
          "metadata": {},
          "execution_count": 18
        }
      ]
    },
    {
      "cell_type": "markdown",
      "source": [
        "**Top 3 maiores salários**"
      ],
      "metadata": {
        "id": "xw5Cw9tKoWlM"
      },
      "id": "xw5Cw9tKoWlM"
    },
    {
      "cell_type": "code",
      "source": [
        "%%sql\n",
        "SELECT * FROM funcionarios ORDER BY salario DESC LIMIT 3;"
      ],
      "metadata": {
        "colab": {
          "base_uri": "https://localhost:8080/",
          "height": 120
        },
        "id": "xxZTNya0oXBD",
        "outputId": "f52cbc40-3b89-4167-8baf-3e735ea1093b"
      },
      "id": "xxZTNya0oXBD",
      "execution_count": 19,
      "outputs": [
        {
          "output_type": "display_data",
          "data": {
            "text/plain": [
              "Running query in 'duckdb://'"
            ],
            "text/html": [
              "<span style=\"None\">Running query in &#x27;duckdb://&#x27;</span>"
            ]
          },
          "metadata": {}
        },
        {
          "output_type": "execute_result",
          "data": {
            "text/plain": [
              "+----+----------------+----------+-----------+---------+-------+---------------+\n",
              "| id |      nome      | cargo_id | cidade_id | salario | idade | data_admissao |\n",
              "+----+----------------+----------+-----------+---------+-------+---------------+\n",
              "| 4  | Pedro Oliveira |    3     |     1     | 9500.00 |   41  |   2015-01-22  |\n",
              "| 7  |   Carla Dias   |    5     |     1     | 8500.00 |   35  |   2016-02-27  |\n",
              "| 10 | Bruno Ferreira |    2     |     2     | 7500.00 |   31  |   2017-04-30  |\n",
              "+----+----------------+----------+-----------+---------+-------+---------------+"
            ],
            "text/html": [
              "<table>\n",
              "    <thead>\n",
              "        <tr>\n",
              "            <th>id</th>\n",
              "            <th>nome</th>\n",
              "            <th>cargo_id</th>\n",
              "            <th>cidade_id</th>\n",
              "            <th>salario</th>\n",
              "            <th>idade</th>\n",
              "            <th>data_admissao</th>\n",
              "        </tr>\n",
              "    </thead>\n",
              "    <tbody>\n",
              "        <tr>\n",
              "            <td>4</td>\n",
              "            <td>Pedro Oliveira</td>\n",
              "            <td>3</td>\n",
              "            <td>1</td>\n",
              "            <td>9500.00</td>\n",
              "            <td>41</td>\n",
              "            <td>2015-01-22</td>\n",
              "        </tr>\n",
              "        <tr>\n",
              "            <td>7</td>\n",
              "            <td>Carla Dias</td>\n",
              "            <td>5</td>\n",
              "            <td>1</td>\n",
              "            <td>8500.00</td>\n",
              "            <td>35</td>\n",
              "            <td>2016-02-27</td>\n",
              "        </tr>\n",
              "        <tr>\n",
              "            <td>10</td>\n",
              "            <td>Bruno Ferreira</td>\n",
              "            <td>2</td>\n",
              "            <td>2</td>\n",
              "            <td>7500.00</td>\n",
              "            <td>31</td>\n",
              "            <td>2017-04-30</td>\n",
              "        </tr>\n",
              "    </tbody>\n",
              "</table>"
            ]
          },
          "metadata": {},
          "execution_count": 19
        }
      ]
    },
    {
      "cell_type": "markdown",
      "source": [
        "# Consultas sobre Departamentos"
      ],
      "metadata": {
        "id": "qjXC4LVzmFbi"
      },
      "id": "qjXC4LVzmFbi"
    },
    {
      "cell_type": "markdown",
      "source": [
        "**Listar todos os departamentos**"
      ],
      "metadata": {
        "id": "FzT6aqito4_V"
      },
      "id": "FzT6aqito4_V"
    },
    {
      "cell_type": "code",
      "source": [
        "%%sql\n",
        "SELECT * FROM departamentos;"
      ],
      "metadata": {
        "colab": {
          "base_uri": "https://localhost:8080/",
          "height": 120
        },
        "id": "FSDchKeBo5M_",
        "outputId": "9cc8141f-10f4-48af-d81a-c95c599c9dbf"
      },
      "id": "FSDchKeBo5M_",
      "execution_count": 20,
      "outputs": [
        {
          "output_type": "display_data",
          "data": {
            "text/plain": [
              "Running query in 'duckdb://'"
            ],
            "text/html": [
              "<span style=\"None\">Running query in &#x27;duckdb://&#x27;</span>"
            ]
          },
          "metadata": {}
        },
        {
          "output_type": "execute_result",
          "data": {
            "text/plain": [
              "+----+------------+\n",
              "| id |    nome    |\n",
              "+----+------------+\n",
              "| 1  |     TI     |\n",
              "| 2  | Marketing  |\n",
              "| 3  | Financeiro |\n",
              "+----+------------+"
            ],
            "text/html": [
              "<table>\n",
              "    <thead>\n",
              "        <tr>\n",
              "            <th>id</th>\n",
              "            <th>nome</th>\n",
              "        </tr>\n",
              "    </thead>\n",
              "    <tbody>\n",
              "        <tr>\n",
              "            <td>1</td>\n",
              "            <td>TI</td>\n",
              "        </tr>\n",
              "        <tr>\n",
              "            <td>2</td>\n",
              "            <td>Marketing</td>\n",
              "        </tr>\n",
              "        <tr>\n",
              "            <td>3</td>\n",
              "            <td>Financeiro</td>\n",
              "        </tr>\n",
              "    </tbody>\n",
              "</table>"
            ]
          },
          "metadata": {},
          "execution_count": 20
        }
      ]
    },
    {
      "cell_type": "markdown",
      "source": [
        "**Média salarial por departamento**"
      ],
      "metadata": {
        "id": "ABTlip4co_s_"
      },
      "id": "ABTlip4co_s_"
    },
    {
      "cell_type": "code",
      "source": [
        "%%sql\n",
        "SELECT d.nome AS departamento, AVG(f.salario) AS media_salarial\n",
        "FROM funcionarios f\n",
        "JOIN cargos c ON f.cargo_id = c.id\n",
        "JOIN departamentos d ON c.departamento_id = d.id\n",
        "GROUP BY d.nome;"
      ],
      "metadata": {
        "colab": {
          "base_uri": "https://localhost:8080/",
          "height": 120
        },
        "id": "XEnU6yQfpAE3",
        "outputId": "3c98a5f2-d0a9-4b46-b4f6-78993c5b1063"
      },
      "id": "XEnU6yQfpAE3",
      "execution_count": 22,
      "outputs": [
        {
          "output_type": "display_data",
          "data": {
            "text/plain": [
              "Running query in 'duckdb://'"
            ],
            "text/html": [
              "<span style=\"None\">Running query in &#x27;duckdb://&#x27;</span>"
            ]
          },
          "metadata": {}
        },
        {
          "output_type": "execute_result",
          "data": {
            "text/plain": [
              "+--------------+-------------------+\n",
              "| departamento |   media_salarial  |\n",
              "+--------------+-------------------+\n",
              "|      TI      | 7416.666666666667 |\n",
              "|  Marketing   |       6650.0      |\n",
              "|  Financeiro  |       4000.0      |\n",
              "+--------------+-------------------+"
            ],
            "text/html": [
              "<table>\n",
              "    <thead>\n",
              "        <tr>\n",
              "            <th>departamento</th>\n",
              "            <th>media_salarial</th>\n",
              "        </tr>\n",
              "    </thead>\n",
              "    <tbody>\n",
              "        <tr>\n",
              "            <td>TI</td>\n",
              "            <td>7416.666666666667</td>\n",
              "        </tr>\n",
              "        <tr>\n",
              "            <td>Marketing</td>\n",
              "            <td>6650.0</td>\n",
              "        </tr>\n",
              "        <tr>\n",
              "            <td>Financeiro</td>\n",
              "            <td>4000.0</td>\n",
              "        </tr>\n",
              "    </tbody>\n",
              "</table>"
            ]
          },
          "metadata": {},
          "execution_count": 22
        }
      ]
    },
    {
      "cell_type": "markdown",
      "source": [
        "**Funcionários do departamento de TI**"
      ],
      "metadata": {
        "id": "l3hku89CpIWZ"
      },
      "id": "l3hku89CpIWZ"
    },
    {
      "cell_type": "code",
      "source": [
        "%%sql\n",
        "SELECT f.nome, c.nome AS cargo\n",
        "FROM funcionarios f\n",
        "JOIN cargos c ON f.cargo_id = c.id\n",
        "JOIN departamentos d ON c.departamento_id = d.id\n",
        "WHERE d.nome = 'TI';"
      ],
      "metadata": {
        "colab": {
          "base_uri": "https://localhost:8080/",
          "height": 183
        },
        "id": "jQuSC0FppIog",
        "outputId": "b9474456-78ab-43ac-e925-c56d1297a29a"
      },
      "id": "jQuSC0FppIog",
      "execution_count": 24,
      "outputs": [
        {
          "output_type": "display_data",
          "data": {
            "text/plain": [
              "Running query in 'duckdb://'"
            ],
            "text/html": [
              "<span style=\"None\">Running query in &#x27;duckdb://&#x27;</span>"
            ]
          },
          "metadata": {}
        },
        {
          "output_type": "execute_result",
          "data": {
            "text/plain": [
              "+----------------+---------------------+\n",
              "|      nome      |        cargo        |\n",
              "+----------------+---------------------+\n",
              "|   Ana Souza    |  Analista de Dados  |\n",
              "|   João Lima    |    Desenvolvedor    |\n",
              "| Pedro Oliveira | Gerente de Projetos |\n",
              "| Lucas Almeida  |    Desenvolvedor    |\n",
              "|  Rafael Gomes  |  Analista de Dados  |\n",
              "| Bruno Ferreira |    Desenvolvedor    |\n",
              "+----------------+---------------------+"
            ],
            "text/html": [
              "<table>\n",
              "    <thead>\n",
              "        <tr>\n",
              "            <th>nome</th>\n",
              "            <th>cargo</th>\n",
              "        </tr>\n",
              "    </thead>\n",
              "    <tbody>\n",
              "        <tr>\n",
              "            <td>Ana Souza</td>\n",
              "            <td>Analista de Dados</td>\n",
              "        </tr>\n",
              "        <tr>\n",
              "            <td>João Lima</td>\n",
              "            <td>Desenvolvedor</td>\n",
              "        </tr>\n",
              "        <tr>\n",
              "            <td>Pedro Oliveira</td>\n",
              "            <td>Gerente de Projetos</td>\n",
              "        </tr>\n",
              "        <tr>\n",
              "            <td>Lucas Almeida</td>\n",
              "            <td>Desenvolvedor</td>\n",
              "        </tr>\n",
              "        <tr>\n",
              "            <td>Rafael Gomes</td>\n",
              "            <td>Analista de Dados</td>\n",
              "        </tr>\n",
              "        <tr>\n",
              "            <td>Bruno Ferreira</td>\n",
              "            <td>Desenvolvedor</td>\n",
              "        </tr>\n",
              "    </tbody>\n",
              "</table>"
            ]
          },
          "metadata": {},
          "execution_count": 24
        }
      ]
    },
    {
      "cell_type": "markdown",
      "source": [
        "**Funcionários cujo cargo contém \"Analista\"**"
      ],
      "metadata": {
        "id": "FMjXlEccpTPP"
      },
      "id": "FMjXlEccpTPP"
    },
    {
      "cell_type": "code",
      "source": [
        "%%sql\n",
        "SELECT f.*\n",
        "FROM funcionarios f\n",
        "JOIN cargos c ON f.cargo_id = c.id\n",
        "WHERE c.nome LIKE '%Analista%';"
      ],
      "metadata": {
        "colab": {
          "base_uri": "https://localhost:8080/",
          "height": 120
        },
        "id": "sMRcEIKtpTZx",
        "outputId": "93da120b-fd0c-479d-a17c-a2debe2ffc94"
      },
      "id": "sMRcEIKtpTZx",
      "execution_count": 26,
      "outputs": [
        {
          "output_type": "display_data",
          "data": {
            "text/plain": [
              "Running query in 'duckdb://'"
            ],
            "text/html": [
              "<span style=\"None\">Running query in &#x27;duckdb://&#x27;</span>"
            ]
          },
          "metadata": {}
        },
        {
          "output_type": "execute_result",
          "data": {
            "text/plain": [
              "+----+---------------+----------+-----------+---------+-------+---------------+\n",
              "| id |      nome     | cargo_id | cidade_id | salario | idade | data_admissao |\n",
              "+----+---------------+----------+-----------+---------+-------+---------------+\n",
              "| 1  |   Ana Souza   |    1     |     1     | 6500.00 |   29  |   2020-05-10  |\n",
              "| 5  | Júlia Martins |    6     |     4     | 5800.00 |   30  |   2019-06-18  |\n",
              "| 8  |  Rafael Gomes |    1     |     3     | 6700.00 |   27  |   2022-01-15  |\n",
              "+----+---------------+----------+-----------+---------+-------+---------------+"
            ],
            "text/html": [
              "<table>\n",
              "    <thead>\n",
              "        <tr>\n",
              "            <th>id</th>\n",
              "            <th>nome</th>\n",
              "            <th>cargo_id</th>\n",
              "            <th>cidade_id</th>\n",
              "            <th>salario</th>\n",
              "            <th>idade</th>\n",
              "            <th>data_admissao</th>\n",
              "        </tr>\n",
              "    </thead>\n",
              "    <tbody>\n",
              "        <tr>\n",
              "            <td>1</td>\n",
              "            <td>Ana Souza</td>\n",
              "            <td>1</td>\n",
              "            <td>1</td>\n",
              "            <td>6500.00</td>\n",
              "            <td>29</td>\n",
              "            <td>2020-05-10</td>\n",
              "        </tr>\n",
              "        <tr>\n",
              "            <td>5</td>\n",
              "            <td>Júlia Martins</td>\n",
              "            <td>6</td>\n",
              "            <td>4</td>\n",
              "            <td>5800.00</td>\n",
              "            <td>30</td>\n",
              "            <td>2019-06-18</td>\n",
              "        </tr>\n",
              "        <tr>\n",
              "            <td>8</td>\n",
              "            <td>Rafael Gomes</td>\n",
              "            <td>1</td>\n",
              "            <td>3</td>\n",
              "            <td>6700.00</td>\n",
              "            <td>27</td>\n",
              "            <td>2022-01-15</td>\n",
              "        </tr>\n",
              "    </tbody>\n",
              "</table>"
            ]
          },
          "metadata": {},
          "execution_count": 26
        }
      ]
    },
    {
      "cell_type": "markdown",
      "source": [
        "**Atualizar salários do departamento de TI para 7000**"
      ],
      "metadata": {
        "id": "JNJDcGxnpbyZ"
      },
      "id": "JNJDcGxnpbyZ"
    },
    {
      "cell_type": "code",
      "source": [
        "%%sql\n",
        "UPDATE funcionarios f\n",
        "SET salario = 7000\n",
        "FROM cargos c\n",
        "WHERE f.cargo_id = c.id\n",
        "  AND c.departamento_id = 1;"
      ],
      "metadata": {
        "colab": {
          "base_uri": "https://localhost:8080/",
          "height": 57
        },
        "id": "QuNtArb0pb8i",
        "outputId": "49694a77-1eac-49f6-f211-5ee9e505fa08"
      },
      "id": "QuNtArb0pb8i",
      "execution_count": 28,
      "outputs": [
        {
          "output_type": "display_data",
          "data": {
            "text/plain": [
              "Running query in 'duckdb://'"
            ],
            "text/html": [
              "<span style=\"None\">Running query in &#x27;duckdb://&#x27;</span>"
            ]
          },
          "metadata": {}
        },
        {
          "output_type": "execute_result",
          "data": {
            "text/plain": [
              "+-------+\n",
              "| Count |\n",
              "+-------+\n",
              "+-------+"
            ],
            "text/html": [
              "<table>\n",
              "    <thead>\n",
              "        <tr>\n",
              "            <th>Count</th>\n",
              "        </tr>\n",
              "    </thead>\n",
              "    <tbody>\n",
              "    </tbody>\n",
              "</table>"
            ]
          },
          "metadata": {},
          "execution_count": 28
        }
      ]
    },
    {
      "cell_type": "markdown",
      "source": [
        "# Consulta sobre localidades"
      ],
      "metadata": {
        "id": "JRgq3gN5nj4n"
      },
      "id": "JRgq3gN5nj4n"
    },
    {
      "cell_type": "markdown",
      "source": [
        "**Listar todas as cidades**"
      ],
      "metadata": {
        "id": "C6B419lQpkyy"
      },
      "id": "C6B419lQpkyy"
    },
    {
      "cell_type": "code",
      "source": [
        "%%sql\n",
        "SELECT * FROM cidades;"
      ],
      "metadata": {
        "colab": {
          "base_uri": "https://localhost:8080/",
          "height": 183
        },
        "id": "EAB2xfrOplBE",
        "outputId": "38e4f3da-bcff-4df0-d6de-dd74c80cef69"
      },
      "id": "EAB2xfrOplBE",
      "execution_count": 29,
      "outputs": [
        {
          "output_type": "display_data",
          "data": {
            "text/plain": [
              "Running query in 'duckdb://'"
            ],
            "text/html": [
              "<span style=\"None\">Running query in &#x27;duckdb://&#x27;</span>"
            ]
          },
          "metadata": {}
        },
        {
          "output_type": "execute_result",
          "data": {
            "text/plain": [
              "+----+----------------+\n",
              "| id |      nome      |\n",
              "+----+----------------+\n",
              "| 1  |   São Paulo    |\n",
              "| 2  | Rio de Janeiro |\n",
              "| 3  |    Curitiba    |\n",
              "| 4  | Belo Horizonte |\n",
              "| 5  |  Porto Alegre  |\n",
              "| 6  |     Recife     |\n",
              "+----+----------------+"
            ],
            "text/html": [
              "<table>\n",
              "    <thead>\n",
              "        <tr>\n",
              "            <th>id</th>\n",
              "            <th>nome</th>\n",
              "        </tr>\n",
              "    </thead>\n",
              "    <tbody>\n",
              "        <tr>\n",
              "            <td>1</td>\n",
              "            <td>São Paulo</td>\n",
              "        </tr>\n",
              "        <tr>\n",
              "            <td>2</td>\n",
              "            <td>Rio de Janeiro</td>\n",
              "        </tr>\n",
              "        <tr>\n",
              "            <td>3</td>\n",
              "            <td>Curitiba</td>\n",
              "        </tr>\n",
              "        <tr>\n",
              "            <td>4</td>\n",
              "            <td>Belo Horizonte</td>\n",
              "        </tr>\n",
              "        <tr>\n",
              "            <td>5</td>\n",
              "            <td>Porto Alegre</td>\n",
              "        </tr>\n",
              "        <tr>\n",
              "            <td>6</td>\n",
              "            <td>Recife</td>\n",
              "        </tr>\n",
              "    </tbody>\n",
              "</table>"
            ]
          },
          "metadata": {},
          "execution_count": 29
        }
      ]
    },
    {
      "cell_type": "markdown",
      "source": [
        "**Nomes distintos das cidades**"
      ],
      "metadata": {
        "id": "2NCwit3Ipp1i"
      },
      "id": "2NCwit3Ipp1i"
    },
    {
      "cell_type": "code",
      "source": [
        "%%sql\n",
        "SELECT DISTINCT nome FROM cidades;"
      ],
      "metadata": {
        "colab": {
          "base_uri": "https://localhost:8080/",
          "height": 183
        },
        "id": "-ToI-cOgpqBj",
        "outputId": "f892491c-e84f-486c-83b8-62051d024e8c"
      },
      "id": "-ToI-cOgpqBj",
      "execution_count": 30,
      "outputs": [
        {
          "output_type": "display_data",
          "data": {
            "text/plain": [
              "Running query in 'duckdb://'"
            ],
            "text/html": [
              "<span style=\"None\">Running query in &#x27;duckdb://&#x27;</span>"
            ]
          },
          "metadata": {}
        },
        {
          "output_type": "execute_result",
          "data": {
            "text/plain": [
              "+----------------+\n",
              "|      nome      |\n",
              "+----------------+\n",
              "|   São Paulo    |\n",
              "| Rio de Janeiro |\n",
              "|    Curitiba    |\n",
              "| Belo Horizonte |\n",
              "|     Recife     |\n",
              "|  Porto Alegre  |\n",
              "+----------------+"
            ],
            "text/html": [
              "<table>\n",
              "    <thead>\n",
              "        <tr>\n",
              "            <th>nome</th>\n",
              "        </tr>\n",
              "    </thead>\n",
              "    <tbody>\n",
              "        <tr>\n",
              "            <td>São Paulo</td>\n",
              "        </tr>\n",
              "        <tr>\n",
              "            <td>Rio de Janeiro</td>\n",
              "        </tr>\n",
              "        <tr>\n",
              "            <td>Curitiba</td>\n",
              "        </tr>\n",
              "        <tr>\n",
              "            <td>Belo Horizonte</td>\n",
              "        </tr>\n",
              "        <tr>\n",
              "            <td>Recife</td>\n",
              "        </tr>\n",
              "        <tr>\n",
              "            <td>Porto Alegre</td>\n",
              "        </tr>\n",
              "    </tbody>\n",
              "</table>"
            ]
          },
          "metadata": {},
          "execution_count": 30
        }
      ]
    },
    {
      "cell_type": "markdown",
      "source": [
        "**Funcionários que trabalham em São Paulo ou Curitiba**"
      ],
      "metadata": {
        "id": "YX_cZMRYpwVd"
      },
      "id": "YX_cZMRYpwVd"
    },
    {
      "cell_type": "code",
      "source": [
        "%%sql\n",
        "SELECT f.nome, ci.nome AS cidade\n",
        "FROM funcionarios f\n",
        "JOIN cidades ci ON f.cidade_id = ci.id\n",
        "WHERE ci.nome IN ('São Paulo', 'Curitiba');"
      ],
      "metadata": {
        "colab": {
          "base_uri": "https://localhost:8080/",
          "height": 162
        },
        "id": "1jgbR6F3pwgc",
        "outputId": "018f71d3-8ff9-423f-a133-fb0527908506"
      },
      "id": "1jgbR6F3pwgc",
      "execution_count": 32,
      "outputs": [
        {
          "output_type": "display_data",
          "data": {
            "text/plain": [
              "Running query in 'duckdb://'"
            ],
            "text/html": [
              "<span style=\"None\">Running query in &#x27;duckdb://&#x27;</span>"
            ]
          },
          "metadata": {}
        },
        {
          "output_type": "execute_result",
          "data": {
            "text/plain": [
              "+----------------+-----------+\n",
              "|      nome      |   cidade  |\n",
              "+----------------+-----------+\n",
              "|   Ana Souza    | São Paulo |\n",
              "|  Maria Santos  |  Curitiba |\n",
              "| Pedro Oliveira | São Paulo |\n",
              "|   Carla Dias   | São Paulo |\n",
              "|  Rafael Gomes  |  Curitiba |\n",
              "+----------------+-----------+"
            ],
            "text/html": [
              "<table>\n",
              "    <thead>\n",
              "        <tr>\n",
              "            <th>nome</th>\n",
              "            <th>cidade</th>\n",
              "        </tr>\n",
              "    </thead>\n",
              "    <tbody>\n",
              "        <tr>\n",
              "            <td>Ana Souza</td>\n",
              "            <td>São Paulo</td>\n",
              "        </tr>\n",
              "        <tr>\n",
              "            <td>Maria Santos</td>\n",
              "            <td>Curitiba</td>\n",
              "        </tr>\n",
              "        <tr>\n",
              "            <td>Pedro Oliveira</td>\n",
              "            <td>São Paulo</td>\n",
              "        </tr>\n",
              "        <tr>\n",
              "            <td>Carla Dias</td>\n",
              "            <td>São Paulo</td>\n",
              "        </tr>\n",
              "        <tr>\n",
              "            <td>Rafael Gomes</td>\n",
              "            <td>Curitiba</td>\n",
              "        </tr>\n",
              "    </tbody>\n",
              "</table>"
            ]
          },
          "metadata": {},
          "execution_count": 32
        }
      ]
    },
    {
      "cell_type": "markdown",
      "source": [
        "**Média salarial por cidade**"
      ],
      "metadata": {
        "id": "L4_vlQWZp3c0"
      },
      "id": "L4_vlQWZp3c0"
    },
    {
      "cell_type": "code",
      "source": [
        "%%sql\n",
        "SELECT ci.nome AS cidade, AVG(f.salario) AS media_salarial\n",
        "FROM funcionarios f\n",
        "JOIN cidades ci ON f.cidade_id = ci.id\n",
        "GROUP BY ci.nome;"
      ],
      "metadata": {
        "colab": {
          "base_uri": "https://localhost:8080/",
          "height": 183
        },
        "id": "GN94Wtqjp3nh",
        "outputId": "19ceb1be-5e62-48b4-8401-acafd403fea8"
      },
      "id": "GN94Wtqjp3nh",
      "execution_count": 34,
      "outputs": [
        {
          "output_type": "display_data",
          "data": {
            "text/plain": [
              "Running query in 'duckdb://'"
            ],
            "text/html": [
              "<span style=\"None\">Running query in &#x27;duckdb://&#x27;</span>"
            ]
          },
          "metadata": {}
        },
        {
          "output_type": "execute_result",
          "data": {
            "text/plain": [
              "+----------------+----------------+\n",
              "|     cidade     | media_salarial |\n",
              "+----------------+----------------+\n",
              "|   São Paulo    |     7500.0     |\n",
              "| Rio de Janeiro |     7000.0     |\n",
              "|    Curitiba    |     5900.0     |\n",
              "| Belo Horizonte |     5800.0     |\n",
              "|     Recife     |     2200.0     |\n",
              "|  Porto Alegre  |     7000.0     |\n",
              "+----------------+----------------+"
            ],
            "text/html": [
              "<table>\n",
              "    <thead>\n",
              "        <tr>\n",
              "            <th>cidade</th>\n",
              "            <th>media_salarial</th>\n",
              "        </tr>\n",
              "    </thead>\n",
              "    <tbody>\n",
              "        <tr>\n",
              "            <td>São Paulo</td>\n",
              "            <td>7500.0</td>\n",
              "        </tr>\n",
              "        <tr>\n",
              "            <td>Rio de Janeiro</td>\n",
              "            <td>7000.0</td>\n",
              "        </tr>\n",
              "        <tr>\n",
              "            <td>Curitiba</td>\n",
              "            <td>5900.0</td>\n",
              "        </tr>\n",
              "        <tr>\n",
              "            <td>Belo Horizonte</td>\n",
              "            <td>5800.0</td>\n",
              "        </tr>\n",
              "        <tr>\n",
              "            <td>Recife</td>\n",
              "            <td>2200.0</td>\n",
              "        </tr>\n",
              "        <tr>\n",
              "            <td>Porto Alegre</td>\n",
              "            <td>7000.0</td>\n",
              "        </tr>\n",
              "    </tbody>\n",
              "</table>"
            ]
          },
          "metadata": {},
          "execution_count": 34
        }
      ]
    },
    {
      "cell_type": "markdown",
      "source": [
        "**Contagem de funcionários por cidade**"
      ],
      "metadata": {
        "id": "JAvq04iup9GP"
      },
      "id": "JAvq04iup9GP"
    },
    {
      "cell_type": "code",
      "source": [
        "%%sql\n",
        "SELECT ci.nome AS cidade, COUNT(*) AS total_funcionarios\n",
        "FROM funcionarios f\n",
        "JOIN cidades ci ON f.cidade_id = ci.id\n",
        "GROUP BY ci.nome;"
      ],
      "metadata": {
        "colab": {
          "base_uri": "https://localhost:8080/",
          "height": 183
        },
        "id": "o1wVcotEp9Od",
        "outputId": "c05be006-19ae-442d-f66f-1a840105af8b"
      },
      "id": "o1wVcotEp9Od",
      "execution_count": 35,
      "outputs": [
        {
          "output_type": "display_data",
          "data": {
            "text/plain": [
              "Running query in 'duckdb://'"
            ],
            "text/html": [
              "<span style=\"None\">Running query in &#x27;duckdb://&#x27;</span>"
            ]
          },
          "metadata": {}
        },
        {
          "output_type": "execute_result",
          "data": {
            "text/plain": [
              "+----------------+--------------------+\n",
              "|     cidade     | total_funcionarios |\n",
              "+----------------+--------------------+\n",
              "|   São Paulo    |         3          |\n",
              "| Rio de Janeiro |         2          |\n",
              "|    Curitiba    |         2          |\n",
              "| Belo Horizonte |         1          |\n",
              "|     Recife     |         1          |\n",
              "|  Porto Alegre  |         1          |\n",
              "+----------------+--------------------+"
            ],
            "text/html": [
              "<table>\n",
              "    <thead>\n",
              "        <tr>\n",
              "            <th>cidade</th>\n",
              "            <th>total_funcionarios</th>\n",
              "        </tr>\n",
              "    </thead>\n",
              "    <tbody>\n",
              "        <tr>\n",
              "            <td>São Paulo</td>\n",
              "            <td>3</td>\n",
              "        </tr>\n",
              "        <tr>\n",
              "            <td>Rio de Janeiro</td>\n",
              "            <td>2</td>\n",
              "        </tr>\n",
              "        <tr>\n",
              "            <td>Curitiba</td>\n",
              "            <td>2</td>\n",
              "        </tr>\n",
              "        <tr>\n",
              "            <td>Belo Horizonte</td>\n",
              "            <td>1</td>\n",
              "        </tr>\n",
              "        <tr>\n",
              "            <td>Recife</td>\n",
              "            <td>1</td>\n",
              "        </tr>\n",
              "        <tr>\n",
              "            <td>Porto Alegre</td>\n",
              "            <td>1</td>\n",
              "        </tr>\n",
              "    </tbody>\n",
              "</table>"
            ]
          },
          "metadata": {},
          "execution_count": 35
        }
      ]
    }
  ],
  "metadata": {
    "kernelspec": {
      "display_name": "Python 3 (ipykernel)",
      "language": "python",
      "name": "python3"
    },
    "language_info": {
      "codemirror_mode": {
        "name": "ipython",
        "version": 3
      },
      "file_extension": ".py",
      "mimetype": "text/x-python",
      "name": "python",
      "nbconvert_exporter": "python",
      "pygments_lexer": "ipython3",
      "version": "3.10.12"
    },
    "colab": {
      "provenance": []
    }
  },
  "nbformat": 4,
  "nbformat_minor": 5
}